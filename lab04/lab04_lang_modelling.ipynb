{
 "cells": [
  {
   "cell_type": "markdown",
   "metadata": {},
   "source": [
    "#### 1. Use SpaCy tokenizer API to tokenize the text from the law corpus."
   ]
  },
  {
   "cell_type": "code",
   "execution_count": 1,
   "metadata": {},
   "outputs": [],
   "source": [
    "import glob\n",
    "import pandas as pd\n",
    "import regex\n",
    "import spacy\n",
    "from spacy.tokenizer import Tokenizer\n",
    "from spacy.lang.pl import Polish\n",
    "from spacy.tokens.doc import Doc as SpacyDoc\n",
    "from spacy.tokens.span import Span as SpacySpan\n",
    "\n",
    "nlp = spacy.load(\"pl_core_news_sm\")\n",
    "tokenizer = nlp.tokenizer"
   ]
  },
  {
   "cell_type": "code",
   "execution_count": 2,
   "metadata": {},
   "outputs": [],
   "source": [
    "from typing import Dict"
   ]
  },
  {
   "cell_type": "code",
   "execution_count": 3,
   "metadata": {},
   "outputs": [],
   "source": [
    "def load_bills(\n",
    "    path,\n",
    "    extension= \"txt\"\n",
    "):\n",
    "    paths = glob.glob(f\"{path}/*.{extension}\")\n",
    "    for file_path in paths:\n",
    "        with open(file_path) as f:\n",
    "            yield (\n",
    "                file_path.split(\"/\")[-1],\n",
    "                f.read(),\n",
    "            )\n",
    "\n",
    "bills = list(load_bills(path=\"/Users/mateusz/nlp/bills\"))\n",
    "\n",
    "\n",
    "def normalize(content: str):\n",
    "    return regex.sub(r\"\\s+\", \" \", content.strip().lower())\n",
    "\n",
    "\n",
    "for idx in range(len(bills)):\n",
    "    filename, content = bills[idx]\n",
    "    normalized_content = normalize(content)\n",
    "    tokenized_content = tokenizer(normalized_content)\n",
    "    bills[idx] = (filename, tokenized_content)"
   ]
  },
  {
   "cell_type": "code",
   "execution_count": 4,
   "metadata": {},
   "outputs": [
    {
     "name": "stdout",
     "output_type": "stream",
     "text": [
      "<class 'spacy.tokens.token.Token'>\n",
      "<class 'str'>\n",
      "<class 'spacy.tokens.doc.Doc'>\n"
     ]
    }
   ],
   "source": [
    "print(type(bills[0][1][6]))\n",
    "print(type(bills[0][1][6].text))\n",
    "print(type(bills[0][1]))"
   ]
  },
  {
   "cell_type": "markdown",
   "metadata": {},
   "source": [
    "#### 2. Compute bigram counts of downcased tokens."
   ]
  },
  {
   "cell_type": "code",
   "execution_count": 5,
   "metadata": {},
   "outputs": [
    {
     "data": {
      "text/plain": [
       "spacy.tokens.span.Span"
      ]
     },
     "execution_count": 5,
     "metadata": {},
     "output_type": "execute_result"
    }
   ],
   "source": [
    "type(bills[0][1][1:3])"
   ]
  },
  {
   "cell_type": "code",
   "execution_count": 6,
   "metadata": {},
   "outputs": [],
   "source": [
    "def ngram_moving_window(n: int, tokenized_content: SpacyDoc) -> SpacySpan:\n",
    "    ngrams = []\n",
    "    for idx in range(len(tokenized_content) - n + 1):\n",
    "        ngram = tokenized_content[idx:idx+n]\n",
    "        ngrams.append(str(ngram).rstrip())\n",
    "\n",
    "    return ngrams"
   ]
  },
  {
   "cell_type": "code",
   "execution_count": 7,
   "metadata": {},
   "outputs": [],
   "source": [
    "ngrams = []\n",
    "for (filename, tokenized_bill_content) in bills:\n",
    "    ngrams.extend(ngram_moving_window(2, tokenized_bill_content))"
   ]
  },
  {
   "cell_type": "code",
   "execution_count": 8,
   "metadata": {},
   "outputs": [
    {
     "data": {
      "text/plain": [
       "5222177"
      ]
     },
     "execution_count": 8,
     "metadata": {},
     "output_type": "execute_result"
    }
   ],
   "source": [
    "len(ngrams)"
   ]
  },
  {
   "cell_type": "code",
   "execution_count": 9,
   "metadata": {},
   "outputs": [
    {
     "data": {
      "text/plain": [
       "['dz.u.',\n",
       " '. z',\n",
       " 'z 2001',\n",
       " '2001 r',\n",
       " 'r.',\n",
       " '. nr',\n",
       " 'nr 81',\n",
       " '81,',\n",
       " ', poz',\n",
       " 'poz.']"
      ]
     },
     "execution_count": 9,
     "metadata": {},
     "output_type": "execute_result"
    }
   ],
   "source": [
    "ngrams[0:10]"
   ]
  },
  {
   "cell_type": "code",
   "execution_count": 10,
   "metadata": {},
   "outputs": [],
   "source": [
    "from collections import Counter\n",
    "ngram_counts = Counter(ngrams)"
   ]
  },
  {
   "cell_type": "code",
   "execution_count": 11,
   "metadata": {},
   "outputs": [
    {
     "data": {
      "text/plain": [
       "[('art.', 83778),\n",
       " ('ust.', 53552),\n",
       " ('poz.', 45198),\n",
       " (', poz', 43188),\n",
       " ('. 1', 39543),\n",
       " ('--', 36541),\n",
       " ('r.', 33008),\n",
       " ('w art', 32042),\n",
       " (', o', 29919),\n",
       " ('mowa w', 28471),\n",
       " ('. 2', 26563),\n",
       " ('w ust', 23557),\n",
       " ('. art', 22922),\n",
       " (', w', 22477),\n",
       " ('. nr', 21425)]"
      ]
     },
     "execution_count": 11,
     "metadata": {},
     "output_type": "execute_result"
    }
   ],
   "source": [
    "ngram_counts.most_common(15)"
   ]
  },
  {
   "cell_type": "markdown",
   "metadata": {},
   "source": [
    "#### 3. Discard bigrams containing characters other than letters. Make sure that you discard the invalid entries after computing the bigram counts."
   ]
  },
  {
   "cell_type": "code",
   "execution_count": 12,
   "metadata": {},
   "outputs": [],
   "source": [
    "ngram_counts_valid = {}\n",
    "\n",
    "def is_valid_ngram(ngram: str) -> bool: \n",
    "    return True if regex.search(r\"[^a-zA-Z\\s\\p{L}]\", ngram) is None else False\n",
    "\n",
    "for ngram_count in ngram_counts.items():\n",
    "    ngram, count = ngram_count\n",
    "    if is_valid_ngram(ngram):\n",
    "        ngram_counts_valid[ngram] = count\n",
    "\n",
    "ngram_counts_valid = sorted(ngram_counts_valid.items(), key=lambda x: x[1], reverse=True)"
   ]
  },
  {
   "cell_type": "code",
   "execution_count": 13,
   "metadata": {},
   "outputs": [],
   "source": [
    "df_ngram_counts = pd.DataFrame(ngram_counts_valid, columns=['ngram', 'count'])"
   ]
  },
  {
   "cell_type": "code",
   "execution_count": 15,
   "metadata": {},
   "outputs": [
    {
     "data": {
      "text/html": [
       "<div>\n",
       "<style scoped>\n",
       "    .dataframe tbody tr th:only-of-type {\n",
       "        vertical-align: middle;\n",
       "    }\n",
       "\n",
       "    .dataframe tbody tr th {\n",
       "        vertical-align: top;\n",
       "    }\n",
       "\n",
       "    .dataframe thead th {\n",
       "        text-align: right;\n",
       "    }\n",
       "</style>\n",
       "<table border=\"1\" class=\"dataframe\">\n",
       "  <thead>\n",
       "    <tr style=\"text-align: right;\">\n",
       "      <th></th>\n",
       "      <th>ngram</th>\n",
       "      <th>count</th>\n",
       "    </tr>\n",
       "  </thead>\n",
       "  <tbody>\n",
       "    <tr>\n",
       "      <th>0</th>\n",
       "      <td>w art</td>\n",
       "      <td>32042</td>\n",
       "    </tr>\n",
       "    <tr>\n",
       "      <th>1</th>\n",
       "      <td>mowa w</td>\n",
       "      <td>28471</td>\n",
       "    </tr>\n",
       "    <tr>\n",
       "      <th>2</th>\n",
       "      <td>w ust</td>\n",
       "      <td>23557</td>\n",
       "    </tr>\n",
       "    <tr>\n",
       "      <th>3</th>\n",
       "      <td>o których</td>\n",
       "      <td>13884</td>\n",
       "    </tr>\n",
       "    <tr>\n",
       "      <th>4</th>\n",
       "      <td>których mowa</td>\n",
       "      <td>13857</td>\n",
       "    </tr>\n",
       "    <tr>\n",
       "      <th>5</th>\n",
       "      <td>otrzymuje brzmienie</td>\n",
       "      <td>9553</td>\n",
       "    </tr>\n",
       "    <tr>\n",
       "      <th>6</th>\n",
       "      <td>z dnia</td>\n",
       "      <td>9527</td>\n",
       "    </tr>\n",
       "    <tr>\n",
       "      <th>7</th>\n",
       "      <td>o którym</td>\n",
       "      <td>9184</td>\n",
       "    </tr>\n",
       "    <tr>\n",
       "      <th>8</th>\n",
       "      <td>którym mowa</td>\n",
       "      <td>9171</td>\n",
       "    </tr>\n",
       "    <tr>\n",
       "      <th>9</th>\n",
       "      <td>do spraw</td>\n",
       "      <td>8715</td>\n",
       "    </tr>\n",
       "    <tr>\n",
       "      <th>10</th>\n",
       "      <td>i nr</td>\n",
       "      <td>8435</td>\n",
       "    </tr>\n",
       "    <tr>\n",
       "      <th>11</th>\n",
       "      <td>dodaje się</td>\n",
       "      <td>8195</td>\n",
       "    </tr>\n",
       "    <tr>\n",
       "      <th>12</th>\n",
       "      <td>w brzmieniu</td>\n",
       "      <td>7280</td>\n",
       "    </tr>\n",
       "    <tr>\n",
       "      <th>13</th>\n",
       "      <td>w drodze</td>\n",
       "      <td>7127</td>\n",
       "    </tr>\n",
       "    <tr>\n",
       "      <th>14</th>\n",
       "      <td>na podstawie</td>\n",
       "      <td>6674</td>\n",
       "    </tr>\n",
       "  </tbody>\n",
       "</table>\n",
       "</div>"
      ],
      "text/plain": [
       "                  ngram  count\n",
       "0                 w art  32042\n",
       "1                mowa w  28471\n",
       "2                 w ust  23557\n",
       "3             o których  13884\n",
       "4          których mowa  13857\n",
       "5   otrzymuje brzmienie   9553\n",
       "6                z dnia   9527\n",
       "7              o którym   9184\n",
       "8           którym mowa   9171\n",
       "9              do spraw   8715\n",
       "10                 i nr   8435\n",
       "11           dodaje się   8195\n",
       "12          w brzmieniu   7280\n",
       "13             w drodze   7127\n",
       "14         na podstawie   6674"
      ]
     },
     "execution_count": 15,
     "metadata": {},
     "output_type": "execute_result"
    }
   ],
   "source": [
    "df_ngram_counts.head(15)"
   ]
  },
  {
   "cell_type": "markdown",
   "metadata": {},
   "source": [
    "#### 4. Use pointwise mutual information to compute the measure for all pairs of words."
   ]
  },
  {
   "cell_type": "markdown",
   "metadata": {},
   "source": [
    "Skorzystanie z poprzedniego laboratorium.\n",
    "Określenie liczby wystąpień każdego tokenu (spełniajacego odpowiednie warunki) w korpusie."
   ]
  },
  {
   "cell_type": "code",
   "execution_count": 16,
   "metadata": {},
   "outputs": [],
   "source": [
    "def reject(token_str):\n",
    "    search_res = regex.search(r\"[\\W\\d_]\", token_str)\n",
    "\n",
    "    if search_res is None:\n",
    "        return False\n",
    "    return True\n",
    "\n",
    "def get_frequencies(tokenized_content: str):\n",
    "    counts = {}\n",
    "    for token in tokenized_content:\n",
    "        token = token.text\n",
    "        if token not in counts:\n",
    "            counts[token] = 1\n",
    "        else:\n",
    "            counts[token] += 1\n",
    "\n",
    "    tmp = dict(sorted(\n",
    "        counts.items(), key=lambda pair: pair[1], reverse=True\n",
    "    ))\n",
    "\n",
    "    return dict(filter(lambda pair: reject(pair[0]) == False, tmp.items()))\n",
    "\n",
    "frequencies = []\n",
    "\n",
    "for _, tokenized_content in bills:\n",
    "    frequencies.append(\n",
    "        get_frequencies(tokenized_content)\n",
    "    )\n",
    "\n",
    "global_frequencies = {}\n",
    "\n",
    "for d_frequency in frequencies:\n",
    "    for token, value in d_frequency.items():\n",
    "        if token not in global_frequencies:\n",
    "            global_frequencies[token] = 0\n",
    "        global_frequencies[token] += value\n",
    "\n",
    "global_frequencies = dict(sorted(global_frequencies.items(), key=lambda pair: pair[1], reverse=True))\n",
    "\n",
    "word_count = pd.DataFrame({\n",
    "    'word': list(global_frequencies.keys()),\n",
    "    'count': list(global_frequencies.values())\n",
    "})"
   ]
  },
  {
   "cell_type": "code",
   "execution_count": 17,
   "metadata": {},
   "outputs": [
    {
     "data": {
      "text/html": [
       "<div>\n",
       "<style scoped>\n",
       "    .dataframe tbody tr th:only-of-type {\n",
       "        vertical-align: middle;\n",
       "    }\n",
       "\n",
       "    .dataframe tbody tr th {\n",
       "        vertical-align: top;\n",
       "    }\n",
       "\n",
       "    .dataframe thead th {\n",
       "        text-align: right;\n",
       "    }\n",
       "</style>\n",
       "<table border=\"1\" class=\"dataframe\">\n",
       "  <thead>\n",
       "    <tr style=\"text-align: right;\">\n",
       "      <th></th>\n",
       "      <th>word</th>\n",
       "      <th>count</th>\n",
       "    </tr>\n",
       "  </thead>\n",
       "  <tbody>\n",
       "    <tr>\n",
       "      <th>0</th>\n",
       "      <td>w</td>\n",
       "      <td>201199</td>\n",
       "    </tr>\n",
       "    <tr>\n",
       "      <th>1</th>\n",
       "      <td>i</td>\n",
       "      <td>90006</td>\n",
       "    </tr>\n",
       "    <tr>\n",
       "      <th>2</th>\n",
       "      <td>art</td>\n",
       "      <td>83804</td>\n",
       "    </tr>\n",
       "    <tr>\n",
       "      <th>3</th>\n",
       "      <td>z</td>\n",
       "      <td>82438</td>\n",
       "    </tr>\n",
       "    <tr>\n",
       "      <th>4</th>\n",
       "      <td>o</td>\n",
       "      <td>64776</td>\n",
       "    </tr>\n",
       "  </tbody>\n",
       "</table>\n",
       "</div>"
      ],
      "text/plain": [
       "  word   count\n",
       "0    w  201199\n",
       "1    i   90006\n",
       "2  art   83804\n",
       "3    z   82438\n",
       "4    o   64776"
      ]
     },
     "execution_count": 17,
     "metadata": {},
     "output_type": "execute_result"
    }
   ],
   "source": [
    "word_count.head()"
   ]
  },
  {
   "cell_type": "code",
   "execution_count": 18,
   "metadata": {},
   "outputs": [],
   "source": [
    "total_words_occurences = word_count['count'].sum(axis=0)\n",
    "total_bigrams_occurences = df_ngram_counts['count'].sum(axis=0)"
   ]
  },
  {
   "cell_type": "code",
   "execution_count": 19,
   "metadata": {},
   "outputs": [],
   "source": [
    "counted_words: Dict[str, int] = word_count.set_index('word').to_dict()['count']\n",
    "counted_words_probabilities: Dict[str, float] = dict(map(lambda kv: (kv[0], kv[1]/total_words_occurences), counted_words.items()))\n",
    "counted_bigrams: Dict[str, int] = df_ngram_counts.set_index('ngram').to_dict()['count']\n",
    "counted_bigrams_probabilities: Dict[str, float] = dict(map(lambda kv: (kv[0], kv[1]/total_bigrams_occurences), counted_bigrams.items()))"
   ]
  },
  {
   "cell_type": "code",
   "execution_count": 20,
   "metadata": {},
   "outputs": [],
   "source": [
    "def calculate_bigram_pmi(bigram: str):\n",
    "    import math\n",
    "    word1, word2 = bigram.split(\" \")\n",
    "    p_bigram = counted_bigrams_probabilities[bigram]\n",
    "    p_word1 = counted_words_probabilities[word1]\n",
    "    p_word2 = counted_words_probabilities[word2]\n",
    "\n",
    "    return math.log2(p_bigram / (p_word1*p_word2))"
   ]
  },
  {
   "cell_type": "code",
   "execution_count": 21,
   "metadata": {},
   "outputs": [],
   "source": [
    "df_ngram_counts.columns = ['bigram', 'bigram_count']"
   ]
  },
  {
   "cell_type": "code",
   "execution_count": 22,
   "metadata": {},
   "outputs": [
    {
     "data": {
      "text/html": [
       "<div>\n",
       "<style scoped>\n",
       "    .dataframe tbody tr th:only-of-type {\n",
       "        vertical-align: middle;\n",
       "    }\n",
       "\n",
       "    .dataframe tbody tr th {\n",
       "        vertical-align: top;\n",
       "    }\n",
       "\n",
       "    .dataframe thead th {\n",
       "        text-align: right;\n",
       "    }\n",
       "</style>\n",
       "<table border=\"1\" class=\"dataframe\">\n",
       "  <thead>\n",
       "    <tr style=\"text-align: right;\">\n",
       "      <th></th>\n",
       "      <th>bigram</th>\n",
       "      <th>bigram_count</th>\n",
       "    </tr>\n",
       "  </thead>\n",
       "  <tbody>\n",
       "    <tr>\n",
       "      <th>0</th>\n",
       "      <td>w art</td>\n",
       "      <td>32042</td>\n",
       "    </tr>\n",
       "    <tr>\n",
       "      <th>1</th>\n",
       "      <td>mowa w</td>\n",
       "      <td>28471</td>\n",
       "    </tr>\n",
       "    <tr>\n",
       "      <th>2</th>\n",
       "      <td>w ust</td>\n",
       "      <td>23557</td>\n",
       "    </tr>\n",
       "  </tbody>\n",
       "</table>\n",
       "</div>"
      ],
      "text/plain": [
       "   bigram  bigram_count\n",
       "0   w art         32042\n",
       "1  mowa w         28471\n",
       "2   w ust         23557"
      ]
     },
     "execution_count": 22,
     "metadata": {},
     "output_type": "execute_result"
    }
   ],
   "source": [
    "df_ngram_counts.head(3)"
   ]
  },
  {
   "cell_type": "code",
   "execution_count": 23,
   "metadata": {},
   "outputs": [],
   "source": [
    "df_ngram_counts['bigram_pmi'] = df_ngram_counts['bigram'].apply(calculate_bigram_pmi)"
   ]
  },
  {
   "cell_type": "markdown",
   "metadata": {},
   "source": [
    "#### 5. Sort the word pairs according to that measure in the descending order and determine top 10 entries."
   ]
  },
  {
   "cell_type": "code",
   "execution_count": 24,
   "metadata": {},
   "outputs": [
    {
     "data": {
      "text/html": [
       "<div>\n",
       "<style scoped>\n",
       "    .dataframe tbody tr th:only-of-type {\n",
       "        vertical-align: middle;\n",
       "    }\n",
       "\n",
       "    .dataframe tbody tr th {\n",
       "        vertical-align: top;\n",
       "    }\n",
       "\n",
       "    .dataframe thead th {\n",
       "        text-align: right;\n",
       "    }\n",
       "</style>\n",
       "<table border=\"1\" class=\"dataframe\">\n",
       "  <thead>\n",
       "    <tr style=\"text-align: right;\">\n",
       "      <th></th>\n",
       "      <th>bigram</th>\n",
       "      <th>bigram_count</th>\n",
       "      <th>bigram_pmi</th>\n",
       "    </tr>\n",
       "  </thead>\n",
       "  <tbody>\n",
       "    <tr>\n",
       "      <th>328616</th>\n",
       "      <td>drastycznych scen</td>\n",
       "      <td>1</td>\n",
       "      <td>22.139353</td>\n",
       "    </tr>\n",
       "    <tr>\n",
       "      <th>261857</th>\n",
       "      <td>broszurze badacza</td>\n",
       "      <td>1</td>\n",
       "      <td>22.139353</td>\n",
       "    </tr>\n",
       "    <tr>\n",
       "      <th>299334</th>\n",
       "      <td>hiszpania guldenów</td>\n",
       "      <td>1</td>\n",
       "      <td>22.139353</td>\n",
       "    </tr>\n",
       "    <tr>\n",
       "      <th>299335</th>\n",
       "      <td>guldenów holenderskich</td>\n",
       "      <td>1</td>\n",
       "      <td>22.139353</td>\n",
       "    </tr>\n",
       "    <tr>\n",
       "      <th>339341</th>\n",
       "      <td>kompatybilnością elektromagnetyczną</td>\n",
       "      <td>1</td>\n",
       "      <td>22.139353</td>\n",
       "    </tr>\n",
       "    <tr>\n",
       "      <th>299336</th>\n",
       "      <td>holandia funtów</td>\n",
       "      <td>1</td>\n",
       "      <td>22.139353</td>\n",
       "    </tr>\n",
       "    <tr>\n",
       "      <th>299337</th>\n",
       "      <td>funtów irlandzkich</td>\n",
       "      <td>1</td>\n",
       "      <td>22.139353</td>\n",
       "    </tr>\n",
       "    <tr>\n",
       "      <th>459726</th>\n",
       "      <td>zaworach odcinających</td>\n",
       "      <td>1</td>\n",
       "      <td>22.139353</td>\n",
       "    </tr>\n",
       "    <tr>\n",
       "      <th>494072</th>\n",
       "      <td>wyznawanych przekonaniach</td>\n",
       "      <td>1</td>\n",
       "      <td>22.139353</td>\n",
       "    </tr>\n",
       "    <tr>\n",
       "      <th>357847</th>\n",
       "      <td>prosimy uważnie</td>\n",
       "      <td>1</td>\n",
       "      <td>22.139353</td>\n",
       "    </tr>\n",
       "  </tbody>\n",
       "</table>\n",
       "</div>"
      ],
      "text/plain": [
       "                                     bigram  bigram_count  bigram_pmi\n",
       "328616                    drastycznych scen             1   22.139353\n",
       "261857                    broszurze badacza             1   22.139353\n",
       "299334                   hiszpania guldenów             1   22.139353\n",
       "299335               guldenów holenderskich             1   22.139353\n",
       "339341  kompatybilnością elektromagnetyczną             1   22.139353\n",
       "299336                      holandia funtów             1   22.139353\n",
       "299337                   funtów irlandzkich             1   22.139353\n",
       "459726                zaworach odcinających             1   22.139353\n",
       "494072            wyznawanych przekonaniach             1   22.139353\n",
       "357847                      prosimy uważnie             1   22.139353"
      ]
     },
     "execution_count": 24,
     "metadata": {},
     "output_type": "execute_result"
    }
   ],
   "source": [
    "df_ngram_counts.sort_values('bigram_pmi', ascending=False).head(10)"
   ]
  },
  {
   "cell_type": "markdown",
   "metadata": {},
   "source": [
    "#### 6. Filter bigrams with number of occurrences lower than 5. Determine top 10 entries for the remaining dataset (>=5 occurrences)."
   ]
  },
  {
   "cell_type": "code",
   "execution_count": 27,
   "metadata": {},
   "outputs": [
    {
     "data": {
      "text/html": [
       "<div>\n",
       "<style scoped>\n",
       "    .dataframe tbody tr th:only-of-type {\n",
       "        vertical-align: middle;\n",
       "    }\n",
       "\n",
       "    .dataframe tbody tr th {\n",
       "        vertical-align: top;\n",
       "    }\n",
       "\n",
       "    .dataframe thead th {\n",
       "        text-align: right;\n",
       "    }\n",
       "</style>\n",
       "<table border=\"1\" class=\"dataframe\">\n",
       "  <thead>\n",
       "    <tr style=\"text-align: right;\">\n",
       "      <th></th>\n",
       "      <th>bigram</th>\n",
       "      <th>bigram_count</th>\n",
       "      <th>bigram_pmi</th>\n",
       "    </tr>\n",
       "  </thead>\n",
       "  <tbody>\n",
       "    <tr>\n",
       "      <th>5</th>\n",
       "      <td>otrzymuje brzmienie</td>\n",
       "      <td>9553</td>\n",
       "      <td>8.728875</td>\n",
       "    </tr>\n",
       "    <tr>\n",
       "      <th>8</th>\n",
       "      <td>którym mowa</td>\n",
       "      <td>9171</td>\n",
       "      <td>6.964133</td>\n",
       "    </tr>\n",
       "    <tr>\n",
       "      <th>4</th>\n",
       "      <td>których mowa</td>\n",
       "      <td>13857</td>\n",
       "      <td>6.954502</td>\n",
       "    </tr>\n",
       "    <tr>\n",
       "      <th>9</th>\n",
       "      <td>do spraw</td>\n",
       "      <td>8715</td>\n",
       "      <td>6.047730</td>\n",
       "    </tr>\n",
       "    <tr>\n",
       "      <th>7</th>\n",
       "      <td>o którym</td>\n",
       "      <td>9184</td>\n",
       "      <td>5.795934</td>\n",
       "    </tr>\n",
       "    <tr>\n",
       "      <th>3</th>\n",
       "      <td>o których</td>\n",
       "      <td>13884</td>\n",
       "      <td>5.787068</td>\n",
       "    </tr>\n",
       "    <tr>\n",
       "      <th>6</th>\n",
       "      <td>z dnia</td>\n",
       "      <td>9527</td>\n",
       "      <td>4.894120</td>\n",
       "    </tr>\n",
       "    <tr>\n",
       "      <th>1</th>\n",
       "      <td>mowa w</td>\n",
       "      <td>28471</td>\n",
       "      <td>4.505365</td>\n",
       "    </tr>\n",
       "    <tr>\n",
       "      <th>2</th>\n",
       "      <td>w ust</td>\n",
       "      <td>23557</td>\n",
       "      <td>3.334043</td>\n",
       "    </tr>\n",
       "    <tr>\n",
       "      <th>0</th>\n",
       "      <td>w art</td>\n",
       "      <td>32042</td>\n",
       "      <td>3.134034</td>\n",
       "    </tr>\n",
       "  </tbody>\n",
       "</table>\n",
       "</div>"
      ],
      "text/plain": [
       "                bigram  bigram_count  bigram_pmi\n",
       "5  otrzymuje brzmienie          9553    8.728875\n",
       "8          którym mowa          9171    6.964133\n",
       "4         których mowa         13857    6.954502\n",
       "9             do spraw          8715    6.047730\n",
       "7             o którym          9184    5.795934\n",
       "3            o których         13884    5.787068\n",
       "6               z dnia          9527    4.894120\n",
       "1               mowa w         28471    4.505365\n",
       "2                w ust         23557    3.334043\n",
       "0                w art         32042    3.134034"
      ]
     },
     "execution_count": 27,
     "metadata": {},
     "output_type": "execute_result"
    }
   ],
   "source": [
    "df_ngram_counts[df_ngram_counts['bigram_count'] >= 5].head(10).sort_values('bigram_pmi', ascending=False)"
   ]
  },
  {
   "cell_type": "markdown",
   "metadata": {},
   "source": [
    "#### 7. Use KRNNT or Clarin-PL API(https://ws.clarin-pl.eu/tager.shtml) to tag and lemmatize the corpus."
   ]
  },
  {
   "cell_type": "code",
   "execution_count": 28,
   "metadata": {},
   "outputs": [],
   "source": [
    "from xml.etree.ElementTree import Element\n",
    "from typing import Dict, List"
   ]
  },
  {
   "cell_type": "code",
   "execution_count": 29,
   "metadata": {},
   "outputs": [],
   "source": [
    "def calculate_clarin_tokens_metadata(root: Element):\n",
    "    \"\"\"Iterate over analalyzed bill content from Clarin API.\n",
    "    Assosciate each token with its base form and morfologic tag.\n",
    "    Return list with all tokens - tokenized bill content\n",
    "    and dictionary with tokens metadata that associate each\n",
    "    unique token in the content with its metadata.\n",
    "    \"\"\"\n",
    "    tokens_metadata = {}\n",
    "    all_tokens = []\n",
    "\n",
    "    for token_tag in root.iter(tag='tok'):\n",
    "        token = None\n",
    "        for orth_tag in token_tag.iter(tag='orth'):\n",
    "            token = orth_tag.text\n",
    "            all_tokens.append(token)\n",
    "\n",
    "        base_forms = []\n",
    "        for base_tag in token_tag.iter(tag='base'):\n",
    "            base_forms.append(base_tag.text)\n",
    "\n",
    "        ctags = []\n",
    "        for ctag_tag in token_tag.iter(tag='ctag'):\n",
    "            ctags.append(ctag_tag.text)\n",
    "\n",
    "        \n",
    "        if token not in tokens_metadata.keys():\n",
    "            tokens_metadata[token] = {\n",
    "                \"base\": base_forms[0].lower(),\n",
    "                \"tag\": ctags[0].lower().split(':')[0],\n",
    "            }\n",
    "\n",
    "    return all_tokens, tokens_metadata"
   ]
  },
  {
   "cell_type": "markdown",
   "metadata": {},
   "source": [
    "Kluczami w słowniku tokens_metadata będą tokeny danej ustawy, wartością dla danego tokenu będzie słownik zawierający formę podstawową słowa oraz odpowiednią część tagu morfosyntaktycznego słowa. Lista all_tokens zawiera wszystkie dokeny w tanej ustawie w kolejności zgodnej z treścią ustawy."
   ]
  },
  {
   "cell_type": "code",
   "execution_count": 30,
   "metadata": {},
   "outputs": [],
   "source": [
    "import xml.etree.ElementTree as ET\n",
    "\n",
    "clarin_bills = {}\n",
    "paths = glob.glob(f\"./bills_clarin/*.txt\")\n",
    "for file_path in paths:\n",
    "    with open(file_path) as f:\n",
    "        bill_content = f.read()\n",
    "        root = ET.fromstring(bill_content)\n",
    "        all_tokens, tokens_metadata = calculate_clarin_tokens_metadata(root)\n",
    "        clarin_bills[file_path.split(\"/\")[-1]] = {\n",
    "            \"tokenized_content\": all_tokens,\n",
    "            \"tokens_metadata\": tokens_metadata,\n",
    "        }"
   ]
  },
  {
   "cell_type": "code",
   "execution_count": 31,
   "metadata": {},
   "outputs": [
    {
     "name": "stdout",
     "output_type": "stream",
     "text": [
      "Straży -> {'base': 'straż', 'tag': 'subst'}\n",
      "Państwowej -> {'base': 'państwowy', 'tag': 'adj'}\n"
     ]
    }
   ],
   "source": [
    "print(\"Straży ->\", clarin_bills['2001_874.txt']['tokens_metadata']['Straży'])\n",
    "print(\"Państwowej ->\", clarin_bills['2001_874.txt']['tokens_metadata']['Państwowej'])"
   ]
  },
  {
   "cell_type": "code",
   "execution_count": 6,
   "metadata": {},
   "outputs": [
    {
     "data": {
      "text/plain": [
       "1178"
      ]
     },
     "execution_count": 6,
     "metadata": {},
     "output_type": "execute_result"
    }
   ],
   "source": [
    "len(clarin_bills.keys())"
   ]
  },
  {
   "cell_type": "code",
   "execution_count": 7,
   "metadata": {},
   "outputs": [
    {
     "data": {
      "text/plain": [
       "612"
      ]
     },
     "execution_count": 7,
     "metadata": {},
     "output_type": "execute_result"
    }
   ],
   "source": [
    "# How to access the tokenized content of the bill?\n",
    "len(clarin_bills['2001_974.txt']['tokenized_content'])"
   ]
  },
  {
   "cell_type": "markdown",
   "metadata": {},
   "source": [
    "#### 8. Using the tagged corpus compute bigram statistic for the tokens containing: a. lemmatized, downcased word b. morphosyntactic category of the word (subst, fin, adj, etc.)"
   ]
  },
  {
   "cell_type": "code",
   "execution_count": 32,
   "metadata": {},
   "outputs": [],
   "source": [
    "def ngram_clarin(n: int, clarin_tokenized_content: List[str], tokens_metadata: Dict[str, Dict[str, str]]):\n",
    "    ngrams = []\n",
    "\n",
    "    for idx in range(len(clarin_tokenized_content) - n + 1):\n",
    "        ngram = clarin_tokenized_content[idx:idx+n]\n",
    "        ngrams_representation = []\n",
    "        for token in ngram:\n",
    "            base_form = tokens_metadata[token]['base']\n",
    "            tag = tokens_metadata[token]['tag']\n",
    "            ngrams_representation.append(f\"{base_form}:{tag}\")\n",
    "        ngrams.append(\" \".join(ngrams_representation))\n",
    "\n",
    "    return ngrams"
   ]
  },
  {
   "cell_type": "markdown",
   "metadata": {},
   "source": [
    "Example"
   ]
  },
  {
   "cell_type": "code",
   "execution_count": 33,
   "metadata": {},
   "outputs": [
    {
     "data": {
      "text/plain": [
       "['z:prep dzień:subst',\n",
       " 'dzień:subst 20:num',\n",
       " '20:num lipiec:subst',\n",
       " 'lipiec:subst 2001:num',\n",
       " '2001:num r:ign',\n",
       " 'r:ign .:interp',\n",
       " '.:interp o:prep',\n",
       " 'o:prep świadczenie:subst',\n",
       " 'świadczenie:subst dla:prep',\n",
       " 'dla:prep cywilny:adj']"
      ]
     },
     "execution_count": 33,
     "metadata": {},
     "output_type": "execute_result"
    }
   ],
   "source": [
    "sample_bill_tokenized_content = clarin_bills['2001_974.txt']['tokenized_content']\n",
    "sample_bill_tokens_metadata = clarin_bills['2001_974.txt']['tokens_metadata']\n",
    "\n",
    "ngram_clarin(2, sample_bill_tokenized_content, sample_bill_tokens_metadata)[15:25]"
   ]
  },
  {
   "cell_type": "markdown",
   "metadata": {},
   "source": [
    "For each bill' tokens_metadata, obtain list of ngrams and filter out valid ngram according to the rule and order from 3rd point which is \"Discard bigrams containing characters other than letters. Make sure that you discard the invalid entries after computing the bigram counts.\""
   ]
  },
  {
   "cell_type": "markdown",
   "metadata": {},
   "source": [
    "Get clarin bigrams from the entire corpus."
   ]
  },
  {
   "cell_type": "code",
   "execution_count": 34,
   "metadata": {},
   "outputs": [],
   "source": [
    "clarin_bigrams = []\n",
    "for bill_filename in clarin_bills.keys():\n",
    "    tokenized_content = clarin_bills[bill_filename]['tokenized_content']\n",
    "    tokens_metadata = clarin_bills[bill_filename]['tokens_metadata']\n",
    "\n",
    "    clarin_bigrams.extend(\n",
    "        ngram_clarin(2, tokenized_content, tokens_metadata)\n",
    "    )"
   ]
  },
  {
   "cell_type": "code",
   "execution_count": 35,
   "metadata": {},
   "outputs": [
    {
     "data": {
      "text/plain": [
       "5272789"
      ]
     },
     "execution_count": 35,
     "metadata": {},
     "output_type": "execute_result"
    }
   ],
   "source": [
    "len(clarin_bigrams)"
   ]
  },
  {
   "cell_type": "markdown",
   "metadata": {},
   "source": [
    "Count bigrams"
   ]
  },
  {
   "cell_type": "code",
   "execution_count": 36,
   "metadata": {},
   "outputs": [],
   "source": [
    "from collections import Counter\n",
    "\n",
    "clarin_bigrams_counts = Counter(clarin_bigrams)"
   ]
  },
  {
   "cell_type": "markdown",
   "metadata": {},
   "source": [
    "Filter out invalid bigrams"
   ]
  },
  {
   "cell_type": "code",
   "execution_count": 37,
   "metadata": {},
   "outputs": [],
   "source": [
    "clarin_bigrams_counts_valid = {}\n",
    "\n",
    "def is_valid_clarin_bigram(bigram: str) -> bool:\n",
    "    token1_meta, token2_meta = bigram.split(\" \")\n",
    "\n",
    "    if ':interp' in token1_meta or ':interp' in token2_meta:\n",
    "        return False\n",
    "\n",
    "    token_1 = token1_meta.split(\":\")[0]\n",
    "    token_2 = token2_meta.split(\":\")[0]\n",
    "    bigram = token_1 + \" \" + token_2\n",
    "    return True if regex.search(r\"[^a-zA-Z\\s\\p{L}]\", bigram) is None else False\n",
    "\n",
    "for clarin_bigram_count in clarin_bigrams_counts.items():\n",
    "    clarin_bigram, count = clarin_bigram_count\n",
    "    if is_valid_clarin_bigram(clarin_bigram):\n",
    "        clarin_bigrams_counts_valid[clarin_bigram] = count"
   ]
  },
  {
   "cell_type": "code",
   "execution_count": 38,
   "metadata": {},
   "outputs": [],
   "source": [
    "clarin_bigrams_counts_valid = sorted(clarin_bigrams_counts_valid.items(), key=lambda x: x[1], reverse=True)"
   ]
  },
  {
   "cell_type": "code",
   "execution_count": 39,
   "metadata": {},
   "outputs": [],
   "source": [
    "df_clarin_ngram_counts = pd.DataFrame(\n",
    "    clarin_bigrams_counts_valid, columns=['bigram', 'bigram_count'])"
   ]
  },
  {
   "cell_type": "code",
   "execution_count": 40,
   "metadata": {},
   "outputs": [
    {
     "data": {
      "text/html": [
       "<div>\n",
       "<style scoped>\n",
       "    .dataframe tbody tr th:only-of-type {\n",
       "        vertical-align: middle;\n",
       "    }\n",
       "\n",
       "    .dataframe tbody tr th {\n",
       "        vertical-align: top;\n",
       "    }\n",
       "\n",
       "    .dataframe thead th {\n",
       "        text-align: right;\n",
       "    }\n",
       "</style>\n",
       "<table border=\"1\" class=\"dataframe\">\n",
       "  <thead>\n",
       "    <tr style=\"text-align: right;\">\n",
       "      <th></th>\n",
       "      <th>bigram</th>\n",
       "      <th>bigram_count</th>\n",
       "    </tr>\n",
       "  </thead>\n",
       "  <tbody>\n",
       "    <tr>\n",
       "      <th>0</th>\n",
       "      <td>w:prep art:ign</td>\n",
       "      <td>32044</td>\n",
       "    </tr>\n",
       "    <tr>\n",
       "      <th>1</th>\n",
       "      <td>o:prep który:adj</td>\n",
       "      <td>28656</td>\n",
       "    </tr>\n",
       "    <tr>\n",
       "      <th>2</th>\n",
       "      <td>który:adj mowa:subst</td>\n",
       "      <td>28538</td>\n",
       "    </tr>\n",
       "    <tr>\n",
       "      <th>3</th>\n",
       "      <td>mowa:subst w:prep</td>\n",
       "      <td>28473</td>\n",
       "    </tr>\n",
       "    <tr>\n",
       "      <th>4</th>\n",
       "      <td>w:prep usta:subst</td>\n",
       "      <td>23557</td>\n",
       "    </tr>\n",
       "    <tr>\n",
       "      <th>5</th>\n",
       "      <td>z:prep dzień:subst</td>\n",
       "      <td>11360</td>\n",
       "    </tr>\n",
       "    <tr>\n",
       "      <th>6</th>\n",
       "      <td>otrzymywać:fin brzmienie:subst</td>\n",
       "      <td>10536</td>\n",
       "    </tr>\n",
       "    <tr>\n",
       "      <th>7</th>\n",
       "      <td>określony:adj w:prep</td>\n",
       "      <td>10240</td>\n",
       "    </tr>\n",
       "    <tr>\n",
       "      <th>8</th>\n",
       "      <td>do:prep sprawa:subst</td>\n",
       "      <td>8718</td>\n",
       "    </tr>\n",
       "    <tr>\n",
       "      <th>9</th>\n",
       "      <td>ustawa:subst z:prep</td>\n",
       "      <td>8625</td>\n",
       "    </tr>\n",
       "    <tr>\n",
       "      <th>10</th>\n",
       "      <td>właściwy:adj do:prep</td>\n",
       "      <td>8535</td>\n",
       "    </tr>\n",
       "    <tr>\n",
       "      <th>11</th>\n",
       "      <td>i:conj nr:subst</td>\n",
       "      <td>8435</td>\n",
       "    </tr>\n",
       "    <tr>\n",
       "      <th>12</th>\n",
       "      <td>dodawać:fin się:qub</td>\n",
       "      <td>8195</td>\n",
       "    </tr>\n",
       "    <tr>\n",
       "      <th>13</th>\n",
       "      <td>minister:subst właściwy:adj</td>\n",
       "      <td>7933</td>\n",
       "    </tr>\n",
       "    <tr>\n",
       "      <th>14</th>\n",
       "      <td>w:prep brzmienie:subst</td>\n",
       "      <td>7280</td>\n",
       "    </tr>\n",
       "    <tr>\n",
       "      <th>15</th>\n",
       "      <td>w:prep droga:subst</td>\n",
       "      <td>7128</td>\n",
       "    </tr>\n",
       "    <tr>\n",
       "      <th>16</th>\n",
       "      <td>w:prep przypadek:subst</td>\n",
       "      <td>6776</td>\n",
       "    </tr>\n",
       "    <tr>\n",
       "      <th>17</th>\n",
       "      <td>na:prep podstawa:subst</td>\n",
       "      <td>6681</td>\n",
       "    </tr>\n",
       "    <tr>\n",
       "      <th>18</th>\n",
       "      <td>stosować:fin się:qub</td>\n",
       "      <td>6535</td>\n",
       "    </tr>\n",
       "    <tr>\n",
       "      <th>19</th>\n",
       "      <td>się:qub wyraz:subst</td>\n",
       "      <td>6077</td>\n",
       "    </tr>\n",
       "  </tbody>\n",
       "</table>\n",
       "</div>"
      ],
      "text/plain": [
       "                            bigram  bigram_count\n",
       "0                   w:prep art:ign         32044\n",
       "1                 o:prep który:adj         28656\n",
       "2             który:adj mowa:subst         28538\n",
       "3                mowa:subst w:prep         28473\n",
       "4                w:prep usta:subst         23557\n",
       "5               z:prep dzień:subst         11360\n",
       "6   otrzymywać:fin brzmienie:subst         10536\n",
       "7             określony:adj w:prep         10240\n",
       "8             do:prep sprawa:subst          8718\n",
       "9              ustawa:subst z:prep          8625\n",
       "10            właściwy:adj do:prep          8535\n",
       "11                 i:conj nr:subst          8435\n",
       "12             dodawać:fin się:qub          8195\n",
       "13     minister:subst właściwy:adj          7933\n",
       "14          w:prep brzmienie:subst          7280\n",
       "15              w:prep droga:subst          7128\n",
       "16          w:prep przypadek:subst          6776\n",
       "17          na:prep podstawa:subst          6681\n",
       "18            stosować:fin się:qub          6535\n",
       "19             się:qub wyraz:subst          6077"
      ]
     },
     "execution_count": 40,
     "metadata": {},
     "output_type": "execute_result"
    }
   ],
   "source": [
    "df_clarin_ngram_counts.head(20)"
   ]
  },
  {
   "cell_type": "markdown",
   "metadata": {},
   "source": [
    "#### 10. Compute the same statistics as for the non-lemmatized words (i.e. PMI) and print top-10 entries with at least 5 occurrences."
   ]
  },
  {
   "cell_type": "markdown",
   "metadata": {},
   "source": [
    "Count the number of lemmatized tokens in the lemmatized corpus"
   ]
  },
  {
   "cell_type": "code",
   "execution_count": 41,
   "metadata": {},
   "outputs": [],
   "source": [
    "clarin_lemmatized_tokens = []\n",
    "for bill_filename in clarin_bills.keys():\n",
    "    tokenized_content = clarin_bills[bill_filename]['tokenized_content']\n",
    "    tokens_metadata = clarin_bills[bill_filename]['tokens_metadata']\n",
    "    lematized_tokens = [tokens_metadata[token]['base'] for token in tokenized_content]\n",
    "\n",
    "    clarin_lemmatized_tokens.extend(lematized_tokens)"
   ]
  },
  {
   "cell_type": "code",
   "execution_count": 42,
   "metadata": {},
   "outputs": [],
   "source": [
    "clarin_all_lematized_tokens_frequencies = Counter(clarin_lemmatized_tokens)\n",
    "clarin_lemmatized_tokens_frequencies = {}\n",
    "\n",
    "for lemmatized_token, count in clarin_all_lematized_tokens_frequencies.items():\n",
    "    if not reject(lemmatized_token):\n",
    "        clarin_lemmatized_tokens_frequencies[lemmatized_token] = count"
   ]
  },
  {
   "cell_type": "code",
   "execution_count": 43,
   "metadata": {},
   "outputs": [
    {
     "data": {
      "text/html": [
       "<div>\n",
       "<style scoped>\n",
       "    .dataframe tbody tr th:only-of-type {\n",
       "        vertical-align: middle;\n",
       "    }\n",
       "\n",
       "    .dataframe tbody tr th {\n",
       "        vertical-align: top;\n",
       "    }\n",
       "\n",
       "    .dataframe thead th {\n",
       "        text-align: right;\n",
       "    }\n",
       "</style>\n",
       "<table border=\"1\" class=\"dataframe\">\n",
       "  <thead>\n",
       "    <tr style=\"text-align: right;\">\n",
       "      <th></th>\n",
       "      <th>lemmatized_token</th>\n",
       "      <th>count</th>\n",
       "    </tr>\n",
       "  </thead>\n",
       "  <tbody>\n",
       "    <tr>\n",
       "      <th>0</th>\n",
       "      <td>w</td>\n",
       "      <td>202950</td>\n",
       "    </tr>\n",
       "    <tr>\n",
       "      <th>1</th>\n",
       "      <td>i</td>\n",
       "      <td>90044</td>\n",
       "    </tr>\n",
       "    <tr>\n",
       "      <th>2</th>\n",
       "      <td>z</td>\n",
       "      <td>87991</td>\n",
       "    </tr>\n",
       "    <tr>\n",
       "      <th>3</th>\n",
       "      <td>art</td>\n",
       "      <td>83805</td>\n",
       "    </tr>\n",
       "    <tr>\n",
       "      <th>4</th>\n",
       "      <td>o</td>\n",
       "      <td>64809</td>\n",
       "    </tr>\n",
       "    <tr>\n",
       "      <th>5</th>\n",
       "      <td>do</td>\n",
       "      <td>60768</td>\n",
       "    </tr>\n",
       "    <tr>\n",
       "      <th>6</th>\n",
       "      <td>usta</td>\n",
       "      <td>53641</td>\n",
       "    </tr>\n",
       "    <tr>\n",
       "      <th>7</th>\n",
       "      <td>na</td>\n",
       "      <td>50657</td>\n",
       "    </tr>\n",
       "    <tr>\n",
       "      <th>8</th>\n",
       "      <td>który</td>\n",
       "      <td>49382</td>\n",
       "    </tr>\n",
       "    <tr>\n",
       "      <th>9</th>\n",
       "      <td>się</td>\n",
       "      <td>45887</td>\n",
       "    </tr>\n",
       "  </tbody>\n",
       "</table>\n",
       "</div>"
      ],
      "text/plain": [
       "  lemmatized_token   count\n",
       "0                w  202950\n",
       "1                i   90044\n",
       "2                z   87991\n",
       "3              art   83805\n",
       "4                o   64809\n",
       "5               do   60768\n",
       "6             usta   53641\n",
       "7               na   50657\n",
       "8            który   49382\n",
       "9              się   45887"
      ]
     },
     "execution_count": 43,
     "metadata": {},
     "output_type": "execute_result"
    }
   ],
   "source": [
    "lemmatized_token_count = pd.DataFrame({\n",
    "    'lemmatized_token': list(clarin_lemmatized_tokens_frequencies.keys()),\n",
    "    'count': list(clarin_lemmatized_tokens_frequencies.values())\n",
    "})\n",
    "\n",
    "lemmatized_token_count.sort_values('count', ascending=False).reset_index(drop=True).head(10)"
   ]
  },
  {
   "cell_type": "code",
   "execution_count": 44,
   "metadata": {},
   "outputs": [],
   "source": [
    "counted_lemmatized_tokens: Dict[str, int] = (\n",
    "    lemmatized_token_count.set_index('lemmatized_token').to_dict()['count'])\n",
    "\n",
    "total_lemmatized_tokens_occurences = lemmatized_token_count['count'].sum(axis=0)\n",
    "\n",
    "counted_lemmatized_tokens_probabilities: Dict[str, float] = dict(\n",
    "    map(lambda kv: (kv[0], kv[1]/total_lemmatized_tokens_occurences), counted_lemmatized_tokens.items()))\n",
    "\n",
    "total_clarin_bigrams_occurences = df_clarin_ngram_counts['bigram_count'].sum(axis=0)\n",
    "\n",
    "counted_clarin_bigrams: Dict[str, int] = (\n",
    "    df_clarin_ngram_counts.set_index('bigram').to_dict()['bigram_count'])\n",
    "\n",
    "counted_clarin_bigrams_probabilities: Dict[str, float] = dict(\n",
    "    map(lambda kv: (kv[0], kv[1]/total_bigrams_occurences), counted_clarin_bigrams.items()))"
   ]
  },
  {
   "cell_type": "code",
   "execution_count": 45,
   "metadata": {},
   "outputs": [],
   "source": [
    "def calculate_clarin_bigram_pmi(clarin_bigram: str):\n",
    "    import math\n",
    "    token1_meta, token2_meta = clarin_bigram.split(\" \")\n",
    "    token1 = token1_meta.split(\":\")[0]\n",
    "    token2 = token2_meta.split(\":\")[0]\n",
    "\n",
    "    p_clarin_bigram = counted_clarin_bigrams_probabilities[clarin_bigram]\n",
    "    p_token1 = counted_lemmatized_tokens_probabilities[token1]\n",
    "    p_token2 = counted_lemmatized_tokens_probabilities[token2]\n",
    "\n",
    "    return math.log2(p_clarin_bigram / (p_token1*p_token2))"
   ]
  },
  {
   "cell_type": "code",
   "execution_count": 46,
   "metadata": {},
   "outputs": [],
   "source": [
    "df_clarin_ngram_counts['pmi'] = df_clarin_ngram_counts['bigram'].apply(calculate_clarin_bigram_pmi)"
   ]
  },
  {
   "cell_type": "code",
   "execution_count": 52,
   "metadata": {},
   "outputs": [
    {
     "data": {
      "text/html": [
       "<div>\n",
       "<style scoped>\n",
       "    .dataframe tbody tr th:only-of-type {\n",
       "        vertical-align: middle;\n",
       "    }\n",
       "\n",
       "    .dataframe tbody tr th {\n",
       "        vertical-align: top;\n",
       "    }\n",
       "\n",
       "    .dataframe thead th {\n",
       "        text-align: right;\n",
       "    }\n",
       "</style>\n",
       "<table border=\"1\" class=\"dataframe\">\n",
       "  <thead>\n",
       "    <tr style=\"text-align: right;\">\n",
       "      <th></th>\n",
       "      <th>bigram</th>\n",
       "      <th>bigram_count</th>\n",
       "      <th>pmi</th>\n",
       "    </tr>\n",
       "  </thead>\n",
       "  <tbody>\n",
       "    <tr>\n",
       "      <th>65839</th>\n",
       "      <td>młynek:subst młotkowy:adj</td>\n",
       "      <td>5</td>\n",
       "      <td>19.826339</td>\n",
       "    </tr>\n",
       "    <tr>\n",
       "      <th>70400</th>\n",
       "      <td>teryto:ign rialnego:ign</td>\n",
       "      <td>5</td>\n",
       "      <td>19.826339</td>\n",
       "    </tr>\n",
       "    <tr>\n",
       "      <th>64841</th>\n",
       "      <td>grzegorz:subst schetyna:ign</td>\n",
       "      <td>5</td>\n",
       "      <td>19.826339</td>\n",
       "    </tr>\n",
       "    <tr>\n",
       "      <th>65389</th>\n",
       "      <td>łańcuchowa:subst rozszczepienie:subst</td>\n",
       "      <td>5</td>\n",
       "      <td>19.563305</td>\n",
       "    </tr>\n",
       "    <tr>\n",
       "      <th>65838</th>\n",
       "      <td>pasta:subst emulsyjny:adj</td>\n",
       "      <td>5</td>\n",
       "      <td>19.563305</td>\n",
       "    </tr>\n",
       "    <tr>\n",
       "      <th>69618</th>\n",
       "      <td>chrom:subst sześciowartościowy:adj</td>\n",
       "      <td>5</td>\n",
       "      <td>19.563305</td>\n",
       "    </tr>\n",
       "    <tr>\n",
       "      <th>53732</th>\n",
       "      <td>adam:subst mickiewicz:subst</td>\n",
       "      <td>6</td>\n",
       "      <td>19.563305</td>\n",
       "    </tr>\n",
       "    <tr>\n",
       "      <th>65842</th>\n",
       "      <td>młyn:subst kulowy:adj</td>\n",
       "      <td>5</td>\n",
       "      <td>19.340913</td>\n",
       "    </tr>\n",
       "    <tr>\n",
       "      <th>48455</th>\n",
       "      <td>piotrek:subst trybunalski:adj</td>\n",
       "      <td>7</td>\n",
       "      <td>19.340913</td>\n",
       "    </tr>\n",
       "    <tr>\n",
       "      <th>64818</th>\n",
       "      <td>skrzynka:subst podawczy:adj</td>\n",
       "      <td>5</td>\n",
       "      <td>19.148268</td>\n",
       "    </tr>\n",
       "  </tbody>\n",
       "</table>\n",
       "</div>"
      ],
      "text/plain": [
       "                                      bigram  bigram_count        pmi\n",
       "65839              młynek:subst młotkowy:adj             5  19.826339\n",
       "70400                teryto:ign rialnego:ign             5  19.826339\n",
       "64841            grzegorz:subst schetyna:ign             5  19.826339\n",
       "65389  łańcuchowa:subst rozszczepienie:subst             5  19.563305\n",
       "65838              pasta:subst emulsyjny:adj             5  19.563305\n",
       "69618     chrom:subst sześciowartościowy:adj             5  19.563305\n",
       "53732            adam:subst mickiewicz:subst             6  19.563305\n",
       "65842                  młyn:subst kulowy:adj             5  19.340913\n",
       "48455          piotrek:subst trybunalski:adj             7  19.340913\n",
       "64818            skrzynka:subst podawczy:adj             5  19.148268"
      ]
     },
     "execution_count": 52,
     "metadata": {},
     "output_type": "execute_result"
    }
   ],
   "source": [
    "df_clarin_ngram_counts = df_clarin_ngram_counts[df_clarin_ngram_counts['bigram_count'] >= 5]\n",
    "df_clarin_ngram_counts.sort_values('pmi', ascending=False).head(10)"
   ]
  },
  {
   "cell_type": "markdown",
   "metadata": {},
   "source": [
    "#### BIGRAMS - RESULTS\n",
    "\n",
    "Compare the results for copora without and with tagging and lemmatization for bigrams."
   ]
  },
  {
   "cell_type": "code",
   "execution_count": 54,
   "metadata": {},
   "outputs": [
    {
     "data": {
      "text/html": [
       "<div>\n",
       "<style scoped>\n",
       "    .dataframe tbody tr th:only-of-type {\n",
       "        vertical-align: middle;\n",
       "    }\n",
       "\n",
       "    .dataframe tbody tr th {\n",
       "        vertical-align: top;\n",
       "    }\n",
       "\n",
       "    .dataframe thead th {\n",
       "        text-align: right;\n",
       "    }\n",
       "</style>\n",
       "<table border=\"1\" class=\"dataframe\">\n",
       "  <thead>\n",
       "    <tr style=\"text-align: right;\">\n",
       "      <th></th>\n",
       "      <th>bigram</th>\n",
       "      <th>bigram_count</th>\n",
       "      <th>bigram_pmi</th>\n",
       "    </tr>\n",
       "  </thead>\n",
       "  <tbody>\n",
       "    <tr>\n",
       "      <th>69723</th>\n",
       "      <td>obcowania płciowego</td>\n",
       "      <td>5</td>\n",
       "      <td>19.817425</td>\n",
       "    </tr>\n",
       "    <tr>\n",
       "      <th>69737</th>\n",
       "      <td>nietykalność cielesną</td>\n",
       "      <td>5</td>\n",
       "      <td>19.817425</td>\n",
       "    </tr>\n",
       "    <tr>\n",
       "      <th>67071</th>\n",
       "      <td>świeckie przygotowujące</td>\n",
       "      <td>5</td>\n",
       "      <td>19.817425</td>\n",
       "    </tr>\n",
       "    <tr>\n",
       "      <th>65121</th>\n",
       "      <td>ręcznego miotacza</td>\n",
       "      <td>5</td>\n",
       "      <td>19.817425</td>\n",
       "    </tr>\n",
       "    <tr>\n",
       "      <th>79091</th>\n",
       "      <td>teryto rialnego</td>\n",
       "      <td>5</td>\n",
       "      <td>19.817425</td>\n",
       "    </tr>\n",
       "    <tr>\n",
       "      <th>77302</th>\n",
       "      <td>zaszkodzić wynikom</td>\n",
       "      <td>5</td>\n",
       "      <td>19.817425</td>\n",
       "    </tr>\n",
       "    <tr>\n",
       "      <th>74952</th>\n",
       "      <td>obiegów chłodzących</td>\n",
       "      <td>5</td>\n",
       "      <td>19.817425</td>\n",
       "    </tr>\n",
       "    <tr>\n",
       "      <th>75974</th>\n",
       "      <td>środa wlkp</td>\n",
       "      <td>5</td>\n",
       "      <td>19.817425</td>\n",
       "    </tr>\n",
       "    <tr>\n",
       "      <th>73332</th>\n",
       "      <td>najnowszych zdobyczy</td>\n",
       "      <td>5</td>\n",
       "      <td>19.817425</td>\n",
       "    </tr>\n",
       "    <tr>\n",
       "      <th>68102</th>\n",
       "      <td>klęskami żywiołowymi</td>\n",
       "      <td>5</td>\n",
       "      <td>19.817425</td>\n",
       "    </tr>\n",
       "  </tbody>\n",
       "</table>\n",
       "</div>"
      ],
      "text/plain": [
       "                        bigram  bigram_count  bigram_pmi\n",
       "69723      obcowania płciowego             5   19.817425\n",
       "69737    nietykalność cielesną             5   19.817425\n",
       "67071  świeckie przygotowujące             5   19.817425\n",
       "65121        ręcznego miotacza             5   19.817425\n",
       "79091          teryto rialnego             5   19.817425\n",
       "77302       zaszkodzić wynikom             5   19.817425\n",
       "74952      obiegów chłodzących             5   19.817425\n",
       "75974               środa wlkp             5   19.817425\n",
       "73332     najnowszych zdobyczy             5   19.817425\n",
       "68102     klęskami żywiołowymi             5   19.817425"
      ]
     },
     "execution_count": 54,
     "metadata": {},
     "output_type": "execute_result"
    }
   ],
   "source": [
    "df_ngram_counts[df_ngram_counts['bigram_count'] >= 5].sort_values('bigram_pmi', ascending=False).head(10)"
   ]
  },
  {
   "cell_type": "code",
   "execution_count": 57,
   "metadata": {},
   "outputs": [
    {
     "data": {
      "text/html": [
       "<div>\n",
       "<style scoped>\n",
       "    .dataframe tbody tr th:only-of-type {\n",
       "        vertical-align: middle;\n",
       "    }\n",
       "\n",
       "    .dataframe tbody tr th {\n",
       "        vertical-align: top;\n",
       "    }\n",
       "\n",
       "    .dataframe thead th {\n",
       "        text-align: right;\n",
       "    }\n",
       "</style>\n",
       "<table border=\"1\" class=\"dataframe\">\n",
       "  <thead>\n",
       "    <tr style=\"text-align: right;\">\n",
       "      <th></th>\n",
       "      <th>bigram</th>\n",
       "      <th>bigram_count</th>\n",
       "      <th>pmi</th>\n",
       "    </tr>\n",
       "  </thead>\n",
       "  <tbody>\n",
       "    <tr>\n",
       "      <th>65839</th>\n",
       "      <td>młynek:subst młotkowy:adj</td>\n",
       "      <td>5</td>\n",
       "      <td>19.826339</td>\n",
       "    </tr>\n",
       "    <tr>\n",
       "      <th>70400</th>\n",
       "      <td>teryto:ign rialnego:ign</td>\n",
       "      <td>5</td>\n",
       "      <td>19.826339</td>\n",
       "    </tr>\n",
       "    <tr>\n",
       "      <th>64841</th>\n",
       "      <td>grzegorz:subst schetyna:ign</td>\n",
       "      <td>5</td>\n",
       "      <td>19.826339</td>\n",
       "    </tr>\n",
       "    <tr>\n",
       "      <th>65389</th>\n",
       "      <td>łańcuchowa:subst rozszczepienie:subst</td>\n",
       "      <td>5</td>\n",
       "      <td>19.563305</td>\n",
       "    </tr>\n",
       "    <tr>\n",
       "      <th>65838</th>\n",
       "      <td>pasta:subst emulsyjny:adj</td>\n",
       "      <td>5</td>\n",
       "      <td>19.563305</td>\n",
       "    </tr>\n",
       "    <tr>\n",
       "      <th>69618</th>\n",
       "      <td>chrom:subst sześciowartościowy:adj</td>\n",
       "      <td>5</td>\n",
       "      <td>19.563305</td>\n",
       "    </tr>\n",
       "    <tr>\n",
       "      <th>53732</th>\n",
       "      <td>adam:subst mickiewicz:subst</td>\n",
       "      <td>6</td>\n",
       "      <td>19.563305</td>\n",
       "    </tr>\n",
       "    <tr>\n",
       "      <th>65842</th>\n",
       "      <td>młyn:subst kulowy:adj</td>\n",
       "      <td>5</td>\n",
       "      <td>19.340913</td>\n",
       "    </tr>\n",
       "    <tr>\n",
       "      <th>48455</th>\n",
       "      <td>piotrek:subst trybunalski:adj</td>\n",
       "      <td>7</td>\n",
       "      <td>19.340913</td>\n",
       "    </tr>\n",
       "    <tr>\n",
       "      <th>64818</th>\n",
       "      <td>skrzynka:subst podawczy:adj</td>\n",
       "      <td>5</td>\n",
       "      <td>19.148268</td>\n",
       "    </tr>\n",
       "  </tbody>\n",
       "</table>\n",
       "</div>"
      ],
      "text/plain": [
       "                                      bigram  bigram_count        pmi\n",
       "65839              młynek:subst młotkowy:adj             5  19.826339\n",
       "70400                teryto:ign rialnego:ign             5  19.826339\n",
       "64841            grzegorz:subst schetyna:ign             5  19.826339\n",
       "65389  łańcuchowa:subst rozszczepienie:subst             5  19.563305\n",
       "65838              pasta:subst emulsyjny:adj             5  19.563305\n",
       "69618     chrom:subst sześciowartościowy:adj             5  19.563305\n",
       "53732            adam:subst mickiewicz:subst             6  19.563305\n",
       "65842                  młyn:subst kulowy:adj             5  19.340913\n",
       "48455          piotrek:subst trybunalski:adj             7  19.340913\n",
       "64818            skrzynka:subst podawczy:adj             5  19.148268"
      ]
     },
     "execution_count": 57,
     "metadata": {},
     "output_type": "execute_result"
    }
   ],
   "source": [
    "df_clarin_ngram_counts[df_clarin_ngram_counts['bigram_count'] >= 5].sort_values('pmi', ascending=False).head(10)"
   ]
  },
  {
   "cell_type": "markdown",
   "metadata": {},
   "source": [
    "#### 11 & 12 Ad1. - trigrams without tagging and lemmatization (SpaCy)"
   ]
  },
  {
   "cell_type": "code",
   "execution_count": 58,
   "metadata": {},
   "outputs": [],
   "source": [
    "trigrams = []\n",
    "for (filename, tokenized_bill_content) in bills:\n",
    "    trigrams.extend(ngram_moving_window(3, tokenized_bill_content))"
   ]
  },
  {
   "cell_type": "code",
   "execution_count": 59,
   "metadata": {},
   "outputs": [],
   "source": [
    "trigram_counts = Counter(trigrams)"
   ]
  },
  {
   "cell_type": "code",
   "execution_count": 60,
   "metadata": {},
   "outputs": [],
   "source": [
    "trigram_counts_valid = {}\n",
    "\n",
    "for trigram_count in trigram_counts.items():\n",
    "    trigram, count = trigram_count\n",
    "    if is_valid_ngram(trigram):\n",
    "        trigram_counts_valid[trigram] = count\n",
    "\n",
    "trigram_counts_valid = sorted(trigram_counts_valid.items(), key=lambda x: x[1], reverse=True)"
   ]
  },
  {
   "cell_type": "code",
   "execution_count": 61,
   "metadata": {},
   "outputs": [
    {
     "data": {
      "text/html": [
       "<div>\n",
       "<style scoped>\n",
       "    .dataframe tbody tr th:only-of-type {\n",
       "        vertical-align: middle;\n",
       "    }\n",
       "\n",
       "    .dataframe tbody tr th {\n",
       "        vertical-align: top;\n",
       "    }\n",
       "\n",
       "    .dataframe thead th {\n",
       "        text-align: right;\n",
       "    }\n",
       "</style>\n",
       "<table border=\"1\" class=\"dataframe\">\n",
       "  <thead>\n",
       "    <tr style=\"text-align: right;\">\n",
       "      <th></th>\n",
       "      <th>trigram</th>\n",
       "      <th>count</th>\n",
       "    </tr>\n",
       "  </thead>\n",
       "  <tbody>\n",
       "    <tr>\n",
       "      <th>0</th>\n",
       "      <td>o których mowa</td>\n",
       "      <td>13856</td>\n",
       "    </tr>\n",
       "    <tr>\n",
       "      <th>1</th>\n",
       "      <td>których mowa w</td>\n",
       "      <td>13806</td>\n",
       "    </tr>\n",
       "    <tr>\n",
       "      <th>2</th>\n",
       "      <td>mowa w ust</td>\n",
       "      <td>13474</td>\n",
       "    </tr>\n",
       "    <tr>\n",
       "      <th>3</th>\n",
       "      <td>mowa w art</td>\n",
       "      <td>12311</td>\n",
       "    </tr>\n",
       "    <tr>\n",
       "      <th>4</th>\n",
       "      <td>o którym mowa</td>\n",
       "      <td>9169</td>\n",
       "    </tr>\n",
       "    <tr>\n",
       "      <th>5</th>\n",
       "      <td>którym mowa w</td>\n",
       "      <td>9147</td>\n",
       "    </tr>\n",
       "    <tr>\n",
       "      <th>6</th>\n",
       "      <td>o której mowa</td>\n",
       "      <td>5510</td>\n",
       "    </tr>\n",
       "    <tr>\n",
       "      <th>7</th>\n",
       "      <td>której mowa w</td>\n",
       "      <td>5487</td>\n",
       "    </tr>\n",
       "    <tr>\n",
       "      <th>8</th>\n",
       "      <td>w drodze rozporządzenia</td>\n",
       "      <td>4685</td>\n",
       "    </tr>\n",
       "    <tr>\n",
       "      <th>9</th>\n",
       "      <td>właściwy do spraw</td>\n",
       "      <td>4620</td>\n",
       "    </tr>\n",
       "  </tbody>\n",
       "</table>\n",
       "</div>"
      ],
      "text/plain": [
       "                   trigram  count\n",
       "0           o których mowa  13856\n",
       "1           których mowa w  13806\n",
       "2               mowa w ust  13474\n",
       "3               mowa w art  12311\n",
       "4            o którym mowa   9169\n",
       "5            którym mowa w   9147\n",
       "6            o której mowa   5510\n",
       "7            której mowa w   5487\n",
       "8  w drodze rozporządzenia   4685\n",
       "9        właściwy do spraw   4620"
      ]
     },
     "execution_count": 61,
     "metadata": {},
     "output_type": "execute_result"
    }
   ],
   "source": [
    "df_trigram_counts = pd.DataFrame(trigram_counts_valid, columns=['trigram', 'count'])\n",
    "df_trigram_counts.head(10)"
   ]
  },
  {
   "cell_type": "code",
   "execution_count": 62,
   "metadata": {},
   "outputs": [],
   "source": [
    "counted_trigrams: Dict[str, int] = df_trigram_counts.set_index('trigram').to_dict()['count']\n",
    "total_trigrams_occurences = df_trigram_counts['count'].sum(axis=0)\n",
    "counted_trigram_probabilities: Dict[str, float] = dict(map(lambda kv: (kv[0], kv[1]/total_trigrams_occurences), counted_trigrams.items()))"
   ]
  },
  {
   "cell_type": "code",
   "execution_count": 63,
   "metadata": {},
   "outputs": [],
   "source": [
    "def calculate_trigram_pmi(trigram: str):\n",
    "    import math\n",
    "    token1, token2, token3 = trigram.split(\" \")\n",
    "    p_trigram = counted_trigram_probabilities[trigram]\n",
    "\n",
    "    p_token1 = counted_words_probabilities[token1]\n",
    "    p_token2 = counted_words_probabilities[token2]\n",
    "    p_token3 = counted_words_probabilities[token3]\n",
    "\n",
    "    return math.log2(p_trigram / (p_token1*p_token2*p_token3))"
   ]
  },
  {
   "cell_type": "code",
   "execution_count": 64,
   "metadata": {},
   "outputs": [],
   "source": [
    "df_trigram_counts['pmi'] = df_trigram_counts['trigram'].apply(calculate_trigram_pmi)"
   ]
  },
  {
   "cell_type": "code",
   "execution_count": 65,
   "metadata": {},
   "outputs": [
    {
     "data": {
      "text/html": [
       "<div>\n",
       "<style scoped>\n",
       "    .dataframe tbody tr th:only-of-type {\n",
       "        vertical-align: middle;\n",
       "    }\n",
       "\n",
       "    .dataframe tbody tr th {\n",
       "        vertical-align: top;\n",
       "    }\n",
       "\n",
       "    .dataframe thead th {\n",
       "        text-align: right;\n",
       "    }\n",
       "</style>\n",
       "<table border=\"1\" class=\"dataframe\">\n",
       "  <thead>\n",
       "    <tr style=\"text-align: right;\">\n",
       "      <th></th>\n",
       "      <th>trigram</th>\n",
       "      <th>count</th>\n",
       "      <th>pmi</th>\n",
       "    </tr>\n",
       "  </thead>\n",
       "  <tbody>\n",
       "    <tr>\n",
       "      <th>942061</th>\n",
       "      <td>aromatyzowanego koktajlu winopodobnego</td>\n",
       "      <td>1</td>\n",
       "      <td>44.200866</td>\n",
       "    </tr>\n",
       "    <tr>\n",
       "      <th>449021</th>\n",
       "      <td>english language college</td>\n",
       "      <td>1</td>\n",
       "      <td>44.200866</td>\n",
       "    </tr>\n",
       "    <tr>\n",
       "      <th>439427</th>\n",
       "      <td>ukoń ăúĺîéá ëóúôáłcenia</td>\n",
       "      <td>1</td>\n",
       "      <td>44.200866</td>\n",
       "    </tr>\n",
       "    <tr>\n",
       "      <th>867644</th>\n",
       "      <td>grzyba synchytrium endobioticum</td>\n",
       "      <td>1</td>\n",
       "      <td>44.200866</td>\n",
       "    </tr>\n",
       "    <tr>\n",
       "      <th>845112</th>\n",
       "      <td>mink virus enteritis</td>\n",
       "      <td>1</td>\n",
       "      <td>44.200866</td>\n",
       "    </tr>\n",
       "    <tr>\n",
       "      <th>736135</th>\n",
       "      <td>pozyskać sortymentów drzewnych</td>\n",
       "      <td>1</td>\n",
       "      <td>44.200866</td>\n",
       "    </tr>\n",
       "    <tr>\n",
       "      <th>941800</th>\n",
       "      <td>nieskarmelizowanym sokiem winogronowym</td>\n",
       "      <td>1</td>\n",
       "      <td>44.200866</td>\n",
       "    </tr>\n",
       "    <tr>\n",
       "      <th>494812</th>\n",
       "      <td>dosuszaniu blaszki liściowej</td>\n",
       "      <td>1</td>\n",
       "      <td>44.200866</td>\n",
       "    </tr>\n",
       "    <tr>\n",
       "      <th>631520</th>\n",
       "      <td>prawosławnym metropolitą warszawskim</td>\n",
       "      <td>1</td>\n",
       "      <td>44.200866</td>\n",
       "    </tr>\n",
       "    <tr>\n",
       "      <th>703876</th>\n",
       "      <td>my okr eśl</td>\n",
       "      <td>1</td>\n",
       "      <td>44.200866</td>\n",
       "    </tr>\n",
       "  </tbody>\n",
       "</table>\n",
       "</div>"
      ],
      "text/plain": [
       "                                       trigram  count        pmi\n",
       "942061  aromatyzowanego koktajlu winopodobnego      1  44.200866\n",
       "449021                english language college      1  44.200866\n",
       "439427                 ukoń ăúĺîéá ëóúôáłcenia      1  44.200866\n",
       "867644         grzyba synchytrium endobioticum      1  44.200866\n",
       "845112                    mink virus enteritis      1  44.200866\n",
       "736135          pozyskać sortymentów drzewnych      1  44.200866\n",
       "941800  nieskarmelizowanym sokiem winogronowym      1  44.200866\n",
       "494812            dosuszaniu blaszki liściowej      1  44.200866\n",
       "631520    prawosławnym metropolitą warszawskim      1  44.200866\n",
       "703876                              my okr eśl      1  44.200866"
      ]
     },
     "execution_count": 65,
     "metadata": {},
     "output_type": "execute_result"
    }
   ],
   "source": [
    "df_trigram_counts.sort_values('pmi', ascending=False).head(10)"
   ]
  },
  {
   "cell_type": "code",
   "execution_count": 66,
   "metadata": {},
   "outputs": [
    {
     "data": {
      "text/html": [
       "<div>\n",
       "<style scoped>\n",
       "    .dataframe tbody tr th:only-of-type {\n",
       "        vertical-align: middle;\n",
       "    }\n",
       "\n",
       "    .dataframe tbody tr th {\n",
       "        vertical-align: top;\n",
       "    }\n",
       "\n",
       "    .dataframe thead th {\n",
       "        text-align: right;\n",
       "    }\n",
       "</style>\n",
       "<table border=\"1\" class=\"dataframe\">\n",
       "  <thead>\n",
       "    <tr style=\"text-align: right;\">\n",
       "      <th></th>\n",
       "      <th>trigram</th>\n",
       "      <th>count</th>\n",
       "      <th>pmi</th>\n",
       "    </tr>\n",
       "  </thead>\n",
       "  <tbody>\n",
       "    <tr>\n",
       "      <th>20070</th>\n",
       "      <td>finałowego turnieju mistrzostw</td>\n",
       "      <td>10</td>\n",
       "      <td>37.040995</td>\n",
       "    </tr>\n",
       "    <tr>\n",
       "      <th>14105</th>\n",
       "      <td>profilem zaufanym epuap</td>\n",
       "      <td>13</td>\n",
       "      <td>36.799986</td>\n",
       "    </tr>\n",
       "    <tr>\n",
       "      <th>18052</th>\n",
       "      <td>cienką sierścią zwierzęcą</td>\n",
       "      <td>11</td>\n",
       "      <td>36.741434</td>\n",
       "    </tr>\n",
       "    <tr>\n",
       "      <th>32096</th>\n",
       "      <td>przedwczesnego wyrębu drzewostanu</td>\n",
       "      <td>7</td>\n",
       "      <td>36.615903</td>\n",
       "    </tr>\n",
       "    <tr>\n",
       "      <th>57805</th>\n",
       "      <td>centralnemu biuru antykorupcyjnemu</td>\n",
       "      <td>5</td>\n",
       "      <td>36.349117</td>\n",
       "    </tr>\n",
       "    <tr>\n",
       "      <th>20071</th>\n",
       "      <td>turnieju mistrzostw europy</td>\n",
       "      <td>10</td>\n",
       "      <td>36.275460</td>\n",
       "    </tr>\n",
       "    <tr>\n",
       "      <th>14104</th>\n",
       "      <td>potwierdzonym profilem zaufanym</td>\n",
       "      <td>13</td>\n",
       "      <td>36.252499</td>\n",
       "    </tr>\n",
       "    <tr>\n",
       "      <th>23238</th>\n",
       "      <td>szybkiemu postępowi technicznemu</td>\n",
       "      <td>9</td>\n",
       "      <td>36.124050</td>\n",
       "    </tr>\n",
       "    <tr>\n",
       "      <th>20073</th>\n",
       "      <td>piłce nożnej uefa</td>\n",
       "      <td>10</td>\n",
       "      <td>36.104941</td>\n",
       "    </tr>\n",
       "    <tr>\n",
       "      <th>25496</th>\n",
       "      <td>wypalonym paliwem jądrowym</td>\n",
       "      <td>8</td>\n",
       "      <td>35.901658</td>\n",
       "    </tr>\n",
       "  </tbody>\n",
       "</table>\n",
       "</div>"
      ],
      "text/plain": [
       "                                  trigram  count        pmi\n",
       "20070      finałowego turnieju mistrzostw     10  37.040995\n",
       "14105             profilem zaufanym epuap     13  36.799986\n",
       "18052           cienką sierścią zwierzęcą     11  36.741434\n",
       "32096   przedwczesnego wyrębu drzewostanu      7  36.615903\n",
       "57805  centralnemu biuru antykorupcyjnemu      5  36.349117\n",
       "20071          turnieju mistrzostw europy     10  36.275460\n",
       "14104     potwierdzonym profilem zaufanym     13  36.252499\n",
       "23238    szybkiemu postępowi technicznemu      9  36.124050\n",
       "20073                   piłce nożnej uefa     10  36.104941\n",
       "25496          wypalonym paliwem jądrowym      8  35.901658"
      ]
     },
     "execution_count": 66,
     "metadata": {},
     "output_type": "execute_result"
    }
   ],
   "source": [
    "df_trigram_counts[df_trigram_counts['count'] >= 5].sort_values('pmi', ascending=False).head(10)"
   ]
  },
  {
   "cell_type": "markdown",
   "metadata": {},
   "source": [
    "#### 11 & 12 Ad1. - trigrams with tagging and lemmatization (Clarin)"
   ]
  },
  {
   "cell_type": "code",
   "execution_count": 67,
   "metadata": {},
   "outputs": [],
   "source": [
    "clarin_trigrams = []\n",
    "for bill_filename in clarin_bills.keys():\n",
    "    tokenized_content = clarin_bills[bill_filename]['tokenized_content']\n",
    "    tokens_metadata = clarin_bills[bill_filename]['tokens_metadata']\n",
    "\n",
    "    clarin_trigrams.extend(\n",
    "        ngram_clarin(3, tokenized_content, tokens_metadata)\n",
    "    )"
   ]
  },
  {
   "cell_type": "code",
   "execution_count": 68,
   "metadata": {},
   "outputs": [],
   "source": [
    "clarin_trigrams_counts = Counter(clarin_trigrams)"
   ]
  },
  {
   "cell_type": "code",
   "execution_count": 69,
   "metadata": {},
   "outputs": [],
   "source": [
    "clarin_trigrams_counts_valid = {}\n",
    "\n",
    "def is_valid_clarin_trigram(trigram: str) -> bool:\n",
    "    token1_meta, token2_meta, token3_meta = trigram.split(\" \")\n",
    "\n",
    "    if ':interp' in token1_meta or ':interp' in token2_meta or ':interp' in token3_meta:\n",
    "        return False\n",
    "\n",
    "    token_1 = token1_meta.split(\":\")[0]\n",
    "    token_2 = token2_meta.split(\":\")[0]\n",
    "    token_3 = token3_meta.split(\":\")[0]\n",
    "\n",
    "    trigram = token_1 + \" \" + token_2 + \" \" + token_3\n",
    "    return True if regex.search(r\"[^a-zA-Z\\s\\p{L}]\", trigram) is None else False\n",
    "\n",
    "for clarin_trigram_count in clarin_trigrams_counts.items():\n",
    "    clarin_trigram, count = clarin_trigram_count\n",
    "    if is_valid_clarin_trigram(clarin_trigram):\n",
    "        clarin_trigrams_counts_valid[clarin_trigram] = count\n",
    "\n",
    "clarin_trigrams_counts_valid = sorted(clarin_trigrams_counts_valid.items(), key=lambda x: x[1], reverse=True)"
   ]
  },
  {
   "cell_type": "code",
   "execution_count": 70,
   "metadata": {},
   "outputs": [],
   "source": [
    "df_clarin_trigram_counts = pd.DataFrame(\n",
    "    clarin_trigrams_counts_valid, columns=['trigram', 'trigram_count'])"
   ]
  },
  {
   "cell_type": "code",
   "execution_count": 71,
   "metadata": {},
   "outputs": [],
   "source": [
    "total_clarin_trigrams_occurences = df_clarin_trigram_counts['trigram_count'].sum(axis=0)\n",
    "\n",
    "counted_clarin_trigrams: Dict[str, int] = (\n",
    "    df_clarin_trigram_counts.set_index('trigram').to_dict()['trigram_count'])\n",
    "\n",
    "counted_clarin_trigrams_probabilities: Dict[str, float] = dict(\n",
    "    map(lambda kv: (kv[0], kv[1]/total_trigrams_occurences), counted_clarin_trigrams.items()))"
   ]
  },
  {
   "cell_type": "code",
   "execution_count": 72,
   "metadata": {},
   "outputs": [],
   "source": [
    "def calculate_clarin_trigram_pmi(clarin_trigram: str):\n",
    "    import math\n",
    "    token1_meta, token2_meta, token3_meta = clarin_trigram.split(\" \")\n",
    "\n",
    "    token1 = token1_meta.split(\":\")[0]\n",
    "    token2 = token2_meta.split(\":\")[0]\n",
    "    token3 = token3_meta.split(\":\")[0]\n",
    "\n",
    "    p_clarin_trigram = counted_clarin_trigrams_probabilities[clarin_trigram]\n",
    "\n",
    "    p_token1 = counted_lemmatized_tokens_probabilities[token1]\n",
    "    p_token2 = counted_lemmatized_tokens_probabilities[token2]\n",
    "    p_token3 = counted_lemmatized_tokens_probabilities[token3]\n",
    "\n",
    "    return math.log2(p_clarin_trigram / (p_token1*p_token2*p_token3))"
   ]
  },
  {
   "cell_type": "code",
   "execution_count": 73,
   "metadata": {},
   "outputs": [],
   "source": [
    "df_clarin_trigram_counts['pmi'] = df_clarin_trigram_counts['trigram'].apply(calculate_clarin_trigram_pmi)"
   ]
  },
  {
   "cell_type": "code",
   "execution_count": 74,
   "metadata": {},
   "outputs": [
    {
     "data": {
      "text/html": [
       "<div>\n",
       "<style scoped>\n",
       "    .dataframe tbody tr th:only-of-type {\n",
       "        vertical-align: middle;\n",
       "    }\n",
       "\n",
       "    .dataframe tbody tr th {\n",
       "        vertical-align: top;\n",
       "    }\n",
       "\n",
       "    .dataframe thead th {\n",
       "        text-align: right;\n",
       "    }\n",
       "</style>\n",
       "<table border=\"1\" class=\"dataframe\">\n",
       "  <thead>\n",
       "    <tr style=\"text-align: right;\">\n",
       "      <th></th>\n",
       "      <th>trigram</th>\n",
       "      <th>trigram_count</th>\n",
       "      <th>pmi</th>\n",
       "    </tr>\n",
       "  </thead>\n",
       "  <tbody>\n",
       "    <tr>\n",
       "      <th>58987</th>\n",
       "      <td>porcelanowy:adj młyn:subst kulowy:adj</td>\n",
       "      <td>5</td>\n",
       "      <td>38.084955</td>\n",
       "    </tr>\n",
       "    <tr>\n",
       "      <th>38111</th>\n",
       "      <td>wymiennik:subst przeponowy:adj rurowy:adj</td>\n",
       "      <td>7</td>\n",
       "      <td>37.214238</td>\n",
       "    </tr>\n",
       "    <tr>\n",
       "      <th>58434</th>\n",
       "      <td>reakcja:subst łańcuchowa:subst rozszczepienie:...</td>\n",
       "      <td>5</td>\n",
       "      <td>36.381348</td>\n",
       "    </tr>\n",
       "    <tr>\n",
       "      <th>23922</th>\n",
       "      <td>piłka:subst nożny:adj uefa:subst</td>\n",
       "      <td>10</td>\n",
       "      <td>35.455348</td>\n",
       "    </tr>\n",
       "    <tr>\n",
       "      <th>42208</th>\n",
       "      <td>stany:subst zjednoczyć:ppas ameryka:subst</td>\n",
       "      <td>6</td>\n",
       "      <td>35.214238</td>\n",
       "    </tr>\n",
       "    <tr>\n",
       "      <th>23919</th>\n",
       "      <td>finałowy:adj turniej:subst mistrzostwa:subst</td>\n",
       "      <td>10</td>\n",
       "      <td>35.172579</td>\n",
       "    </tr>\n",
       "    <tr>\n",
       "      <th>26870</th>\n",
       "      <td>przedwczesny:adj wyrąb:subst drzewostan:subst</td>\n",
       "      <td>9</td>\n",
       "      <td>34.999919</td>\n",
       "    </tr>\n",
       "    <tr>\n",
       "      <th>33680</th>\n",
       "      <td>kurtka:subst anorak:subst etc:ign</td>\n",
       "      <td>8</td>\n",
       "      <td>34.856686</td>\n",
       "    </tr>\n",
       "    <tr>\n",
       "      <th>59358</th>\n",
       "      <td>mecz:subst piłka:subst nożny:adj</td>\n",
       "      <td>5</td>\n",
       "      <td>34.718383</td>\n",
       "    </tr>\n",
       "    <tr>\n",
       "      <th>17223</th>\n",
       "      <td>profil:subst zaufany:adj epuap:ign</td>\n",
       "      <td>13</td>\n",
       "      <td>34.631155</td>\n",
       "    </tr>\n",
       "  </tbody>\n",
       "</table>\n",
       "</div>"
      ],
      "text/plain": [
       "                                                 trigram  trigram_count  \\\n",
       "58987              porcelanowy:adj młyn:subst kulowy:adj              5   \n",
       "38111          wymiennik:subst przeponowy:adj rurowy:adj              7   \n",
       "58434  reakcja:subst łańcuchowa:subst rozszczepienie:...              5   \n",
       "23922                   piłka:subst nożny:adj uefa:subst             10   \n",
       "42208          stany:subst zjednoczyć:ppas ameryka:subst              6   \n",
       "23919       finałowy:adj turniej:subst mistrzostwa:subst             10   \n",
       "26870      przedwczesny:adj wyrąb:subst drzewostan:subst              9   \n",
       "33680                  kurtka:subst anorak:subst etc:ign              8   \n",
       "59358                   mecz:subst piłka:subst nożny:adj              5   \n",
       "17223                 profil:subst zaufany:adj epuap:ign             13   \n",
       "\n",
       "             pmi  \n",
       "58987  38.084955  \n",
       "38111  37.214238  \n",
       "58434  36.381348  \n",
       "23922  35.455348  \n",
       "42208  35.214238  \n",
       "23919  35.172579  \n",
       "26870  34.999919  \n",
       "33680  34.856686  \n",
       "59358  34.718383  \n",
       "17223  34.631155  "
      ]
     },
     "execution_count": 74,
     "metadata": {},
     "output_type": "execute_result"
    }
   ],
   "source": [
    "df_clarin_trigram_counts[df_clarin_trigram_counts['trigram_count'] >= 5].sort_values('pmi', ascending=False).head(10)"
   ]
  },
  {
   "cell_type": "markdown",
   "metadata": {},
   "source": [
    "#### TRIGRAMS - RESULTS\n",
    "\n",
    "Compare the results for copora without and with tagging and lemmatization for bigrams."
   ]
  },
  {
   "cell_type": "code",
   "execution_count": 75,
   "metadata": {},
   "outputs": [
    {
     "data": {
      "text/html": [
       "<div>\n",
       "<style scoped>\n",
       "    .dataframe tbody tr th:only-of-type {\n",
       "        vertical-align: middle;\n",
       "    }\n",
       "\n",
       "    .dataframe tbody tr th {\n",
       "        vertical-align: top;\n",
       "    }\n",
       "\n",
       "    .dataframe thead th {\n",
       "        text-align: right;\n",
       "    }\n",
       "</style>\n",
       "<table border=\"1\" class=\"dataframe\">\n",
       "  <thead>\n",
       "    <tr style=\"text-align: right;\">\n",
       "      <th></th>\n",
       "      <th>trigram</th>\n",
       "      <th>count</th>\n",
       "      <th>pmi</th>\n",
       "    </tr>\n",
       "  </thead>\n",
       "  <tbody>\n",
       "    <tr>\n",
       "      <th>20070</th>\n",
       "      <td>finałowego turnieju mistrzostw</td>\n",
       "      <td>10</td>\n",
       "      <td>37.040995</td>\n",
       "    </tr>\n",
       "    <tr>\n",
       "      <th>14105</th>\n",
       "      <td>profilem zaufanym epuap</td>\n",
       "      <td>13</td>\n",
       "      <td>36.799986</td>\n",
       "    </tr>\n",
       "    <tr>\n",
       "      <th>18052</th>\n",
       "      <td>cienką sierścią zwierzęcą</td>\n",
       "      <td>11</td>\n",
       "      <td>36.741434</td>\n",
       "    </tr>\n",
       "    <tr>\n",
       "      <th>32096</th>\n",
       "      <td>przedwczesnego wyrębu drzewostanu</td>\n",
       "      <td>7</td>\n",
       "      <td>36.615903</td>\n",
       "    </tr>\n",
       "    <tr>\n",
       "      <th>57805</th>\n",
       "      <td>centralnemu biuru antykorupcyjnemu</td>\n",
       "      <td>5</td>\n",
       "      <td>36.349117</td>\n",
       "    </tr>\n",
       "    <tr>\n",
       "      <th>20071</th>\n",
       "      <td>turnieju mistrzostw europy</td>\n",
       "      <td>10</td>\n",
       "      <td>36.275460</td>\n",
       "    </tr>\n",
       "    <tr>\n",
       "      <th>14104</th>\n",
       "      <td>potwierdzonym profilem zaufanym</td>\n",
       "      <td>13</td>\n",
       "      <td>36.252499</td>\n",
       "    </tr>\n",
       "    <tr>\n",
       "      <th>23238</th>\n",
       "      <td>szybkiemu postępowi technicznemu</td>\n",
       "      <td>9</td>\n",
       "      <td>36.124050</td>\n",
       "    </tr>\n",
       "    <tr>\n",
       "      <th>20073</th>\n",
       "      <td>piłce nożnej uefa</td>\n",
       "      <td>10</td>\n",
       "      <td>36.104941</td>\n",
       "    </tr>\n",
       "    <tr>\n",
       "      <th>25496</th>\n",
       "      <td>wypalonym paliwem jądrowym</td>\n",
       "      <td>8</td>\n",
       "      <td>35.901658</td>\n",
       "    </tr>\n",
       "  </tbody>\n",
       "</table>\n",
       "</div>"
      ],
      "text/plain": [
       "                                  trigram  count        pmi\n",
       "20070      finałowego turnieju mistrzostw     10  37.040995\n",
       "14105             profilem zaufanym epuap     13  36.799986\n",
       "18052           cienką sierścią zwierzęcą     11  36.741434\n",
       "32096   przedwczesnego wyrębu drzewostanu      7  36.615903\n",
       "57805  centralnemu biuru antykorupcyjnemu      5  36.349117\n",
       "20071          turnieju mistrzostw europy     10  36.275460\n",
       "14104     potwierdzonym profilem zaufanym     13  36.252499\n",
       "23238    szybkiemu postępowi technicznemu      9  36.124050\n",
       "20073                   piłce nożnej uefa     10  36.104941\n",
       "25496          wypalonym paliwem jądrowym      8  35.901658"
      ]
     },
     "execution_count": 75,
     "metadata": {},
     "output_type": "execute_result"
    }
   ],
   "source": [
    "df_trigram_counts[df_trigram_counts['count'] >= 5].sort_values('pmi', ascending=False).head(10)"
   ]
  },
  {
   "cell_type": "code",
   "execution_count": 76,
   "metadata": {},
   "outputs": [
    {
     "data": {
      "text/html": [
       "<div>\n",
       "<style scoped>\n",
       "    .dataframe tbody tr th:only-of-type {\n",
       "        vertical-align: middle;\n",
       "    }\n",
       "\n",
       "    .dataframe tbody tr th {\n",
       "        vertical-align: top;\n",
       "    }\n",
       "\n",
       "    .dataframe thead th {\n",
       "        text-align: right;\n",
       "    }\n",
       "</style>\n",
       "<table border=\"1\" class=\"dataframe\">\n",
       "  <thead>\n",
       "    <tr style=\"text-align: right;\">\n",
       "      <th></th>\n",
       "      <th>trigram</th>\n",
       "      <th>trigram_count</th>\n",
       "      <th>pmi</th>\n",
       "    </tr>\n",
       "  </thead>\n",
       "  <tbody>\n",
       "    <tr>\n",
       "      <th>58987</th>\n",
       "      <td>porcelanowy:adj młyn:subst kulowy:adj</td>\n",
       "      <td>5</td>\n",
       "      <td>38.084955</td>\n",
       "    </tr>\n",
       "    <tr>\n",
       "      <th>38111</th>\n",
       "      <td>wymiennik:subst przeponowy:adj rurowy:adj</td>\n",
       "      <td>7</td>\n",
       "      <td>37.214238</td>\n",
       "    </tr>\n",
       "    <tr>\n",
       "      <th>58434</th>\n",
       "      <td>reakcja:subst łańcuchowa:subst rozszczepienie:...</td>\n",
       "      <td>5</td>\n",
       "      <td>36.381348</td>\n",
       "    </tr>\n",
       "    <tr>\n",
       "      <th>23922</th>\n",
       "      <td>piłka:subst nożny:adj uefa:subst</td>\n",
       "      <td>10</td>\n",
       "      <td>35.455348</td>\n",
       "    </tr>\n",
       "    <tr>\n",
       "      <th>42208</th>\n",
       "      <td>stany:subst zjednoczyć:ppas ameryka:subst</td>\n",
       "      <td>6</td>\n",
       "      <td>35.214238</td>\n",
       "    </tr>\n",
       "    <tr>\n",
       "      <th>23919</th>\n",
       "      <td>finałowy:adj turniej:subst mistrzostwa:subst</td>\n",
       "      <td>10</td>\n",
       "      <td>35.172579</td>\n",
       "    </tr>\n",
       "    <tr>\n",
       "      <th>26870</th>\n",
       "      <td>przedwczesny:adj wyrąb:subst drzewostan:subst</td>\n",
       "      <td>9</td>\n",
       "      <td>34.999919</td>\n",
       "    </tr>\n",
       "    <tr>\n",
       "      <th>33680</th>\n",
       "      <td>kurtka:subst anorak:subst etc:ign</td>\n",
       "      <td>8</td>\n",
       "      <td>34.856686</td>\n",
       "    </tr>\n",
       "    <tr>\n",
       "      <th>59358</th>\n",
       "      <td>mecz:subst piłka:subst nożny:adj</td>\n",
       "      <td>5</td>\n",
       "      <td>34.718383</td>\n",
       "    </tr>\n",
       "    <tr>\n",
       "      <th>17223</th>\n",
       "      <td>profil:subst zaufany:adj epuap:ign</td>\n",
       "      <td>13</td>\n",
       "      <td>34.631155</td>\n",
       "    </tr>\n",
       "  </tbody>\n",
       "</table>\n",
       "</div>"
      ],
      "text/plain": [
       "                                                 trigram  trigram_count  \\\n",
       "58987              porcelanowy:adj młyn:subst kulowy:adj              5   \n",
       "38111          wymiennik:subst przeponowy:adj rurowy:adj              7   \n",
       "58434  reakcja:subst łańcuchowa:subst rozszczepienie:...              5   \n",
       "23922                   piłka:subst nożny:adj uefa:subst             10   \n",
       "42208          stany:subst zjednoczyć:ppas ameryka:subst              6   \n",
       "23919       finałowy:adj turniej:subst mistrzostwa:subst             10   \n",
       "26870      przedwczesny:adj wyrąb:subst drzewostan:subst              9   \n",
       "33680                  kurtka:subst anorak:subst etc:ign              8   \n",
       "59358                   mecz:subst piłka:subst nożny:adj              5   \n",
       "17223                 profil:subst zaufany:adj epuap:ign             13   \n",
       "\n",
       "             pmi  \n",
       "58987  38.084955  \n",
       "38111  37.214238  \n",
       "58434  36.381348  \n",
       "23922  35.455348  \n",
       "42208  35.214238  \n",
       "23919  35.172579  \n",
       "26870  34.999919  \n",
       "33680  34.856686  \n",
       "59358  34.718383  \n",
       "17223  34.631155  "
      ]
     },
     "execution_count": 76,
     "metadata": {},
     "output_type": "execute_result"
    }
   ],
   "source": [
    "df_clarin_trigram_counts[df_clarin_trigram_counts['trigram_count'] >= 5].sort_values('pmi', ascending=False).head(10)"
   ]
  },
  {
   "cell_type": "markdown",
   "metadata": {},
   "source": []
  }
 ],
 "metadata": {
  "kernelspec": {
   "display_name": "Python 3.10.5 64-bit ('3.10.5')",
   "language": "python",
   "name": "python3"
  },
  "language_info": {
   "codemirror_mode": {
    "name": "ipython",
    "version": 3
   },
   "file_extension": ".py",
   "mimetype": "text/x-python",
   "name": "python",
   "nbconvert_exporter": "python",
   "pygments_lexer": "ipython3",
   "version": "3.10.5"
  },
  "orig_nbformat": 4,
  "vscode": {
   "interpreter": {
    "hash": "16ce62d89139d6b459a4fa414ee333754219537208081da9003b7fab6a6c11db"
   }
  }
 },
 "nbformat": 4,
 "nbformat_minor": 2
}
