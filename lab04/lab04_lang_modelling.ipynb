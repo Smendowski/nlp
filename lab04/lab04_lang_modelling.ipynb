{
 "cells": [
  {
   "cell_type": "markdown",
   "metadata": {},
   "source": [
    "#### 1. Use SpaCy tokenizer API to tokenize the text from the law corpus."
   ]
  },
  {
   "cell_type": "code",
   "execution_count": 25,
   "metadata": {},
   "outputs": [],
   "source": [
    "import glob\n",
    "import pandas as pd\n",
    "import regex\n",
    "import spacy\n",
    "from spacy.tokenizer import Tokenizer\n",
    "from spacy.lang.pl import Polish\n",
    "from spacy.tokens.doc import Doc as SpacyDoc\n",
    "from spacy.tokens.span import Span as SpacySpan\n",
    "\n",
    "nlp = spacy.load(\"pl_core_news_sm\")\n",
    "tokenizer = nlp.tokenizer"
   ]
  },
  {
   "cell_type": "code",
   "execution_count": 26,
   "metadata": {},
   "outputs": [],
   "source": [
    "from typing import Dict"
   ]
  },
  {
   "cell_type": "code",
   "execution_count": 27,
   "metadata": {},
   "outputs": [],
   "source": [
    "def load_bills(\n",
    "    path,\n",
    "    extension= \"txt\"\n",
    "):\n",
    "    paths = glob.glob(f\"{path}/*.{extension}\")\n",
    "    for file_path in paths:\n",
    "        with open(file_path) as f:\n",
    "            yield (\n",
    "                file_path.split(\"/\")[-1],\n",
    "                f.read(),\n",
    "            )\n",
    "\n",
    "bills = list(load_bills(path=\"/Users/mateusz/nlp/bills\"))\n",
    "\n",
    "\n",
    "def normalize(content: str):\n",
    "    return regex.sub(r\"\\s+\", \" \", content.strip().lower())\n",
    "\n",
    "\n",
    "for idx in range(len(bills)):\n",
    "    filename, content = bills[idx]\n",
    "    normalized_content = normalize(content)\n",
    "    tokenized_content = tokenizer(normalized_content)\n",
    "    bills[idx] = (filename, tokenized_content)"
   ]
  },
  {
   "cell_type": "code",
   "execution_count": 28,
   "metadata": {},
   "outputs": [
    {
     "name": "stdout",
     "output_type": "stream",
     "text": [
      "<class 'spacy.tokens.token.Token'>\n",
      "<class 'str'>\n",
      "<class 'spacy.tokens.doc.Doc'>\n"
     ]
    }
   ],
   "source": [
    "print(type(bills[0][1][6]))\n",
    "print(type(bills[0][1][6].text))\n",
    "print(type(bills[0][1]))"
   ]
  },
  {
   "cell_type": "markdown",
   "metadata": {},
   "source": [
    "#### 2. Compute bigram counts of downcased tokens."
   ]
  },
  {
   "cell_type": "code",
   "execution_count": 29,
   "metadata": {},
   "outputs": [
    {
     "data": {
      "text/plain": [
       "spacy.tokens.span.Span"
      ]
     },
     "execution_count": 29,
     "metadata": {},
     "output_type": "execute_result"
    }
   ],
   "source": [
    "type(bills[0][1][1:3])"
   ]
  },
  {
   "cell_type": "code",
   "execution_count": 30,
   "metadata": {},
   "outputs": [],
   "source": [
    "def ngram_moving_window(n: int, tokenized_content: SpacyDoc) -> SpacySpan:\n",
    "    ngrams = []\n",
    "    for idx in range(len(tokenized_content) - n + 1):\n",
    "        ngram = tokenized_content[idx:idx+n]\n",
    "        ngrams.append(str(ngram).rstrip())\n",
    "\n",
    "    return ngrams"
   ]
  },
  {
   "cell_type": "code",
   "execution_count": 31,
   "metadata": {},
   "outputs": [],
   "source": [
    "ngrams = []\n",
    "for (filename, tokenized_bill_content) in bills:\n",
    "    ngrams.extend(ngram_moving_window(2, tokenized_bill_content))"
   ]
  },
  {
   "cell_type": "code",
   "execution_count": 32,
   "metadata": {},
   "outputs": [
    {
     "data": {
      "text/plain": [
       "5222177"
      ]
     },
     "execution_count": 32,
     "metadata": {},
     "output_type": "execute_result"
    }
   ],
   "source": [
    "len(ngrams)"
   ]
  },
  {
   "cell_type": "code",
   "execution_count": 33,
   "metadata": {},
   "outputs": [
    {
     "data": {
      "text/plain": [
       "['dz.u.',\n",
       " '. z',\n",
       " 'z 2001',\n",
       " '2001 r',\n",
       " 'r.',\n",
       " '. nr',\n",
       " 'nr 81',\n",
       " '81,',\n",
       " ', poz',\n",
       " 'poz.']"
      ]
     },
     "execution_count": 33,
     "metadata": {},
     "output_type": "execute_result"
    }
   ],
   "source": [
    "ngrams[0:10]"
   ]
  },
  {
   "cell_type": "code",
   "execution_count": 34,
   "metadata": {},
   "outputs": [],
   "source": [
    "from collections import Counter\n",
    "ngram_counts = Counter(ngrams)"
   ]
  },
  {
   "cell_type": "code",
   "execution_count": 35,
   "metadata": {},
   "outputs": [
    {
     "data": {
      "text/plain": [
       "[('art.', 83778),\n",
       " ('ust.', 53552),\n",
       " ('poz.', 45198),\n",
       " (', poz', 43188),\n",
       " ('. 1', 39543),\n",
       " ('--', 36541),\n",
       " ('r.', 33008),\n",
       " ('w art', 32042),\n",
       " (', o', 29919),\n",
       " ('mowa w', 28471),\n",
       " ('. 2', 26563),\n",
       " ('w ust', 23557),\n",
       " ('. art', 22922),\n",
       " (', w', 22477),\n",
       " ('. nr', 21425)]"
      ]
     },
     "execution_count": 35,
     "metadata": {},
     "output_type": "execute_result"
    }
   ],
   "source": [
    "ngram_counts.most_common(15)"
   ]
  },
  {
   "cell_type": "markdown",
   "metadata": {},
   "source": [
    "#### 3. Discard bigrams containing characters other than letters. Make sure that you discard the invalid entries after computing the bigram counts."
   ]
  },
  {
   "cell_type": "code",
   "execution_count": 36,
   "metadata": {},
   "outputs": [],
   "source": [
    "ngram_counts_valid = {}\n",
    "\n",
    "def is_valid_ngram(ngram: str) -> bool: \n",
    "    return True if regex.search(r\"[^a-zA-Z\\s]\", ngram) is None else False\n",
    "\n",
    "for ngram_count in ngram_counts.items():\n",
    "    ngram, count = ngram_count\n",
    "    if is_valid_ngram(ngram):\n",
    "        ngram_counts_valid[ngram] = count\n",
    "\n",
    "ngram_counts_valid = sorted(ngram_counts_valid.items(), key=lambda x: x[1], reverse=True)"
   ]
  },
  {
   "cell_type": "code",
   "execution_count": 37,
   "metadata": {},
   "outputs": [],
   "source": [
    "df_ngram_counts = pd.DataFrame(ngram_counts_valid, columns=['ngram', 'count'])"
   ]
  },
  {
   "cell_type": "code",
   "execution_count": 38,
   "metadata": {},
   "outputs": [
    {
     "data": {
      "text/html": [
       "<div>\n",
       "<style scoped>\n",
       "    .dataframe tbody tr th:only-of-type {\n",
       "        vertical-align: middle;\n",
       "    }\n",
       "\n",
       "    .dataframe tbody tr th {\n",
       "        vertical-align: top;\n",
       "    }\n",
       "\n",
       "    .dataframe thead th {\n",
       "        text-align: right;\n",
       "    }\n",
       "</style>\n",
       "<table border=\"1\" class=\"dataframe\">\n",
       "  <thead>\n",
       "    <tr style=\"text-align: right;\">\n",
       "      <th></th>\n",
       "      <th>ngram</th>\n",
       "      <th>count</th>\n",
       "    </tr>\n",
       "  </thead>\n",
       "  <tbody>\n",
       "    <tr>\n",
       "      <th>0</th>\n",
       "      <td>w art</td>\n",
       "      <td>32042</td>\n",
       "    </tr>\n",
       "    <tr>\n",
       "      <th>1</th>\n",
       "      <td>mowa w</td>\n",
       "      <td>28471</td>\n",
       "    </tr>\n",
       "    <tr>\n",
       "      <th>2</th>\n",
       "      <td>w ust</td>\n",
       "      <td>23557</td>\n",
       "    </tr>\n",
       "    <tr>\n",
       "      <th>3</th>\n",
       "      <td>otrzymuje brzmienie</td>\n",
       "      <td>9553</td>\n",
       "    </tr>\n",
       "    <tr>\n",
       "      <th>4</th>\n",
       "      <td>z dnia</td>\n",
       "      <td>9527</td>\n",
       "    </tr>\n",
       "    <tr>\n",
       "      <th>5</th>\n",
       "      <td>do spraw</td>\n",
       "      <td>8715</td>\n",
       "    </tr>\n",
       "    <tr>\n",
       "      <th>6</th>\n",
       "      <td>i nr</td>\n",
       "      <td>8435</td>\n",
       "    </tr>\n",
       "    <tr>\n",
       "      <th>7</th>\n",
       "      <td>w brzmieniu</td>\n",
       "      <td>7280</td>\n",
       "    </tr>\n",
       "    <tr>\n",
       "      <th>8</th>\n",
       "      <td>w drodze</td>\n",
       "      <td>7127</td>\n",
       "    </tr>\n",
       "    <tr>\n",
       "      <th>9</th>\n",
       "      <td>na podstawie</td>\n",
       "      <td>6674</td>\n",
       "    </tr>\n",
       "    <tr>\n",
       "      <th>10</th>\n",
       "      <td>w przypadku</td>\n",
       "      <td>6018</td>\n",
       "    </tr>\n",
       "    <tr>\n",
       "      <th>11</th>\n",
       "      <td>w zakresie</td>\n",
       "      <td>5453</td>\n",
       "    </tr>\n",
       "    <tr>\n",
       "      <th>12</th>\n",
       "      <td>od dnia</td>\n",
       "      <td>5324</td>\n",
       "    </tr>\n",
       "    <tr>\n",
       "      <th>13</th>\n",
       "      <td>w ustawie</td>\n",
       "      <td>5180</td>\n",
       "    </tr>\n",
       "    <tr>\n",
       "      <th>14</th>\n",
       "      <td>oraz z</td>\n",
       "      <td>4265</td>\n",
       "    </tr>\n",
       "  </tbody>\n",
       "</table>\n",
       "</div>"
      ],
      "text/plain": [
       "                  ngram  count\n",
       "0                 w art  32042\n",
       "1                mowa w  28471\n",
       "2                 w ust  23557\n",
       "3   otrzymuje brzmienie   9553\n",
       "4                z dnia   9527\n",
       "5              do spraw   8715\n",
       "6                  i nr   8435\n",
       "7           w brzmieniu   7280\n",
       "8              w drodze   7127\n",
       "9          na podstawie   6674\n",
       "10          w przypadku   6018\n",
       "11           w zakresie   5453\n",
       "12              od dnia   5324\n",
       "13            w ustawie   5180\n",
       "14               oraz z   4265"
      ]
     },
     "execution_count": 38,
     "metadata": {},
     "output_type": "execute_result"
    }
   ],
   "source": [
    "df_ngram_counts.head(15)"
   ]
  },
  {
   "cell_type": "markdown",
   "metadata": {},
   "source": [
    "#### 4. Use pointwise mutual information to compute the measure for all pairs of words."
   ]
  },
  {
   "cell_type": "markdown",
   "metadata": {},
   "source": [
    "Skorzystanie z poprzedniego laboratorium.\n",
    "Określenie liczby wystąpień każdego tokenu (spełniajacego odpowiednie warunki) w korpusie."
   ]
  },
  {
   "cell_type": "code",
   "execution_count": 39,
   "metadata": {},
   "outputs": [],
   "source": [
    "def reject(token_str):\n",
    "    search_res = regex.search(r\"[\\W\\d_]\", token_str)\n",
    "\n",
    "    if search_res is None:\n",
    "        return False\n",
    "    return True\n",
    "\n",
    "def get_frequencies(tokenized_content: str):\n",
    "    counts = {}\n",
    "    for token in tokenized_content:\n",
    "        token = token.text\n",
    "        if token not in counts:\n",
    "            counts[token] = 1\n",
    "        else:\n",
    "            counts[token] += 1\n",
    "\n",
    "    tmp = dict(sorted(\n",
    "        counts.items(), key=lambda pair: pair[1], reverse=True\n",
    "    ))\n",
    "\n",
    "    return dict(filter(lambda pair: reject(pair[0]) == False, tmp.items()))\n",
    "\n",
    "frequencies = []\n",
    "\n",
    "for _, tokenized_content in bills:\n",
    "    frequencies.append(\n",
    "        get_frequencies(tokenized_content)\n",
    "    )\n",
    "\n",
    "global_frequencies = {}\n",
    "\n",
    "for d_frequency in frequencies:\n",
    "    for token, value in d_frequency.items():\n",
    "        if token not in global_frequencies:\n",
    "            global_frequencies[token] = 0\n",
    "        global_frequencies[token] += value\n",
    "\n",
    "global_frequencies = dict(sorted(global_frequencies.items(), key=lambda pair: pair[1], reverse=True))\n",
    "\n",
    "word_count = pd.DataFrame({\n",
    "    'word': list(global_frequencies.keys()),\n",
    "    'count': list(global_frequencies.values())\n",
    "})"
   ]
  },
  {
   "cell_type": "code",
   "execution_count": 40,
   "metadata": {},
   "outputs": [
    {
     "data": {
      "text/html": [
       "<div>\n",
       "<style scoped>\n",
       "    .dataframe tbody tr th:only-of-type {\n",
       "        vertical-align: middle;\n",
       "    }\n",
       "\n",
       "    .dataframe tbody tr th {\n",
       "        vertical-align: top;\n",
       "    }\n",
       "\n",
       "    .dataframe thead th {\n",
       "        text-align: right;\n",
       "    }\n",
       "</style>\n",
       "<table border=\"1\" class=\"dataframe\">\n",
       "  <thead>\n",
       "    <tr style=\"text-align: right;\">\n",
       "      <th></th>\n",
       "      <th>word</th>\n",
       "      <th>count</th>\n",
       "    </tr>\n",
       "  </thead>\n",
       "  <tbody>\n",
       "    <tr>\n",
       "      <th>0</th>\n",
       "      <td>w</td>\n",
       "      <td>201199</td>\n",
       "    </tr>\n",
       "    <tr>\n",
       "      <th>1</th>\n",
       "      <td>i</td>\n",
       "      <td>90006</td>\n",
       "    </tr>\n",
       "    <tr>\n",
       "      <th>2</th>\n",
       "      <td>art</td>\n",
       "      <td>83804</td>\n",
       "    </tr>\n",
       "    <tr>\n",
       "      <th>3</th>\n",
       "      <td>z</td>\n",
       "      <td>82438</td>\n",
       "    </tr>\n",
       "    <tr>\n",
       "      <th>4</th>\n",
       "      <td>o</td>\n",
       "      <td>64776</td>\n",
       "    </tr>\n",
       "  </tbody>\n",
       "</table>\n",
       "</div>"
      ],
      "text/plain": [
       "  word   count\n",
       "0    w  201199\n",
       "1    i   90006\n",
       "2  art   83804\n",
       "3    z   82438\n",
       "4    o   64776"
      ]
     },
     "execution_count": 40,
     "metadata": {},
     "output_type": "execute_result"
    }
   ],
   "source": [
    "word_count.head()"
   ]
  },
  {
   "cell_type": "code",
   "execution_count": 41,
   "metadata": {},
   "outputs": [],
   "source": [
    "total_words_occurences = word_count['count'].sum(axis=0)\n",
    "total_bigrams_occurences = df_ngram_counts['count'].sum(axis=0)"
   ]
  },
  {
   "cell_type": "code",
   "execution_count": 42,
   "metadata": {},
   "outputs": [],
   "source": [
    "counted_words: Dict[str, int] = word_count.set_index('word').to_dict()['count']\n",
    "counted_words_probabilities: Dict[str, float] = dict(map(lambda kv: (kv[0], kv[1]/total_words_occurences), counted_words.items()))\n",
    "counted_bigrams: Dict[str, int] = df_ngram_counts.set_index('ngram').to_dict()['count']\n",
    "counted_bigrams_probabilities: Dict[str, float] = dict(map(lambda kv: (kv[0], kv[1]/total_bigrams_occurences), counted_bigrams.items()))"
   ]
  },
  {
   "cell_type": "code",
   "execution_count": 43,
   "metadata": {},
   "outputs": [],
   "source": [
    "def calculate_bigram_pmi(bigram: str):\n",
    "    import math\n",
    "    word1, word2 = bigram.split(\" \")\n",
    "    p_bigram = counted_bigrams_probabilities[bigram]\n",
    "    p_word1 = counted_words_probabilities[word1]\n",
    "    p_word2 = counted_words_probabilities[word2]\n",
    "\n",
    "    return math.log2(p_bigram / (p_word1*p_word2))"
   ]
  },
  {
   "cell_type": "code",
   "execution_count": 44,
   "metadata": {},
   "outputs": [],
   "source": [
    "df_ngram_counts.columns = ['bigram', 'bigram_count']"
   ]
  },
  {
   "cell_type": "code",
   "execution_count": 45,
   "metadata": {},
   "outputs": [
    {
     "data": {
      "text/html": [
       "<div>\n",
       "<style scoped>\n",
       "    .dataframe tbody tr th:only-of-type {\n",
       "        vertical-align: middle;\n",
       "    }\n",
       "\n",
       "    .dataframe tbody tr th {\n",
       "        vertical-align: top;\n",
       "    }\n",
       "\n",
       "    .dataframe thead th {\n",
       "        text-align: right;\n",
       "    }\n",
       "</style>\n",
       "<table border=\"1\" class=\"dataframe\">\n",
       "  <thead>\n",
       "    <tr style=\"text-align: right;\">\n",
       "      <th></th>\n",
       "      <th>bigram</th>\n",
       "      <th>bigram_count</th>\n",
       "    </tr>\n",
       "  </thead>\n",
       "  <tbody>\n",
       "    <tr>\n",
       "      <th>0</th>\n",
       "      <td>w art</td>\n",
       "      <td>32042</td>\n",
       "    </tr>\n",
       "    <tr>\n",
       "      <th>1</th>\n",
       "      <td>mowa w</td>\n",
       "      <td>28471</td>\n",
       "    </tr>\n",
       "    <tr>\n",
       "      <th>2</th>\n",
       "      <td>w ust</td>\n",
       "      <td>23557</td>\n",
       "    </tr>\n",
       "  </tbody>\n",
       "</table>\n",
       "</div>"
      ],
      "text/plain": [
       "   bigram  bigram_count\n",
       "0   w art         32042\n",
       "1  mowa w         28471\n",
       "2   w ust         23557"
      ]
     },
     "execution_count": 45,
     "metadata": {},
     "output_type": "execute_result"
    }
   ],
   "source": [
    "df_ngram_counts.head(3)"
   ]
  },
  {
   "cell_type": "code",
   "execution_count": 46,
   "metadata": {},
   "outputs": [],
   "source": [
    "df_ngram_counts['bigram_pmi'] = df_ngram_counts['bigram'].apply(calculate_bigram_pmi)"
   ]
  },
  {
   "cell_type": "markdown",
   "metadata": {},
   "source": [
    "#### 5. Sort the word pairs according to that measure in the descending order and determine top 10 entries."
   ]
  },
  {
   "cell_type": "code",
   "execution_count": 47,
   "metadata": {},
   "outputs": [
    {
     "data": {
      "text/html": [
       "<div>\n",
       "<style scoped>\n",
       "    .dataframe tbody tr th:only-of-type {\n",
       "        vertical-align: middle;\n",
       "    }\n",
       "\n",
       "    .dataframe tbody tr th {\n",
       "        vertical-align: top;\n",
       "    }\n",
       "\n",
       "    .dataframe thead th {\n",
       "        text-align: right;\n",
       "    }\n",
       "</style>\n",
       "<table border=\"1\" class=\"dataframe\">\n",
       "  <thead>\n",
       "    <tr style=\"text-align: right;\">\n",
       "      <th></th>\n",
       "      <th>bigram</th>\n",
       "      <th>bigram_count</th>\n",
       "      <th>bigram_pmi</th>\n",
       "    </tr>\n",
       "  </thead>\n",
       "  <tbody>\n",
       "    <tr>\n",
       "      <th>191346</th>\n",
       "      <td>polichlorkiem winylu</td>\n",
       "      <td>1</td>\n",
       "      <td>23.246572</td>\n",
       "    </tr>\n",
       "    <tr>\n",
       "      <th>189095</th>\n",
       "      <td>peganum harmala</td>\n",
       "      <td>1</td>\n",
       "      <td>23.246572</td>\n",
       "    </tr>\n",
       "    <tr>\n",
       "      <th>189082</th>\n",
       "      <td>normorfina demetylomorfina</td>\n",
       "      <td>1</td>\n",
       "      <td>23.246572</td>\n",
       "    </tr>\n",
       "    <tr>\n",
       "      <th>166759</th>\n",
       "      <td>agenci ubezpieczeniowi</td>\n",
       "      <td>1</td>\n",
       "      <td>23.246572</td>\n",
       "    </tr>\n",
       "    <tr>\n",
       "      <th>189085</th>\n",
       "      <td>nymphaea caerulea</td>\n",
       "      <td>1</td>\n",
       "      <td>23.246572</td>\n",
       "    </tr>\n",
       "    <tr>\n",
       "      <th>189092</th>\n",
       "      <td>oksykodon eukodal</td>\n",
       "      <td>1</td>\n",
       "      <td>23.246572</td>\n",
       "    </tr>\n",
       "    <tr>\n",
       "      <th>102198</th>\n",
       "      <td>studzianki pancerne</td>\n",
       "      <td>1</td>\n",
       "      <td>23.246572</td>\n",
       "    </tr>\n",
       "    <tr>\n",
       "      <th>154492</th>\n",
       "      <td>wyczuwalne dotykiem</td>\n",
       "      <td>1</td>\n",
       "      <td>23.246572</td>\n",
       "    </tr>\n",
       "    <tr>\n",
       "      <th>117342</th>\n",
       "      <td>przedemery talne</td>\n",
       "      <td>1</td>\n",
       "      <td>23.246572</td>\n",
       "    </tr>\n",
       "    <tr>\n",
       "      <th>148126</th>\n",
       "      <td>radzieckim wodzem</td>\n",
       "      <td>1</td>\n",
       "      <td>23.246572</td>\n",
       "    </tr>\n",
       "  </tbody>\n",
       "</table>\n",
       "</div>"
      ],
      "text/plain": [
       "                            bigram  bigram_count  bigram_pmi\n",
       "191346        polichlorkiem winylu             1   23.246572\n",
       "189095             peganum harmala             1   23.246572\n",
       "189082  normorfina demetylomorfina             1   23.246572\n",
       "166759      agenci ubezpieczeniowi             1   23.246572\n",
       "189085           nymphaea caerulea             1   23.246572\n",
       "189092           oksykodon eukodal             1   23.246572\n",
       "102198         studzianki pancerne             1   23.246572\n",
       "154492         wyczuwalne dotykiem             1   23.246572\n",
       "117342            przedemery talne             1   23.246572\n",
       "148126           radzieckim wodzem             1   23.246572"
      ]
     },
     "execution_count": 47,
     "metadata": {},
     "output_type": "execute_result"
    }
   ],
   "source": [
    "df_ngram_counts.sort_values('bigram_pmi', ascending=False).head(10)"
   ]
  },
  {
   "cell_type": "markdown",
   "metadata": {},
   "source": [
    "#### 6. Filter bigrams with number of occurrences lower than 5. Determine top 10 entries for the remaining dataset (>=5 occurrences)."
   ]
  },
  {
   "cell_type": "code",
   "execution_count": 48,
   "metadata": {},
   "outputs": [
    {
     "data": {
      "text/html": [
       "<div>\n",
       "<style scoped>\n",
       "    .dataframe tbody tr th:only-of-type {\n",
       "        vertical-align: middle;\n",
       "    }\n",
       "\n",
       "    .dataframe tbody tr th {\n",
       "        vertical-align: top;\n",
       "    }\n",
       "\n",
       "    .dataframe thead th {\n",
       "        text-align: right;\n",
       "    }\n",
       "</style>\n",
       "<table border=\"1\" class=\"dataframe\">\n",
       "  <thead>\n",
       "    <tr style=\"text-align: right;\">\n",
       "      <th></th>\n",
       "      <th>bigram</th>\n",
       "      <th>bigram_count</th>\n",
       "      <th>bigram_pmi</th>\n",
       "    </tr>\n",
       "  </thead>\n",
       "  <tbody>\n",
       "    <tr>\n",
       "      <th>0</th>\n",
       "      <td>w art</td>\n",
       "      <td>32042</td>\n",
       "      <td>4.241254</td>\n",
       "    </tr>\n",
       "    <tr>\n",
       "      <th>1</th>\n",
       "      <td>mowa w</td>\n",
       "      <td>28471</td>\n",
       "      <td>5.612585</td>\n",
       "    </tr>\n",
       "    <tr>\n",
       "      <th>2</th>\n",
       "      <td>w ust</td>\n",
       "      <td>23557</td>\n",
       "      <td>4.441263</td>\n",
       "    </tr>\n",
       "    <tr>\n",
       "      <th>3</th>\n",
       "      <td>otrzymuje brzmienie</td>\n",
       "      <td>9553</td>\n",
       "      <td>9.836095</td>\n",
       "    </tr>\n",
       "    <tr>\n",
       "      <th>4</th>\n",
       "      <td>z dnia</td>\n",
       "      <td>9527</td>\n",
       "      <td>6.001339</td>\n",
       "    </tr>\n",
       "    <tr>\n",
       "      <th>5</th>\n",
       "      <td>do spraw</td>\n",
       "      <td>8715</td>\n",
       "      <td>7.154949</td>\n",
       "    </tr>\n",
       "    <tr>\n",
       "      <th>6</th>\n",
       "      <td>i nr</td>\n",
       "      <td>8435</td>\n",
       "      <td>4.375235</td>\n",
       "    </tr>\n",
       "    <tr>\n",
       "      <th>7</th>\n",
       "      <td>w brzmieniu</td>\n",
       "      <td>7280</td>\n",
       "      <td>5.625339</td>\n",
       "    </tr>\n",
       "    <tr>\n",
       "      <th>8</th>\n",
       "      <td>w drodze</td>\n",
       "      <td>7127</td>\n",
       "      <td>5.617821</td>\n",
       "    </tr>\n",
       "    <tr>\n",
       "      <th>9</th>\n",
       "      <td>na podstawie</td>\n",
       "      <td>6674</td>\n",
       "      <td>7.581156</td>\n",
       "    </tr>\n",
       "  </tbody>\n",
       "</table>\n",
       "</div>"
      ],
      "text/plain": [
       "                bigram  bigram_count  bigram_pmi\n",
       "0                w art         32042    4.241254\n",
       "1               mowa w         28471    5.612585\n",
       "2                w ust         23557    4.441263\n",
       "3  otrzymuje brzmienie          9553    9.836095\n",
       "4               z dnia          9527    6.001339\n",
       "5             do spraw          8715    7.154949\n",
       "6                 i nr          8435    4.375235\n",
       "7          w brzmieniu          7280    5.625339\n",
       "8             w drodze          7127    5.617821\n",
       "9         na podstawie          6674    7.581156"
      ]
     },
     "execution_count": 48,
     "metadata": {},
     "output_type": "execute_result"
    }
   ],
   "source": [
    "df_ngram_counts[df_ngram_counts['bigram_count'] >= 5].head(10)"
   ]
  },
  {
   "cell_type": "markdown",
   "metadata": {},
   "source": [
    "#### 7. Use KRNNT or Clarin-PL API(https://ws.clarin-pl.eu/tager.shtml) to tag and lemmatize the corpus."
   ]
  },
  {
   "cell_type": "code",
   "execution_count": 2,
   "metadata": {},
   "outputs": [],
   "source": [
    "from xml.etree.ElementTree import Element\n",
    "from typing import Dict, List"
   ]
  },
  {
   "cell_type": "code",
   "execution_count": 3,
   "metadata": {},
   "outputs": [],
   "source": [
    "def calculate_clarin_tokens_metadata(root: Element):\n",
    "    \"\"\"Iterate over analalyzed bill content from Clarin API.\n",
    "    Assosciate each token with its base form and morfologic tag.\n",
    "    Return list with all tokens - tokenized bill content\n",
    "    and dictionary with tokens metadata that associate each\n",
    "    unique token in the content with its metadata.\n",
    "    \"\"\"\n",
    "    tokens_metadata = {}\n",
    "    all_tokens = []\n",
    "\n",
    "    for token_tag in root.iter(tag='tok'):\n",
    "        token = None\n",
    "        for orth_tag in token_tag.iter(tag='orth'):\n",
    "            token = orth_tag.text\n",
    "            all_tokens.append(token)\n",
    "\n",
    "        base_forms = []\n",
    "        for base_tag in token_tag.iter(tag='base'):\n",
    "            base_forms.append(base_tag.text)\n",
    "\n",
    "        ctags = []\n",
    "        for ctag_tag in token_tag.iter(tag='ctag'):\n",
    "            ctags.append(ctag_tag.text)\n",
    "\n",
    "        \n",
    "        if token not in tokens_metadata.keys():\n",
    "            tokens_metadata[token] = {\n",
    "                \"base\": base_forms[0].lower(),\n",
    "                \"tag\": ctags[0].lower().split(':')[0],\n",
    "            }\n",
    "\n",
    "    return all_tokens, tokens_metadata"
   ]
  },
  {
   "cell_type": "markdown",
   "metadata": {},
   "source": [
    "Kluczami w słowniku tokens_metadata będą tokeny danej ustawy, wartością dla danego tokenu będzie słownik zawierający formę podstawową słowa oraz odpowiednią część tagu morfosyntaktycznego słowa. Lista all_tokens zawiera wszystkie dokeny w tanej ustawie w kolejności zgodnej z treścią ustawy."
   ]
  },
  {
   "cell_type": "code",
   "execution_count": 4,
   "metadata": {},
   "outputs": [],
   "source": [
    "import xml.etree.ElementTree as ET\n",
    "\n",
    "clarin_bills = {}\n",
    "paths = glob.glob(f\"./bills_clarin/*.txt\")\n",
    "for file_path in paths:\n",
    "    with open(file_path) as f:\n",
    "        bill_content = f.read()\n",
    "        root = ET.fromstring(bill_content)\n",
    "        all_tokens, tokens_metadata = calculate_clarin_tokens_metadata(root)\n",
    "        clarin_bills[file_path.split(\"/\")[-1]] = {\n",
    "            \"tokenized_content\": all_tokens,\n",
    "            \"tokens_metadata\": tokens_metadata,\n",
    "        }"
   ]
  },
  {
   "cell_type": "code",
   "execution_count": 5,
   "metadata": {},
   "outputs": [
    {
     "name": "stdout",
     "output_type": "stream",
     "text": [
      "Straży -> {'base': 'straż', 'tag': 'subst'}\n",
      "Państwowej -> {'base': 'państwowy', 'tag': 'adj'}\n"
     ]
    }
   ],
   "source": [
    "print(\"Straży ->\", clarin_bills['2001_874.txt']['tokens_metadata']['Straży'])\n",
    "print(\"Państwowej ->\", clarin_bills['2001_874.txt']['tokens_metadata']['Państwowej'])"
   ]
  },
  {
   "cell_type": "code",
   "execution_count": 6,
   "metadata": {},
   "outputs": [
    {
     "data": {
      "text/plain": [
       "1178"
      ]
     },
     "execution_count": 6,
     "metadata": {},
     "output_type": "execute_result"
    }
   ],
   "source": [
    "len(clarin_bills.keys())"
   ]
  },
  {
   "cell_type": "code",
   "execution_count": 7,
   "metadata": {},
   "outputs": [
    {
     "data": {
      "text/plain": [
       "612"
      ]
     },
     "execution_count": 7,
     "metadata": {},
     "output_type": "execute_result"
    }
   ],
   "source": [
    "# How to access the tokenized content of the bill?\n",
    "len(clarin_bills['2001_974.txt']['tokenized_content'])"
   ]
  },
  {
   "cell_type": "markdown",
   "metadata": {},
   "source": [
    "#### 8. Using the tagged corpus compute bigram statistic for the tokens containing: a. lemmatized, downcased word b. morphosyntactic category of the word (subst, fin, adj, etc.)"
   ]
  },
  {
   "cell_type": "code",
   "execution_count": 8,
   "metadata": {},
   "outputs": [],
   "source": [
    "def ngram_clarin(n: int, clarin_tokenized_content: List[str], tokens_metadata: Dict[str, Dict[str, str]]):\n",
    "    ngrams = []\n",
    "\n",
    "    for idx in range(len(clarin_tokenized_content) - n + 1):\n",
    "        ngram = clarin_tokenized_content[idx:idx+n]\n",
    "        ngrams_representation = []\n",
    "        for token in ngram:\n",
    "            base_form = tokens_metadata[token]['base']\n",
    "            tag = tokens_metadata[token]['tag']\n",
    "            ngrams_representation.append(f\"{base_form}:{tag}\")\n",
    "        ngrams.append(\" \".join(ngrams_representation))\n",
    "\n",
    "    return ngrams"
   ]
  },
  {
   "cell_type": "markdown",
   "metadata": {},
   "source": [
    "Example"
   ]
  },
  {
   "cell_type": "code",
   "execution_count": 9,
   "metadata": {},
   "outputs": [
    {
     "data": {
      "text/plain": [
       "['z:prep dzień:subst',\n",
       " 'dzień:subst 20:num',\n",
       " '20:num lipiec:subst',\n",
       " 'lipiec:subst 2001:num',\n",
       " '2001:num r:ign',\n",
       " 'r:ign .:interp',\n",
       " '.:interp o:prep',\n",
       " 'o:prep świadczenie:subst',\n",
       " 'świadczenie:subst dla:prep',\n",
       " 'dla:prep cywilny:adj']"
      ]
     },
     "execution_count": 9,
     "metadata": {},
     "output_type": "execute_result"
    }
   ],
   "source": [
    "sample_bill_tokenized_content = clarin_bills['2001_974.txt']['tokenized_content']\n",
    "sample_bill_tokens_metadata = clarin_bills['2001_974.txt']['tokens_metadata']\n",
    "\n",
    "ngram_clarin(2, sample_bill_tokenized_content, sample_bill_tokens_metadata)[15:25]"
   ]
  },
  {
   "cell_type": "markdown",
   "metadata": {},
   "source": [
    "For each bill' tokens_metadata, obtain list of ngrams and filter out valid ngram according to the rule and order from 3rd point which is \"Discard bigrams containing characters other than letters. Make sure that you discard the invalid entries after computing the bigram counts.\""
   ]
  },
  {
   "cell_type": "markdown",
   "metadata": {},
   "source": [
    "Get clarin bigrams from the entire corpus."
   ]
  },
  {
   "cell_type": "code",
   "execution_count": 10,
   "metadata": {},
   "outputs": [],
   "source": [
    "clarin_bigrams = []\n",
    "for bill_filename in clarin_bills.keys():\n",
    "    tokenized_content = clarin_bills[bill_filename]['tokenized_content']\n",
    "    tokens_metadata = clarin_bills[bill_filename]['tokens_metadata']\n",
    "\n",
    "    clarin_bigrams.extend(\n",
    "        ngram_clarin(2, tokenized_content, tokens_metadata)\n",
    "    )"
   ]
  },
  {
   "cell_type": "code",
   "execution_count": 11,
   "metadata": {},
   "outputs": [
    {
     "data": {
      "text/plain": [
       "5272789"
      ]
     },
     "execution_count": 11,
     "metadata": {},
     "output_type": "execute_result"
    }
   ],
   "source": [
    "len(clarin_bigrams)"
   ]
  },
  {
   "cell_type": "markdown",
   "metadata": {},
   "source": [
    "Count bigrams"
   ]
  },
  {
   "cell_type": "code",
   "execution_count": 12,
   "metadata": {},
   "outputs": [],
   "source": [
    "from collections import Counter\n",
    "\n",
    "clarin_bigrams_counts = Counter(clarin_bigrams)"
   ]
  },
  {
   "cell_type": "markdown",
   "metadata": {},
   "source": [
    "Filter out invalid bigrams"
   ]
  },
  {
   "cell_type": "code",
   "execution_count": 13,
   "metadata": {},
   "outputs": [],
   "source": [
    "clarin_bigrams_counts_valid = {}\n",
    "\n",
    "def is_valid_clarin_bigram(bigram: str) -> bool:\n",
    "    token1_meta, token2_meta = bigram.split(\" \")\n",
    "\n",
    "    if ':interp' in token1_meta or ':interp' in token2_meta:\n",
    "        return False\n",
    "\n",
    "    token_1 = token1_meta.split(\":\")[0]\n",
    "    token_2 = token2_meta.split(\":\")[0]\n",
    "    bigram = token_1 + \" \" + token_2\n",
    "    return True if regex.search(r\"[^a-zA-Z\\s\\p{L}]\", bigram) is None else False\n",
    "\n",
    "for clarin_bigram_count in clarin_bigrams_counts.items():\n",
    "    clarin_bigram, count = clarin_bigram_count\n",
    "    if is_valid_clarin_bigram(clarin_bigram):\n",
    "        clarin_bigrams_counts_valid[clarin_bigram] = count"
   ]
  },
  {
   "cell_type": "code",
   "execution_count": 14,
   "metadata": {},
   "outputs": [],
   "source": [
    "clarin_bigrams_counts_valid = sorted(clarin_bigrams_counts_valid.items(), key=lambda x: x[1], reverse=True)"
   ]
  },
  {
   "cell_type": "code",
   "execution_count": 15,
   "metadata": {},
   "outputs": [],
   "source": [
    "df_clarin_ngram_counts = pd.DataFrame(\n",
    "    clarin_bigrams_counts_valid, columns=['bigram', 'bigram_count'])"
   ]
  },
  {
   "cell_type": "code",
   "execution_count": 16,
   "metadata": {},
   "outputs": [
    {
     "data": {
      "text/html": [
       "<div>\n",
       "<style scoped>\n",
       "    .dataframe tbody tr th:only-of-type {\n",
       "        vertical-align: middle;\n",
       "    }\n",
       "\n",
       "    .dataframe tbody tr th {\n",
       "        vertical-align: top;\n",
       "    }\n",
       "\n",
       "    .dataframe thead th {\n",
       "        text-align: right;\n",
       "    }\n",
       "</style>\n",
       "<table border=\"1\" class=\"dataframe\">\n",
       "  <thead>\n",
       "    <tr style=\"text-align: right;\">\n",
       "      <th></th>\n",
       "      <th>bigram</th>\n",
       "      <th>bigram_count</th>\n",
       "    </tr>\n",
       "  </thead>\n",
       "  <tbody>\n",
       "    <tr>\n",
       "      <th>0</th>\n",
       "      <td>w:prep art:ign</td>\n",
       "      <td>32044</td>\n",
       "    </tr>\n",
       "    <tr>\n",
       "      <th>1</th>\n",
       "      <td>o:prep który:adj</td>\n",
       "      <td>28656</td>\n",
       "    </tr>\n",
       "    <tr>\n",
       "      <th>2</th>\n",
       "      <td>który:adj mowa:subst</td>\n",
       "      <td>28538</td>\n",
       "    </tr>\n",
       "    <tr>\n",
       "      <th>3</th>\n",
       "      <td>mowa:subst w:prep</td>\n",
       "      <td>28473</td>\n",
       "    </tr>\n",
       "    <tr>\n",
       "      <th>4</th>\n",
       "      <td>w:prep usta:subst</td>\n",
       "      <td>23557</td>\n",
       "    </tr>\n",
       "    <tr>\n",
       "      <th>5</th>\n",
       "      <td>z:prep dzień:subst</td>\n",
       "      <td>11360</td>\n",
       "    </tr>\n",
       "    <tr>\n",
       "      <th>6</th>\n",
       "      <td>otrzymywać:fin brzmienie:subst</td>\n",
       "      <td>10536</td>\n",
       "    </tr>\n",
       "    <tr>\n",
       "      <th>7</th>\n",
       "      <td>określony:adj w:prep</td>\n",
       "      <td>10240</td>\n",
       "    </tr>\n",
       "    <tr>\n",
       "      <th>8</th>\n",
       "      <td>do:prep sprawa:subst</td>\n",
       "      <td>8718</td>\n",
       "    </tr>\n",
       "    <tr>\n",
       "      <th>9</th>\n",
       "      <td>ustawa:subst z:prep</td>\n",
       "      <td>8625</td>\n",
       "    </tr>\n",
       "    <tr>\n",
       "      <th>10</th>\n",
       "      <td>właściwy:adj do:prep</td>\n",
       "      <td>8535</td>\n",
       "    </tr>\n",
       "    <tr>\n",
       "      <th>11</th>\n",
       "      <td>i:conj nr:subst</td>\n",
       "      <td>8435</td>\n",
       "    </tr>\n",
       "    <tr>\n",
       "      <th>12</th>\n",
       "      <td>dodawać:fin się:qub</td>\n",
       "      <td>8195</td>\n",
       "    </tr>\n",
       "    <tr>\n",
       "      <th>13</th>\n",
       "      <td>minister:subst właściwy:adj</td>\n",
       "      <td>7933</td>\n",
       "    </tr>\n",
       "    <tr>\n",
       "      <th>14</th>\n",
       "      <td>w:prep brzmienie:subst</td>\n",
       "      <td>7280</td>\n",
       "    </tr>\n",
       "    <tr>\n",
       "      <th>15</th>\n",
       "      <td>w:prep droga:subst</td>\n",
       "      <td>7128</td>\n",
       "    </tr>\n",
       "    <tr>\n",
       "      <th>16</th>\n",
       "      <td>w:prep przypadek:subst</td>\n",
       "      <td>6776</td>\n",
       "    </tr>\n",
       "    <tr>\n",
       "      <th>17</th>\n",
       "      <td>na:prep podstawa:subst</td>\n",
       "      <td>6681</td>\n",
       "    </tr>\n",
       "    <tr>\n",
       "      <th>18</th>\n",
       "      <td>stosować:fin się:qub</td>\n",
       "      <td>6535</td>\n",
       "    </tr>\n",
       "    <tr>\n",
       "      <th>19</th>\n",
       "      <td>się:qub wyraz:subst</td>\n",
       "      <td>6077</td>\n",
       "    </tr>\n",
       "  </tbody>\n",
       "</table>\n",
       "</div>"
      ],
      "text/plain": [
       "                            bigram  bigram_count\n",
       "0                   w:prep art:ign         32044\n",
       "1                 o:prep który:adj         28656\n",
       "2             który:adj mowa:subst         28538\n",
       "3                mowa:subst w:prep         28473\n",
       "4                w:prep usta:subst         23557\n",
       "5               z:prep dzień:subst         11360\n",
       "6   otrzymywać:fin brzmienie:subst         10536\n",
       "7             określony:adj w:prep         10240\n",
       "8             do:prep sprawa:subst          8718\n",
       "9              ustawa:subst z:prep          8625\n",
       "10            właściwy:adj do:prep          8535\n",
       "11                 i:conj nr:subst          8435\n",
       "12             dodawać:fin się:qub          8195\n",
       "13     minister:subst właściwy:adj          7933\n",
       "14          w:prep brzmienie:subst          7280\n",
       "15              w:prep droga:subst          7128\n",
       "16          w:prep przypadek:subst          6776\n",
       "17          na:prep podstawa:subst          6681\n",
       "18            stosować:fin się:qub          6535\n",
       "19             się:qub wyraz:subst          6077"
      ]
     },
     "execution_count": 16,
     "metadata": {},
     "output_type": "execute_result"
    }
   ],
   "source": [
    "df_clarin_ngram_counts.head(20)"
   ]
  },
  {
   "cell_type": "markdown",
   "metadata": {},
   "source": [
    "#### 10. Compute the same statistics as for the non-lemmatized words (i.e. PMI) and print top-10 entries with at least 5 occurrences."
   ]
  },
  {
   "cell_type": "markdown",
   "metadata": {},
   "source": [
    "Count the number of lemmatized tokens in the lemmatized corpus"
   ]
  },
  {
   "cell_type": "code",
   "execution_count": 17,
   "metadata": {},
   "outputs": [],
   "source": [
    "clarin_lemmatized_tokens = []\n",
    "for bill_filename in clarin_bills.keys():\n",
    "    tokenized_content = clarin_bills[bill_filename]['tokenized_content']\n",
    "    tokens_metadata = clarin_bills[bill_filename]['tokens_metadata']\n",
    "    lematized_tokens = [tokens_metadata[token]['base'] for token in tokenized_content]\n",
    "\n",
    "    clarin_lemmatized_tokens.extend(lematized_tokens)"
   ]
  },
  {
   "cell_type": "code",
   "execution_count": 20,
   "metadata": {},
   "outputs": [],
   "source": [
    "clarin_all_lematized_tokens_frequencies = Counter(clarin_lemmatized_tokens)\n",
    "clarin_lemmatized_tokens_frequencies = {}\n",
    "\n",
    "for lemmatized_token, count in clarin_all_lematized_tokens_frequencies.items():\n",
    "    if not reject(lemmatized_token):\n",
    "        clarin_lemmatized_tokens_frequencies[lemmatized_token] = count"
   ]
  },
  {
   "cell_type": "code",
   "execution_count": 21,
   "metadata": {},
   "outputs": [
    {
     "data": {
      "text/html": [
       "<div>\n",
       "<style scoped>\n",
       "    .dataframe tbody tr th:only-of-type {\n",
       "        vertical-align: middle;\n",
       "    }\n",
       "\n",
       "    .dataframe tbody tr th {\n",
       "        vertical-align: top;\n",
       "    }\n",
       "\n",
       "    .dataframe thead th {\n",
       "        text-align: right;\n",
       "    }\n",
       "</style>\n",
       "<table border=\"1\" class=\"dataframe\">\n",
       "  <thead>\n",
       "    <tr style=\"text-align: right;\">\n",
       "      <th></th>\n",
       "      <th>lemmatized_token</th>\n",
       "      <th>count</th>\n",
       "    </tr>\n",
       "  </thead>\n",
       "  <tbody>\n",
       "    <tr>\n",
       "      <th>0</th>\n",
       "      <td>w</td>\n",
       "      <td>202950</td>\n",
       "    </tr>\n",
       "    <tr>\n",
       "      <th>1</th>\n",
       "      <td>i</td>\n",
       "      <td>90044</td>\n",
       "    </tr>\n",
       "    <tr>\n",
       "      <th>2</th>\n",
       "      <td>z</td>\n",
       "      <td>87991</td>\n",
       "    </tr>\n",
       "    <tr>\n",
       "      <th>3</th>\n",
       "      <td>art</td>\n",
       "      <td>83805</td>\n",
       "    </tr>\n",
       "    <tr>\n",
       "      <th>4</th>\n",
       "      <td>o</td>\n",
       "      <td>64809</td>\n",
       "    </tr>\n",
       "    <tr>\n",
       "      <th>5</th>\n",
       "      <td>do</td>\n",
       "      <td>60768</td>\n",
       "    </tr>\n",
       "    <tr>\n",
       "      <th>6</th>\n",
       "      <td>usta</td>\n",
       "      <td>53641</td>\n",
       "    </tr>\n",
       "    <tr>\n",
       "      <th>7</th>\n",
       "      <td>na</td>\n",
       "      <td>50657</td>\n",
       "    </tr>\n",
       "    <tr>\n",
       "      <th>8</th>\n",
       "      <td>który</td>\n",
       "      <td>49382</td>\n",
       "    </tr>\n",
       "    <tr>\n",
       "      <th>9</th>\n",
       "      <td>się</td>\n",
       "      <td>45887</td>\n",
       "    </tr>\n",
       "  </tbody>\n",
       "</table>\n",
       "</div>"
      ],
      "text/plain": [
       "  lemmatized_token   count\n",
       "0                w  202950\n",
       "1                i   90044\n",
       "2                z   87991\n",
       "3              art   83805\n",
       "4                o   64809\n",
       "5               do   60768\n",
       "6             usta   53641\n",
       "7               na   50657\n",
       "8            który   49382\n",
       "9              się   45887"
      ]
     },
     "execution_count": 21,
     "metadata": {},
     "output_type": "execute_result"
    }
   ],
   "source": [
    "lemmatized_token_count = pd.DataFrame({\n",
    "    'lemmatized_token': list(clarin_lemmatized_tokens_frequencies.keys()),\n",
    "    'count': list(clarin_lemmatized_tokens_frequencies.values())\n",
    "})\n",
    "\n",
    "lemmatized_token_count.sort_values('count', ascending=False).reset_index(drop=True).head(10)"
   ]
  },
  {
   "cell_type": "code",
   "execution_count": 49,
   "metadata": {},
   "outputs": [],
   "source": [
    "counted_lemmatized_tokens: Dict[str, int] = (\n",
    "    lemmatized_token_count.set_index('lemmatized_token').to_dict()['count'])\n",
    "\n",
    "total_lemmatized_tokens_occurences = lemmatized_token_count['count'].sum(axis=0)\n",
    "\n",
    "counted_lemmatized_tokens_probabilities: Dict[str, float] = dict(\n",
    "    map(lambda kv: (kv[0], kv[1]/total_lemmatized_tokens_occurences), counted_lemmatized_tokens.items()))\n",
    "\n",
    "total_clarin_bigrams_occurences = df_clarin_ngram_counts['bigram_count'].sum(axis=0)\n",
    "\n",
    "counted_clarin_bigrams: Dict[str, int] = (\n",
    "    df_clarin_ngram_counts.set_index('bigram').to_dict()['bigram_count'])\n",
    "\n",
    "counted_clarin_bigrams_probabilities: Dict[str, float] = dict(\n",
    "    map(lambda kv: (kv[0], kv[1]/total_bigrams_occurences), counted_clarin_bigrams.items()))"
   ]
  },
  {
   "cell_type": "code",
   "execution_count": 50,
   "metadata": {},
   "outputs": [],
   "source": [
    "def calculate_clarin_bigram_pmi(clarin_bigram: str):\n",
    "    import math\n",
    "    token1_meta, token2_meta = clarin_bigram.split(\" \")\n",
    "    token1 = token1_meta.split(\":\")[0]\n",
    "    token2 = token2_meta.split(\":\")[0]\n",
    "\n",
    "    p_clarin_bigram = counted_clarin_bigrams_probabilities[clarin_bigram]\n",
    "    p_token1 = counted_lemmatized_tokens_probabilities[token1]\n",
    "    p_token2 = counted_lemmatized_tokens_probabilities[token2]\n",
    "\n",
    "    return math.log2(p_clarin_bigram / (p_token1*p_token2))"
   ]
  },
  {
   "cell_type": "code",
   "execution_count": 51,
   "metadata": {},
   "outputs": [],
   "source": [
    "df_clarin_ngram_counts['pmi'] = df_clarin_ngram_counts['bigram'].apply(calculate_clarin_bigram_pmi)"
   ]
  },
  {
   "cell_type": "code",
   "execution_count": 52,
   "metadata": {},
   "outputs": [
    {
     "data": {
      "text/html": [
       "<div>\n",
       "<style scoped>\n",
       "    .dataframe tbody tr th:only-of-type {\n",
       "        vertical-align: middle;\n",
       "    }\n",
       "\n",
       "    .dataframe tbody tr th {\n",
       "        vertical-align: top;\n",
       "    }\n",
       "\n",
       "    .dataframe thead th {\n",
       "        text-align: right;\n",
       "    }\n",
       "</style>\n",
       "<table border=\"1\" class=\"dataframe\">\n",
       "  <thead>\n",
       "    <tr style=\"text-align: right;\">\n",
       "      <th></th>\n",
       "      <th>bigram</th>\n",
       "      <th>bigram_count</th>\n",
       "      <th>pmi</th>\n",
       "    </tr>\n",
       "  </thead>\n",
       "  <tbody>\n",
       "    <tr>\n",
       "      <th>0</th>\n",
       "      <td>w:prep art:ign</td>\n",
       "      <td>32044</td>\n",
       "      <td>4.237740</td>\n",
       "    </tr>\n",
       "    <tr>\n",
       "      <th>1</th>\n",
       "      <td>o:prep który:adj</td>\n",
       "      <td>28656</td>\n",
       "      <td>6.486433</td>\n",
       "    </tr>\n",
       "    <tr>\n",
       "      <th>2</th>\n",
       "      <td>który:adj mowa:subst</td>\n",
       "      <td>28538</td>\n",
       "      <td>7.650354</td>\n",
       "    </tr>\n",
       "    <tr>\n",
       "      <th>3</th>\n",
       "      <td>mowa:subst w:prep</td>\n",
       "      <td>28473</td>\n",
       "      <td>5.607998</td>\n",
       "    </tr>\n",
       "    <tr>\n",
       "      <th>4</th>\n",
       "      <td>w:prep usta:subst</td>\n",
       "      <td>23557</td>\n",
       "      <td>4.437542</td>\n",
       "    </tr>\n",
       "  </tbody>\n",
       "</table>\n",
       "</div>"
      ],
      "text/plain": [
       "                 bigram  bigram_count       pmi\n",
       "0        w:prep art:ign         32044  4.237740\n",
       "1      o:prep który:adj         28656  6.486433\n",
       "2  który:adj mowa:subst         28538  7.650354\n",
       "3     mowa:subst w:prep         28473  5.607998\n",
       "4     w:prep usta:subst         23557  4.437542"
      ]
     },
     "execution_count": 52,
     "metadata": {},
     "output_type": "execute_result"
    }
   ],
   "source": [
    "df_clarin_ngram_counts.head(5)"
   ]
  },
  {
   "cell_type": "markdown",
   "metadata": {},
   "source": [
    "#### BIGRAMS - RESULTS\n",
    "\n",
    "Compare the results for copora without and with tagging and lemmatization for bigrams."
   ]
  },
  {
   "cell_type": "code",
   "execution_count": 53,
   "metadata": {},
   "outputs": [
    {
     "data": {
      "text/html": [
       "<div>\n",
       "<style scoped>\n",
       "    .dataframe tbody tr th:only-of-type {\n",
       "        vertical-align: middle;\n",
       "    }\n",
       "\n",
       "    .dataframe tbody tr th {\n",
       "        vertical-align: top;\n",
       "    }\n",
       "\n",
       "    .dataframe thead th {\n",
       "        text-align: right;\n",
       "    }\n",
       "</style>\n",
       "<table border=\"1\" class=\"dataframe\">\n",
       "  <thead>\n",
       "    <tr style=\"text-align: right;\">\n",
       "      <th></th>\n",
       "      <th>bigram</th>\n",
       "      <th>bigram_count</th>\n",
       "      <th>bigram_pmi</th>\n",
       "    </tr>\n",
       "  </thead>\n",
       "  <tbody>\n",
       "    <tr>\n",
       "      <th>0</th>\n",
       "      <td>w art</td>\n",
       "      <td>32042</td>\n",
       "      <td>4.241254</td>\n",
       "    </tr>\n",
       "    <tr>\n",
       "      <th>1</th>\n",
       "      <td>mowa w</td>\n",
       "      <td>28471</td>\n",
       "      <td>5.612585</td>\n",
       "    </tr>\n",
       "    <tr>\n",
       "      <th>2</th>\n",
       "      <td>w ust</td>\n",
       "      <td>23557</td>\n",
       "      <td>4.441263</td>\n",
       "    </tr>\n",
       "    <tr>\n",
       "      <th>3</th>\n",
       "      <td>otrzymuje brzmienie</td>\n",
       "      <td>9553</td>\n",
       "      <td>9.836095</td>\n",
       "    </tr>\n",
       "    <tr>\n",
       "      <th>4</th>\n",
       "      <td>z dnia</td>\n",
       "      <td>9527</td>\n",
       "      <td>6.001339</td>\n",
       "    </tr>\n",
       "    <tr>\n",
       "      <th>5</th>\n",
       "      <td>do spraw</td>\n",
       "      <td>8715</td>\n",
       "      <td>7.154949</td>\n",
       "    </tr>\n",
       "    <tr>\n",
       "      <th>6</th>\n",
       "      <td>i nr</td>\n",
       "      <td>8435</td>\n",
       "      <td>4.375235</td>\n",
       "    </tr>\n",
       "    <tr>\n",
       "      <th>7</th>\n",
       "      <td>w brzmieniu</td>\n",
       "      <td>7280</td>\n",
       "      <td>5.625339</td>\n",
       "    </tr>\n",
       "    <tr>\n",
       "      <th>8</th>\n",
       "      <td>w drodze</td>\n",
       "      <td>7127</td>\n",
       "      <td>5.617821</td>\n",
       "    </tr>\n",
       "    <tr>\n",
       "      <th>9</th>\n",
       "      <td>na podstawie</td>\n",
       "      <td>6674</td>\n",
       "      <td>7.581156</td>\n",
       "    </tr>\n",
       "  </tbody>\n",
       "</table>\n",
       "</div>"
      ],
      "text/plain": [
       "                bigram  bigram_count  bigram_pmi\n",
       "0                w art         32042    4.241254\n",
       "1               mowa w         28471    5.612585\n",
       "2                w ust         23557    4.441263\n",
       "3  otrzymuje brzmienie          9553    9.836095\n",
       "4               z dnia          9527    6.001339\n",
       "5             do spraw          8715    7.154949\n",
       "6                 i nr          8435    4.375235\n",
       "7          w brzmieniu          7280    5.625339\n",
       "8             w drodze          7127    5.617821\n",
       "9         na podstawie          6674    7.581156"
      ]
     },
     "execution_count": 53,
     "metadata": {},
     "output_type": "execute_result"
    }
   ],
   "source": [
    "df_ngram_counts.head(10)"
   ]
  },
  {
   "cell_type": "code",
   "execution_count": 54,
   "metadata": {},
   "outputs": [
    {
     "data": {
      "text/html": [
       "<div>\n",
       "<style scoped>\n",
       "    .dataframe tbody tr th:only-of-type {\n",
       "        vertical-align: middle;\n",
       "    }\n",
       "\n",
       "    .dataframe tbody tr th {\n",
       "        vertical-align: top;\n",
       "    }\n",
       "\n",
       "    .dataframe thead th {\n",
       "        text-align: right;\n",
       "    }\n",
       "</style>\n",
       "<table border=\"1\" class=\"dataframe\">\n",
       "  <thead>\n",
       "    <tr style=\"text-align: right;\">\n",
       "      <th></th>\n",
       "      <th>bigram</th>\n",
       "      <th>bigram_count</th>\n",
       "      <th>pmi</th>\n",
       "    </tr>\n",
       "  </thead>\n",
       "  <tbody>\n",
       "    <tr>\n",
       "      <th>0</th>\n",
       "      <td>w:prep art:ign</td>\n",
       "      <td>32044</td>\n",
       "      <td>4.237740</td>\n",
       "    </tr>\n",
       "    <tr>\n",
       "      <th>1</th>\n",
       "      <td>o:prep który:adj</td>\n",
       "      <td>28656</td>\n",
       "      <td>6.486433</td>\n",
       "    </tr>\n",
       "    <tr>\n",
       "      <th>2</th>\n",
       "      <td>który:adj mowa:subst</td>\n",
       "      <td>28538</td>\n",
       "      <td>7.650354</td>\n",
       "    </tr>\n",
       "    <tr>\n",
       "      <th>3</th>\n",
       "      <td>mowa:subst w:prep</td>\n",
       "      <td>28473</td>\n",
       "      <td>5.607998</td>\n",
       "    </tr>\n",
       "    <tr>\n",
       "      <th>4</th>\n",
       "      <td>w:prep usta:subst</td>\n",
       "      <td>23557</td>\n",
       "      <td>4.437542</td>\n",
       "    </tr>\n",
       "    <tr>\n",
       "      <th>5</th>\n",
       "      <td>z:prep dzień:subst</td>\n",
       "      <td>11360</td>\n",
       "      <td>5.581957</td>\n",
       "    </tr>\n",
       "    <tr>\n",
       "      <th>6</th>\n",
       "      <td>otrzymywać:fin brzmienie:subst</td>\n",
       "      <td>10536</td>\n",
       "      <td>9.026412</td>\n",
       "    </tr>\n",
       "    <tr>\n",
       "      <th>7</th>\n",
       "      <td>określony:adj w:prep</td>\n",
       "      <td>10240</td>\n",
       "      <td>5.236920</td>\n",
       "    </tr>\n",
       "    <tr>\n",
       "      <th>8</th>\n",
       "      <td>do:prep sprawa:subst</td>\n",
       "      <td>8718</td>\n",
       "      <td>6.439875</td>\n",
       "    </tr>\n",
       "    <tr>\n",
       "      <th>9</th>\n",
       "      <td>ustawa:subst z:prep</td>\n",
       "      <td>8625</td>\n",
       "      <td>5.298901</td>\n",
       "    </tr>\n",
       "  </tbody>\n",
       "</table>\n",
       "</div>"
      ],
      "text/plain": [
       "                           bigram  bigram_count       pmi\n",
       "0                  w:prep art:ign         32044  4.237740\n",
       "1                o:prep który:adj         28656  6.486433\n",
       "2            który:adj mowa:subst         28538  7.650354\n",
       "3               mowa:subst w:prep         28473  5.607998\n",
       "4               w:prep usta:subst         23557  4.437542\n",
       "5              z:prep dzień:subst         11360  5.581957\n",
       "6  otrzymywać:fin brzmienie:subst         10536  9.026412\n",
       "7            określony:adj w:prep         10240  5.236920\n",
       "8            do:prep sprawa:subst          8718  6.439875\n",
       "9             ustawa:subst z:prep          8625  5.298901"
      ]
     },
     "execution_count": 54,
     "metadata": {},
     "output_type": "execute_result"
    }
   ],
   "source": [
    "df_clarin_ngram_counts.head(10)"
   ]
  },
  {
   "cell_type": "markdown",
   "metadata": {},
   "source": [
    "#### 11 & 12 Ad1. - trigrams without tagging and lemmatization (SpaCy)"
   ]
  },
  {
   "cell_type": "code",
   "execution_count": 55,
   "metadata": {},
   "outputs": [],
   "source": [
    "trigrams = []\n",
    "for (filename, tokenized_bill_content) in bills:\n",
    "    trigrams.extend(ngram_moving_window(3, tokenized_bill_content))"
   ]
  },
  {
   "cell_type": "code",
   "execution_count": 56,
   "metadata": {},
   "outputs": [],
   "source": [
    "trigram_counts = Counter(trigrams)"
   ]
  },
  {
   "cell_type": "code",
   "execution_count": 57,
   "metadata": {},
   "outputs": [],
   "source": [
    "trigram_counts_valid = {}\n",
    "\n",
    "for trigram_count in trigram_counts.items():\n",
    "    trigram, count = trigram_count\n",
    "    if is_valid_ngram(trigram):\n",
    "        trigram_counts_valid[trigram] = count\n",
    "\n",
    "trigram_counts_valid = sorted(trigram_counts_valid.items(), key=lambda x: x[1], reverse=True)"
   ]
  },
  {
   "cell_type": "code",
   "execution_count": 58,
   "metadata": {},
   "outputs": [
    {
     "data": {
      "text/html": [
       "<div>\n",
       "<style scoped>\n",
       "    .dataframe tbody tr th:only-of-type {\n",
       "        vertical-align: middle;\n",
       "    }\n",
       "\n",
       "    .dataframe tbody tr th {\n",
       "        vertical-align: top;\n",
       "    }\n",
       "\n",
       "    .dataframe thead th {\n",
       "        text-align: right;\n",
       "    }\n",
       "</style>\n",
       "<table border=\"1\" class=\"dataframe\">\n",
       "  <thead>\n",
       "    <tr style=\"text-align: right;\">\n",
       "      <th></th>\n",
       "      <th>trigram</th>\n",
       "      <th>count</th>\n",
       "    </tr>\n",
       "  </thead>\n",
       "  <tbody>\n",
       "    <tr>\n",
       "      <th>0</th>\n",
       "      <td>mowa w ust</td>\n",
       "      <td>13474</td>\n",
       "    </tr>\n",
       "    <tr>\n",
       "      <th>1</th>\n",
       "      <td>mowa w art</td>\n",
       "      <td>12311</td>\n",
       "    </tr>\n",
       "    <tr>\n",
       "      <th>2</th>\n",
       "      <td>ustawie z dnia</td>\n",
       "      <td>3649</td>\n",
       "    </tr>\n",
       "    <tr>\n",
       "      <th>3</th>\n",
       "      <td>w ustawie z</td>\n",
       "      <td>3645</td>\n",
       "    </tr>\n",
       "    <tr>\n",
       "      <th>4</th>\n",
       "      <td>ustawy z dnia</td>\n",
       "      <td>3053</td>\n",
       "    </tr>\n",
       "    <tr>\n",
       "      <th>5</th>\n",
       "      <td>dni od dnia</td>\n",
       "      <td>2070</td>\n",
       "    </tr>\n",
       "    <tr>\n",
       "      <th>6</th>\n",
       "      <td>w porozumieniu z</td>\n",
       "      <td>1652</td>\n",
       "    </tr>\n",
       "    <tr>\n",
       "      <th>7</th>\n",
       "      <td>na podstawie art</td>\n",
       "      <td>1495</td>\n",
       "    </tr>\n",
       "    <tr>\n",
       "      <th>8</th>\n",
       "      <td>porozumieniu z ministrem</td>\n",
       "      <td>1334</td>\n",
       "    </tr>\n",
       "    <tr>\n",
       "      <th>9</th>\n",
       "      <td>terytorium rzeczypospolitej polskiej</td>\n",
       "      <td>1218</td>\n",
       "    </tr>\n",
       "  </tbody>\n",
       "</table>\n",
       "</div>"
      ],
      "text/plain": [
       "                                trigram  count\n",
       "0                            mowa w ust  13474\n",
       "1                            mowa w art  12311\n",
       "2                        ustawie z dnia   3649\n",
       "3                           w ustawie z   3645\n",
       "4                         ustawy z dnia   3053\n",
       "5                           dni od dnia   2070\n",
       "6                      w porozumieniu z   1652\n",
       "7                      na podstawie art   1495\n",
       "8              porozumieniu z ministrem   1334\n",
       "9  terytorium rzeczypospolitej polskiej   1218"
      ]
     },
     "execution_count": 58,
     "metadata": {},
     "output_type": "execute_result"
    }
   ],
   "source": [
    "df_trigram_counts = pd.DataFrame(trigram_counts_valid, columns=['trigram', 'count'])\n",
    "df_trigram_counts.head(10)"
   ]
  },
  {
   "cell_type": "code",
   "execution_count": 59,
   "metadata": {},
   "outputs": [],
   "source": [
    "counted_trigrams: Dict[str, int] = df_trigram_counts.set_index('trigram').to_dict()['count']\n",
    "total_trigrams_occurences = df_trigram_counts['count'].sum(axis=0)\n",
    "counted_trigram_probabilities: Dict[str, float] = dict(map(lambda kv: (kv[0], kv[1]/total_trigrams_occurences), counted_trigrams.items()))"
   ]
  },
  {
   "cell_type": "code",
   "execution_count": 60,
   "metadata": {},
   "outputs": [],
   "source": [
    "def calculate_trigram_pmi(trigram: str):\n",
    "    import math\n",
    "    token1, token2, token3 = trigram.split(\" \")\n",
    "    p_trigram = counted_trigram_probabilities[trigram]\n",
    "\n",
    "    p_token1 = counted_words_probabilities[token1]\n",
    "    p_token2 = counted_words_probabilities[token2]\n",
    "    p_token3 = counted_words_probabilities[token3]\n",
    "\n",
    "    return math.log2(p_trigram / (p_token1*p_token2*p_token3))"
   ]
  },
  {
   "cell_type": "code",
   "execution_count": 61,
   "metadata": {},
   "outputs": [],
   "source": [
    "df_trigram_counts['pmi'] = df_trigram_counts['trigram'].apply(calculate_trigram_pmi)"
   ]
  },
  {
   "cell_type": "code",
   "execution_count": 62,
   "metadata": {},
   "outputs": [
    {
     "data": {
      "text/html": [
       "<div>\n",
       "<style scoped>\n",
       "    .dataframe tbody tr th:only-of-type {\n",
       "        vertical-align: middle;\n",
       "    }\n",
       "\n",
       "    .dataframe tbody tr th {\n",
       "        vertical-align: top;\n",
       "    }\n",
       "\n",
       "    .dataframe thead th {\n",
       "        text-align: right;\n",
       "    }\n",
       "</style>\n",
       "<table border=\"1\" class=\"dataframe\">\n",
       "  <thead>\n",
       "    <tr style=\"text-align: right;\">\n",
       "      <th></th>\n",
       "      <th>trigram</th>\n",
       "      <th>count</th>\n",
       "      <th>pmi</th>\n",
       "    </tr>\n",
       "  </thead>\n",
       "  <tbody>\n",
       "    <tr>\n",
       "      <th>270115</th>\n",
       "      <td>nieskarmelizowanym sokiem winogronowym</td>\n",
       "      <td>1</td>\n",
       "      <td>45.914519</td>\n",
       "    </tr>\n",
       "    <tr>\n",
       "      <th>246044</th>\n",
       "      <td>virtus et fraternitas</td>\n",
       "      <td>1</td>\n",
       "      <td>45.914519</td>\n",
       "    </tr>\n",
       "    <tr>\n",
       "      <th>246122</th>\n",
       "      <td>benzimidazol leonotis leonurus</td>\n",
       "      <td>1</td>\n",
       "      <td>45.914519</td>\n",
       "    </tr>\n",
       "    <tr>\n",
       "      <th>249483</th>\n",
       "      <td>clavibacter michiganensis ssp</td>\n",
       "      <td>1</td>\n",
       "      <td>45.914519</td>\n",
       "    </tr>\n",
       "    <tr>\n",
       "      <th>246202</th>\n",
       "      <td>metylotioamfetamina etycyklidyna pce</td>\n",
       "      <td>1</td>\n",
       "      <td>45.914519</td>\n",
       "    </tr>\n",
       "    <tr>\n",
       "      <th>232141</th>\n",
       "      <td>agregatach pralniczych szczenia</td>\n",
       "      <td>1</td>\n",
       "      <td>45.914519</td>\n",
       "    </tr>\n",
       "    <tr>\n",
       "      <th>243184</th>\n",
       "      <td>mink virus enteritis</td>\n",
       "      <td>1</td>\n",
       "      <td>45.914519</td>\n",
       "    </tr>\n",
       "    <tr>\n",
       "      <th>155780</th>\n",
       "      <td>implantacji stymulatora nerwu</td>\n",
       "      <td>1</td>\n",
       "      <td>45.914519</td>\n",
       "    </tr>\n",
       "    <tr>\n",
       "      <th>187385</th>\n",
       "      <td>jewish restitution organisation</td>\n",
       "      <td>1</td>\n",
       "      <td>45.914519</td>\n",
       "    </tr>\n",
       "    <tr>\n",
       "      <th>246140</th>\n",
       "      <td>hostilis mitragyna speciosa</td>\n",
       "      <td>1</td>\n",
       "      <td>45.914519</td>\n",
       "    </tr>\n",
       "  </tbody>\n",
       "</table>\n",
       "</div>"
      ],
      "text/plain": [
       "                                       trigram  count        pmi\n",
       "270115  nieskarmelizowanym sokiem winogronowym      1  45.914519\n",
       "246044                   virtus et fraternitas      1  45.914519\n",
       "246122          benzimidazol leonotis leonurus      1  45.914519\n",
       "249483           clavibacter michiganensis ssp      1  45.914519\n",
       "246202    metylotioamfetamina etycyklidyna pce      1  45.914519\n",
       "232141         agregatach pralniczych szczenia      1  45.914519\n",
       "243184                    mink virus enteritis      1  45.914519\n",
       "155780           implantacji stymulatora nerwu      1  45.914519\n",
       "187385         jewish restitution organisation      1  45.914519\n",
       "246140             hostilis mitragyna speciosa      1  45.914519"
      ]
     },
     "execution_count": 62,
     "metadata": {},
     "output_type": "execute_result"
    }
   ],
   "source": [
    "df_trigram_counts.sort_values('pmi', ascending=False).head(10)"
   ]
  },
  {
   "cell_type": "code",
   "execution_count": 63,
   "metadata": {},
   "outputs": [
    {
     "data": {
      "text/html": [
       "<div>\n",
       "<style scoped>\n",
       "    .dataframe tbody tr th:only-of-type {\n",
       "        vertical-align: middle;\n",
       "    }\n",
       "\n",
       "    .dataframe tbody tr th {\n",
       "        vertical-align: top;\n",
       "    }\n",
       "\n",
       "    .dataframe thead th {\n",
       "        text-align: right;\n",
       "    }\n",
       "</style>\n",
       "<table border=\"1\" class=\"dataframe\">\n",
       "  <thead>\n",
       "    <tr style=\"text-align: right;\">\n",
       "      <th></th>\n",
       "      <th>trigram</th>\n",
       "      <th>count</th>\n",
       "      <th>pmi</th>\n",
       "    </tr>\n",
       "  </thead>\n",
       "  <tbody>\n",
       "    <tr>\n",
       "      <th>4645</th>\n",
       "      <td>profilem zaufanym epuap</td>\n",
       "      <td>13</td>\n",
       "      <td>38.513639</td>\n",
       "    </tr>\n",
       "    <tr>\n",
       "      <th>18236</th>\n",
       "      <td>centralnemu biuru antykorupcyjnemu</td>\n",
       "      <td>5</td>\n",
       "      <td>38.062770</td>\n",
       "    </tr>\n",
       "    <tr>\n",
       "      <th>6503</th>\n",
       "      <td>turnieju mistrzostw europy</td>\n",
       "      <td>10</td>\n",
       "      <td>37.989112</td>\n",
       "    </tr>\n",
       "    <tr>\n",
       "      <th>4644</th>\n",
       "      <td>potwierdzonym profilem zaufanym</td>\n",
       "      <td>13</td>\n",
       "      <td>37.966151</td>\n",
       "    </tr>\n",
       "    <tr>\n",
       "      <th>9338</th>\n",
       "      <td>kurtki anorak etc</td>\n",
       "      <td>8</td>\n",
       "      <td>36.870124</td>\n",
       "    </tr>\n",
       "    <tr>\n",
       "      <th>16807</th>\n",
       "      <td>najnowszych zdobyczy techniki</td>\n",
       "      <td>5</td>\n",
       "      <td>36.592590</td>\n",
       "    </tr>\n",
       "    <tr>\n",
       "      <th>1758</th>\n",
       "      <td>socjalistycznych republik radzieckich</td>\n",
       "      <td>27</td>\n",
       "      <td>36.352276</td>\n",
       "    </tr>\n",
       "    <tr>\n",
       "      <th>16320</th>\n",
       "      <td>terminalu regazyfikacyjnego skroplonego</td>\n",
       "      <td>5</td>\n",
       "      <td>36.159631</td>\n",
       "    </tr>\n",
       "    <tr>\n",
       "      <th>14805</th>\n",
       "      <td>bankowemu funduszowi gwarancyjnemu</td>\n",
       "      <td>5</td>\n",
       "      <td>36.129884</td>\n",
       "    </tr>\n",
       "    <tr>\n",
       "      <th>14733</th>\n",
       "      <td>drewna tartacznego iglastego</td>\n",
       "      <td>5</td>\n",
       "      <td>36.112325</td>\n",
       "    </tr>\n",
       "  </tbody>\n",
       "</table>\n",
       "</div>"
      ],
      "text/plain": [
       "                                       trigram  count        pmi\n",
       "4645                   profilem zaufanym epuap     13  38.513639\n",
       "18236       centralnemu biuru antykorupcyjnemu      5  38.062770\n",
       "6503                turnieju mistrzostw europy     10  37.989112\n",
       "4644           potwierdzonym profilem zaufanym     13  37.966151\n",
       "9338                         kurtki anorak etc      8  36.870124\n",
       "16807            najnowszych zdobyczy techniki      5  36.592590\n",
       "1758     socjalistycznych republik radzieckich     27  36.352276\n",
       "16320  terminalu regazyfikacyjnego skroplonego      5  36.159631\n",
       "14805       bankowemu funduszowi gwarancyjnemu      5  36.129884\n",
       "14733             drewna tartacznego iglastego      5  36.112325"
      ]
     },
     "execution_count": 63,
     "metadata": {},
     "output_type": "execute_result"
    }
   ],
   "source": [
    "df_trigram_counts[df_trigram_counts['count'] >= 5].sort_values('pmi', ascending=False).head(10)"
   ]
  },
  {
   "cell_type": "markdown",
   "metadata": {},
   "source": [
    "#### 11 & 12 Ad1. - trigrams with tagging and lemmatization (Clarin)"
   ]
  },
  {
   "cell_type": "code",
   "execution_count": 64,
   "metadata": {},
   "outputs": [],
   "source": [
    "clarin_trigrams = []\n",
    "for bill_filename in clarin_bills.keys():\n",
    "    tokenized_content = clarin_bills[bill_filename]['tokenized_content']\n",
    "    tokens_metadata = clarin_bills[bill_filename]['tokens_metadata']\n",
    "\n",
    "    clarin_trigrams.extend(\n",
    "        ngram_clarin(3, tokenized_content, tokens_metadata)\n",
    "    )"
   ]
  },
  {
   "cell_type": "code",
   "execution_count": 65,
   "metadata": {},
   "outputs": [],
   "source": [
    "clarin_trigrams_counts = Counter(clarin_trigrams)"
   ]
  },
  {
   "cell_type": "code",
   "execution_count": 68,
   "metadata": {},
   "outputs": [],
   "source": [
    "clarin_trigrams_counts_valid = {}\n",
    "\n",
    "def is_valid_clarin_trigram(trigram: str) -> bool:\n",
    "    token1_meta, token2_meta, token3_meta = trigram.split(\" \")\n",
    "\n",
    "    if ':interp' in token1_meta or ':interp' in token2_meta or ':interp' in token3_meta:\n",
    "        return False\n",
    "\n",
    "    token_1 = token1_meta.split(\":\")[0]\n",
    "    token_2 = token2_meta.split(\":\")[0]\n",
    "    token_3 = token3_meta.split(\":\")[0]\n",
    "\n",
    "    trigram = token_1 + \" \" + token_2 + \" \" + token_3\n",
    "    return True if regex.search(r\"[^a-zA-Z\\s\\p{L}]\", trigram) is None else False\n",
    "\n",
    "for clarin_trigram_count in clarin_trigrams_counts.items():\n",
    "    clarin_trigram, count = clarin_trigram_count\n",
    "    if is_valid_clarin_trigram(clarin_trigram):\n",
    "        clarin_trigrams_counts_valid[clarin_trigram] = count\n",
    "\n",
    "clarin_trigrams_counts_valid = sorted(clarin_trigrams_counts_valid.items(), key=lambda x: x[1], reverse=True)"
   ]
  },
  {
   "cell_type": "code",
   "execution_count": 69,
   "metadata": {},
   "outputs": [],
   "source": [
    "df_clarin_trigram_counts = pd.DataFrame(\n",
    "    clarin_trigrams_counts_valid, columns=['trigram', 'trigram_count'])"
   ]
  },
  {
   "cell_type": "code",
   "execution_count": 70,
   "metadata": {},
   "outputs": [],
   "source": [
    "total_clarin_trigrams_occurences = df_clarin_trigram_counts['trigram_count'].sum(axis=0)\n",
    "\n",
    "counted_clarin_trigrams: Dict[str, int] = (\n",
    "    df_clarin_trigram_counts.set_index('trigram').to_dict()['trigram_count'])\n",
    "\n",
    "counted_clarin_trigrams_probabilities: Dict[str, float] = dict(\n",
    "    map(lambda kv: (kv[0], kv[1]/total_trigrams_occurences), counted_clarin_trigrams.items()))"
   ]
  },
  {
   "cell_type": "code",
   "execution_count": 71,
   "metadata": {},
   "outputs": [],
   "source": [
    "def calculate_clarin_trigram_pmi(clarin_trigram: str):\n",
    "    import math\n",
    "    token1_meta, token2_meta, token3_meta = clarin_trigram.split(\" \")\n",
    "\n",
    "    token1 = token1_meta.split(\":\")[0]\n",
    "    token2 = token2_meta.split(\":\")[0]\n",
    "    token3 = token3_meta.split(\":\")[0]\n",
    "\n",
    "    p_clarin_trigram = counted_clarin_trigrams_probabilities[clarin_trigram]\n",
    "\n",
    "    p_token1 = counted_lemmatized_tokens_probabilities[token1]\n",
    "    p_token2 = counted_lemmatized_tokens_probabilities[token2]\n",
    "    p_token3 = counted_lemmatized_tokens_probabilities[token3]\n",
    "\n",
    "    return math.log2(p_clarin_trigram / (p_token1*p_token2*p_token3))"
   ]
  },
  {
   "cell_type": "code",
   "execution_count": 72,
   "metadata": {},
   "outputs": [],
   "source": [
    "df_clarin_trigram_counts['pmi'] = df_clarin_trigram_counts['trigram'].apply(calculate_clarin_trigram_pmi)"
   ]
  },
  {
   "cell_type": "code",
   "execution_count": 73,
   "metadata": {},
   "outputs": [
    {
     "data": {
      "text/html": [
       "<div>\n",
       "<style scoped>\n",
       "    .dataframe tbody tr th:only-of-type {\n",
       "        vertical-align: middle;\n",
       "    }\n",
       "\n",
       "    .dataframe tbody tr th {\n",
       "        vertical-align: top;\n",
       "    }\n",
       "\n",
       "    .dataframe thead th {\n",
       "        text-align: right;\n",
       "    }\n",
       "</style>\n",
       "<table border=\"1\" class=\"dataframe\">\n",
       "  <thead>\n",
       "    <tr style=\"text-align: right;\">\n",
       "      <th></th>\n",
       "      <th>trigram</th>\n",
       "      <th>trigram_count</th>\n",
       "      <th>pmi</th>\n",
       "    </tr>\n",
       "  </thead>\n",
       "  <tbody>\n",
       "    <tr>\n",
       "      <th>58987</th>\n",
       "      <td>porcelanowy:adj młyn:subst kulowy:adj</td>\n",
       "      <td>5</td>\n",
       "      <td>39.798608</td>\n",
       "    </tr>\n",
       "    <tr>\n",
       "      <th>38111</th>\n",
       "      <td>wymiennik:subst przeponowy:adj rurowy:adj</td>\n",
       "      <td>7</td>\n",
       "      <td>38.927891</td>\n",
       "    </tr>\n",
       "    <tr>\n",
       "      <th>58434</th>\n",
       "      <td>reakcja:subst łańcuchowa:subst rozszczepienie:...</td>\n",
       "      <td>5</td>\n",
       "      <td>38.095001</td>\n",
       "    </tr>\n",
       "    <tr>\n",
       "      <th>23922</th>\n",
       "      <td>piłka:subst nożny:adj uefa:subst</td>\n",
       "      <td>10</td>\n",
       "      <td>37.169001</td>\n",
       "    </tr>\n",
       "    <tr>\n",
       "      <th>42208</th>\n",
       "      <td>stany:subst zjednoczyć:ppas ameryka:subst</td>\n",
       "      <td>6</td>\n",
       "      <td>36.927891</td>\n",
       "    </tr>\n",
       "    <tr>\n",
       "      <th>23919</th>\n",
       "      <td>finałowy:adj turniej:subst mistrzostwa:subst</td>\n",
       "      <td>10</td>\n",
       "      <td>36.886231</td>\n",
       "    </tr>\n",
       "    <tr>\n",
       "      <th>26870</th>\n",
       "      <td>przedwczesny:adj wyrąb:subst drzewostan:subst</td>\n",
       "      <td>9</td>\n",
       "      <td>36.713571</td>\n",
       "    </tr>\n",
       "    <tr>\n",
       "      <th>33680</th>\n",
       "      <td>kurtka:subst anorak:subst etc:ign</td>\n",
       "      <td>8</td>\n",
       "      <td>36.570339</td>\n",
       "    </tr>\n",
       "    <tr>\n",
       "      <th>59358</th>\n",
       "      <td>mecz:subst piłka:subst nożny:adj</td>\n",
       "      <td>5</td>\n",
       "      <td>36.432036</td>\n",
       "    </tr>\n",
       "    <tr>\n",
       "      <th>17223</th>\n",
       "      <td>profil:subst zaufany:adj epuap:ign</td>\n",
       "      <td>13</td>\n",
       "      <td>36.344808</td>\n",
       "    </tr>\n",
       "  </tbody>\n",
       "</table>\n",
       "</div>"
      ],
      "text/plain": [
       "                                                 trigram  trigram_count  \\\n",
       "58987              porcelanowy:adj młyn:subst kulowy:adj              5   \n",
       "38111          wymiennik:subst przeponowy:adj rurowy:adj              7   \n",
       "58434  reakcja:subst łańcuchowa:subst rozszczepienie:...              5   \n",
       "23922                   piłka:subst nożny:adj uefa:subst             10   \n",
       "42208          stany:subst zjednoczyć:ppas ameryka:subst              6   \n",
       "23919       finałowy:adj turniej:subst mistrzostwa:subst             10   \n",
       "26870      przedwczesny:adj wyrąb:subst drzewostan:subst              9   \n",
       "33680                  kurtka:subst anorak:subst etc:ign              8   \n",
       "59358                   mecz:subst piłka:subst nożny:adj              5   \n",
       "17223                 profil:subst zaufany:adj epuap:ign             13   \n",
       "\n",
       "             pmi  \n",
       "58987  39.798608  \n",
       "38111  38.927891  \n",
       "58434  38.095001  \n",
       "23922  37.169001  \n",
       "42208  36.927891  \n",
       "23919  36.886231  \n",
       "26870  36.713571  \n",
       "33680  36.570339  \n",
       "59358  36.432036  \n",
       "17223  36.344808  "
      ]
     },
     "execution_count": 73,
     "metadata": {},
     "output_type": "execute_result"
    }
   ],
   "source": [
    "df_clarin_trigram_counts[df_clarin_trigram_counts['trigram_count'] >= 5].sort_values('pmi', ascending=False).head(10)"
   ]
  },
  {
   "cell_type": "markdown",
   "metadata": {},
   "source": [
    "#### TRIGRAMS - RESULTS\n",
    "\n",
    "Compare the results for copora without and with tagging and lemmatization for bigrams."
   ]
  },
  {
   "cell_type": "code",
   "execution_count": 74,
   "metadata": {},
   "outputs": [
    {
     "data": {
      "text/html": [
       "<div>\n",
       "<style scoped>\n",
       "    .dataframe tbody tr th:only-of-type {\n",
       "        vertical-align: middle;\n",
       "    }\n",
       "\n",
       "    .dataframe tbody tr th {\n",
       "        vertical-align: top;\n",
       "    }\n",
       "\n",
       "    .dataframe thead th {\n",
       "        text-align: right;\n",
       "    }\n",
       "</style>\n",
       "<table border=\"1\" class=\"dataframe\">\n",
       "  <thead>\n",
       "    <tr style=\"text-align: right;\">\n",
       "      <th></th>\n",
       "      <th>trigram</th>\n",
       "      <th>count</th>\n",
       "      <th>pmi</th>\n",
       "    </tr>\n",
       "  </thead>\n",
       "  <tbody>\n",
       "    <tr>\n",
       "      <th>0</th>\n",
       "      <td>mowa w ust</td>\n",
       "      <td>13474</td>\n",
       "      <td>11.490302</td>\n",
       "    </tr>\n",
       "    <tr>\n",
       "      <th>1</th>\n",
       "      <td>mowa w art</td>\n",
       "      <td>12311</td>\n",
       "      <td>10.716254</td>\n",
       "    </tr>\n",
       "    <tr>\n",
       "      <th>2</th>\n",
       "      <td>ustawie z dnia</td>\n",
       "      <td>3649</td>\n",
       "      <td>14.865331</td>\n",
       "    </tr>\n",
       "    <tr>\n",
       "      <th>3</th>\n",
       "      <td>w ustawie z</td>\n",
       "      <td>3645</td>\n",
       "      <td>11.377503</td>\n",
       "    </tr>\n",
       "    <tr>\n",
       "      <th>4</th>\n",
       "      <td>ustawy z dnia</td>\n",
       "      <td>3053</td>\n",
       "      <td>13.350322</td>\n",
       "    </tr>\n",
       "    <tr>\n",
       "      <th>5</th>\n",
       "      <td>dni od dnia</td>\n",
       "      <td>2070</td>\n",
       "      <td>16.892624</td>\n",
       "    </tr>\n",
       "    <tr>\n",
       "      <th>6</th>\n",
       "      <td>w porozumieniu z</td>\n",
       "      <td>1652</td>\n",
       "      <td>11.844659</td>\n",
       "    </tr>\n",
       "    <tr>\n",
       "      <th>7</th>\n",
       "      <td>na podstawie art</td>\n",
       "      <td>1495</td>\n",
       "      <td>11.735964</td>\n",
       "    </tr>\n",
       "    <tr>\n",
       "      <th>8</th>\n",
       "      <td>porozumieniu z ministrem</td>\n",
       "      <td>1334</td>\n",
       "      <td>18.210488</td>\n",
       "    </tr>\n",
       "    <tr>\n",
       "      <th>9</th>\n",
       "      <td>terytorium rzeczypospolitej polskiej</td>\n",
       "      <td>1218</td>\n",
       "      <td>21.534617</td>\n",
       "    </tr>\n",
       "  </tbody>\n",
       "</table>\n",
       "</div>"
      ],
      "text/plain": [
       "                                trigram  count        pmi\n",
       "0                            mowa w ust  13474  11.490302\n",
       "1                            mowa w art  12311  10.716254\n",
       "2                        ustawie z dnia   3649  14.865331\n",
       "3                           w ustawie z   3645  11.377503\n",
       "4                         ustawy z dnia   3053  13.350322\n",
       "5                           dni od dnia   2070  16.892624\n",
       "6                      w porozumieniu z   1652  11.844659\n",
       "7                      na podstawie art   1495  11.735964\n",
       "8              porozumieniu z ministrem   1334  18.210488\n",
       "9  terytorium rzeczypospolitej polskiej   1218  21.534617"
      ]
     },
     "execution_count": 74,
     "metadata": {},
     "output_type": "execute_result"
    }
   ],
   "source": [
    "df_trigram_counts.head(10)"
   ]
  },
  {
   "cell_type": "code",
   "execution_count": 75,
   "metadata": {},
   "outputs": [
    {
     "data": {
      "text/html": [
       "<div>\n",
       "<style scoped>\n",
       "    .dataframe tbody tr th:only-of-type {\n",
       "        vertical-align: middle;\n",
       "    }\n",
       "\n",
       "    .dataframe tbody tr th {\n",
       "        vertical-align: top;\n",
       "    }\n",
       "\n",
       "    .dataframe thead th {\n",
       "        text-align: right;\n",
       "    }\n",
       "</style>\n",
       "<table border=\"1\" class=\"dataframe\">\n",
       "  <thead>\n",
       "    <tr style=\"text-align: right;\">\n",
       "      <th></th>\n",
       "      <th>trigram</th>\n",
       "      <th>trigram_count</th>\n",
       "      <th>pmi</th>\n",
       "    </tr>\n",
       "  </thead>\n",
       "  <tbody>\n",
       "    <tr>\n",
       "      <th>0</th>\n",
       "      <td>o:prep który:adj mowa:subst</td>\n",
       "      <td>28535</td>\n",
       "      <td>14.338700</td>\n",
       "    </tr>\n",
       "    <tr>\n",
       "      <th>1</th>\n",
       "      <td>który:adj mowa:subst w:prep</td>\n",
       "      <td>28442</td>\n",
       "      <td>12.687132</td>\n",
       "    </tr>\n",
       "    <tr>\n",
       "      <th>2</th>\n",
       "      <td>mowa:subst w:prep usta:subst</td>\n",
       "      <td>13474</td>\n",
       "      <td>11.489936</td>\n",
       "    </tr>\n",
       "    <tr>\n",
       "      <th>3</th>\n",
       "      <td>mowa:subst w:prep art:ign</td>\n",
       "      <td>12311</td>\n",
       "      <td>10.716006</td>\n",
       "    </tr>\n",
       "    <tr>\n",
       "      <th>4</th>\n",
       "      <td>ustawa:subst z:prep dzień:subst</td>\n",
       "      <td>8589</td>\n",
       "      <td>13.245133</td>\n",
       "    </tr>\n",
       "    <tr>\n",
       "      <th>5</th>\n",
       "      <td>właściwy:adj do:prep sprawa:subst</td>\n",
       "      <td>7966</td>\n",
       "      <td>15.206835</td>\n",
       "    </tr>\n",
       "    <tr>\n",
       "      <th>6</th>\n",
       "      <td>minister:subst właściwy:adj do:prep</td>\n",
       "      <td>7888</td>\n",
       "      <td>15.257547</td>\n",
       "    </tr>\n",
       "    <tr>\n",
       "      <th>7</th>\n",
       "      <td>w:prep droga:subst rozporządzenie:subst</td>\n",
       "      <td>4751</td>\n",
       "      <td>14.845896</td>\n",
       "    </tr>\n",
       "    <tr>\n",
       "      <th>8</th>\n",
       "      <td>zastępować:fin się:qub wyraz:subst</td>\n",
       "      <td>3653</td>\n",
       "      <td>16.449759</td>\n",
       "    </tr>\n",
       "    <tr>\n",
       "      <th>9</th>\n",
       "      <td>w:prep ustawa:subst z:prep</td>\n",
       "      <td>3646</td>\n",
       "      <td>9.098330</td>\n",
       "    </tr>\n",
       "  </tbody>\n",
       "</table>\n",
       "</div>"
      ],
      "text/plain": [
       "                                   trigram  trigram_count        pmi\n",
       "0              o:prep który:adj mowa:subst          28535  14.338700\n",
       "1              który:adj mowa:subst w:prep          28442  12.687132\n",
       "2             mowa:subst w:prep usta:subst          13474  11.489936\n",
       "3                mowa:subst w:prep art:ign          12311  10.716006\n",
       "4          ustawa:subst z:prep dzień:subst           8589  13.245133\n",
       "5        właściwy:adj do:prep sprawa:subst           7966  15.206835\n",
       "6      minister:subst właściwy:adj do:prep           7888  15.257547\n",
       "7  w:prep droga:subst rozporządzenie:subst           4751  14.845896\n",
       "8       zastępować:fin się:qub wyraz:subst           3653  16.449759\n",
       "9               w:prep ustawa:subst z:prep           3646   9.098330"
      ]
     },
     "execution_count": 75,
     "metadata": {},
     "output_type": "execute_result"
    }
   ],
   "source": [
    "df_clarin_trigram_counts.head(10)"
   ]
  },
  {
   "cell_type": "markdown",
   "metadata": {},
   "source": []
  }
 ],
 "metadata": {
  "kernelspec": {
   "display_name": "Python 3.10.5 64-bit ('3.10.5')",
   "language": "python",
   "name": "python3"
  },
  "language_info": {
   "codemirror_mode": {
    "name": "ipython",
    "version": 3
   },
   "file_extension": ".py",
   "mimetype": "text/x-python",
   "name": "python",
   "nbconvert_exporter": "python",
   "pygments_lexer": "ipython3",
   "version": "3.10.5"
  },
  "orig_nbformat": 4,
  "vscode": {
   "interpreter": {
    "hash": "16ce62d89139d6b459a4fa414ee333754219537208081da9003b7fab6a6c11db"
   }
  }
 },
 "nbformat": 4,
 "nbformat_minor": 2
}
