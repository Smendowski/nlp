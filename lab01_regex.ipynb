{
 "cells": [
  {
   "cell_type": "code",
   "execution_count": 1,
   "metadata": {},
   "outputs": [],
   "source": [
    "import regex\n",
    "import pandas as pd\n",
    "from typing import List\n",
    "from importlib import reload\n",
    "\n",
    "import utils\n",
    "reload(utils)\n",
    "\n",
    "from utils import Bill, BillProcessor, CorpusProcessor, load_bills"
   ]
  },
  {
   "cell_type": "markdown",
   "metadata": {},
   "source": [
    "#### 1. Regular expressions for three different types of ammendments"
   ]
  },
  {
   "cell_type": "code",
   "execution_count": 2,
   "metadata": {},
   "outputs": [],
   "source": [
    "class RawPatterns:\n",
    "    _units = [\n",
    "        \"lit\",\n",
    "        r\"(nowy\\s+)?pkt\",\n",
    "        \"art\",\n",
    "        \"tiret\",\n",
    "        \"ust\",\n",
    "        r\"rozdzia[lł]y?\",\n",
    "        r\"dzia[lł]y?\",\n",
    "        r\"oddzia[lł]y?\"\n",
    "        r\"preambu\\p{L}{2}\",\n",
    "        r\"za[lł][aą]cznik\",\n",
    "        \"poz\",\n",
    "        r\"§(?:[\\w]+)?\"\n",
    "    ]\n",
    "\n",
    "    YEAR = r\"z\\s+dnia\\s+\\d{1,2}\\s+\\w+\\s+(\\d{4})\"\n",
    "    UNTIS = r\"(\" + \"|\".join(_units) + r\")\\.?\"\n",
    "    UNIT_ID = r\"(:?\\w+)\"\n",
    "\n",
    "    ADD_BASE = r\"\\bdodaj\\p{L}\\s+si\\p{L}\\s+\"\n",
    "    REM_BASE = r\"(?:\\bskre\\p{L}la|\\buchyla)\\s+si\\p{L}\\s+\"\n",
    "    MOD_BASE = r\"\\botrzymuje\\s+brzmienie\\b\"\n",
    "\n",
    "    ANY_PHRASE_AFTER_ADD_BASE = ADD_BASE + r\"([^\\s]+)\\b\"\n",
    "    ANY_PHRASE_AFTER_REM_BASE = REM_BASE + r\"([^\\s]+)\\b\""
   ]
  },
  {
   "cell_type": "code",
   "execution_count": 3,
   "metadata": {},
   "outputs": [],
   "source": [
    "class PatternStore:\n",
    "    YEAR = regex.compile(RawPatterns.YEAR, regex.I)\n",
    "\n",
    "    ANY_PHRASE_AFTER_ADD = regex.compile(RawPatterns.ANY_PHRASE_AFTER_ADD_BASE, regex.I)\n",
    "    ANY_PHRASE_AFTER_REM = regex.compile(RawPatterns.ANY_PHRASE_AFTER_REM_BASE, regex.I)\n",
    "    UNIT_ADD = regex.compile(RawPatterns.ADD_BASE + RawPatterns.UNTIS, regex.I)\n",
    "    UNIT_REM = regex.compile(RawPatterns.REM_BASE + RawPatterns.UNTIS, regex.I)\n",
    "    UNIT_MOD = regex.compile(\n",
    "        RawPatterns.UNTIS + r\"\\s+?\" + RawPatterns.UNIT_ID + r\"\\s+?\" + RawPatterns.MOD_BASE,\n",
    "        regex.I\n",
    "    )"
   ]
  },
  {
   "cell_type": "markdown",
   "metadata": {},
   "source": [
    "#### Methodology of RawExpressions.UNITS creation"
   ]
  },
  {
   "cell_type": "code",
   "execution_count": 4,
   "metadata": {},
   "outputs": [
    {
     "name": "stdout",
     "output_type": "stream",
     "text": [
      "{'oraz', 'na', 'ustawę', 'cyfrę', 'litery', 'po', 'wyrazy', 'lit', 'art', 'ust.4', 'drugie', 'lit.d)-f', 'załącznik', 'punkt', '§1a', 'pozycję', 'lit.f', 'Dział', 'tytuł', '11', 'lub', 'oddział', 'ust.11', 'art.7a', 'dwukrotnie', 'art.42', 'nowe', 'zadanie', 'zdanie', 'informację', 'nowy', 'zdania', 'ust', 'ust.10a', 'i', 'poz', 'preambułę', 'ust.7a', 'dział', 'art.59', '2a', 'od', 'trzecie', 'masę', 'lit.d', 'użyte', 'ust.5a', '5a', 'ostatnie', 'kropkę', 'trzykrotnie', '2', 'rozdział', '38a-38c', 'dwukropek', 'rozdziały', 'ozna\\xadczenie', 'lit.c', 'tiret', 'w', 'lp', 'ust.3a', 'niezwłocznie', '§3', 'kwotę', 'Oddział', '1-4', 'decyzję', 'usta', '4', '§2', 'ust.5', 'Rozdział', 'powołanie', 'wraz', 'średnik', 'użyty', 'pkt', 'oznaczenie', 'ust.1a', 'przecinek', 'z', 'ust.10', 'odnośnik', 'przyimek', '3', 'każdorazowo', 'decyzje', 'ust.3', 'wyraz', 'pozostałą', 'ust.10a\"10h', 'określenie'}\n"
     ]
    }
   ],
   "source": [
    "potential_units = []\n",
    "\n",
    "for bill in load_bills():\n",
    "    result = PatternStore.ANY_PHRASE_AFTER_ADD.findall(bill.content) +\\\n",
    "        PatternStore.ANY_PHRASE_AFTER_REM.findall(bill.content)\n",
    "    potential_units += result\n",
    "\n",
    "print(set(potential_units))"
   ]
  },
  {
   "cell_type": "code",
   "execution_count": 5,
   "metadata": {},
   "outputs": [],
   "source": [
    "class NormalizationProcessor(BillProcessor):\n",
    "    def _reduce_whitespaces(content: str):\n",
    "        return regex.sub(r\"\\s+\", \" \", content)\n",
    "\n",
    "    @classmethod\n",
    "    def process(cls, content: str): # bills.content todo\n",
    "        return cls._reduce_whitespaces(content)\n",
    "\n",
    "\n",
    "class PublishmentYearProcessor(BillProcessor):\n",
    "    def _find_publishment_year(content: str):\n",
    "        return PatternStore.YEAR.search(content.lower()).group(1)\n",
    "\n",
    "    @classmethod\n",
    "    def process(cls, content: str):\n",
    "        return cls._find_publishment_year(content)\n",
    "\n",
    "\n",
    "class AdditionsCountProcessor(BillProcessor):\n",
    "    def _count_additions(content: str):\n",
    "        return len(PatternStore.UNIT_ADD.findall(content))\n",
    "\n",
    "    @classmethod\n",
    "    def process(cls, content: str):\n",
    "        return cls._count_additions(content)\n",
    "\n",
    "\n",
    "class RemovalsCountProcessor(BillProcessor):\n",
    "    def _count_removals(content: str):\n",
    "        return len(PatternStore.UNIT_REM.findall(content))\n",
    "\n",
    "    @classmethod\n",
    "    def process(cls, content: str):\n",
    "        return cls._count_removals(content)\n",
    "\n",
    "\n",
    "class ModificationsCountProcessor(BillProcessor):\n",
    "    def _count_modifications(content: str):\n",
    "        return len(PatternStore.UNIT_MOD.findall(content))\n",
    "\n",
    "    @classmethod\n",
    "    def process(cls, content: str):\n",
    "        return cls._count_modifications(content)"
   ]
  },
  {
   "cell_type": "code",
   "execution_count": 6,
   "metadata": {},
   "outputs": [],
   "source": [
    "bills = load_bills()\n",
    "\n",
    "ammendments_processor = CorpusProcessor(\n",
    "    bills=bills,\n",
    "    processors=[\n",
    "        NormalizationProcessor,\n",
    "        PublishmentYearProcessor,\n",
    "        AdditionsCountProcessor,\n",
    "        RemovalsCountProcessor,\n",
    "        ModificationsCountProcessor,\n",
    "    ]\n",
    ")"
   ]
  },
  {
   "cell_type": "code",
   "execution_count": 7,
   "metadata": {},
   "outputs": [
    {
     "data": {
      "text/html": [
       "<div>\n",
       "<style scoped>\n",
       "    .dataframe tbody tr th:only-of-type {\n",
       "        vertical-align: middle;\n",
       "    }\n",
       "\n",
       "    .dataframe tbody tr th {\n",
       "        vertical-align: top;\n",
       "    }\n",
       "\n",
       "    .dataframe thead th {\n",
       "        text-align: right;\n",
       "    }\n",
       "</style>\n",
       "<table border=\"1\" class=\"dataframe\">\n",
       "  <thead>\n",
       "    <tr style=\"text-align: right;\">\n",
       "      <th></th>\n",
       "      <th>filename</th>\n",
       "      <th>content</th>\n",
       "      <th>year</th>\n",
       "      <th>additions</th>\n",
       "      <th>removals</th>\n",
       "      <th>changes</th>\n",
       "    </tr>\n",
       "  </thead>\n",
       "  <tbody>\n",
       "    <tr>\n",
       "      <th>0</th>\n",
       "      <td>2001_874.txt</td>\n",
       "      <td>Dz.U. z 2001 r. Nr 81, poz. 874 USTAWA z dnia...</td>\n",
       "      <td>2001</td>\n",
       "      <td>0</td>\n",
       "      <td>0</td>\n",
       "      <td>1</td>\n",
       "    </tr>\n",
       "    <tr>\n",
       "      <th>1</th>\n",
       "      <td>1996_583.txt</td>\n",
       "      <td>Dz.U. z 1996 r. Nr 124, poz. 583 USTAWA z dni...</td>\n",
       "      <td>1996</td>\n",
       "      <td>0</td>\n",
       "      <td>1</td>\n",
       "      <td>2</td>\n",
       "    </tr>\n",
       "    <tr>\n",
       "      <th>2</th>\n",
       "      <td>2003_1853.txt</td>\n",
       "      <td>Dz.U. z 2003 r. Nr 189, poz. 1853 U S T A W A...</td>\n",
       "      <td>2003</td>\n",
       "      <td>13</td>\n",
       "      <td>1</td>\n",
       "      <td>28</td>\n",
       "    </tr>\n",
       "    <tr>\n",
       "      <th>3</th>\n",
       "      <td>1997_753.txt</td>\n",
       "      <td>Dz.U. z 1997 r. Nr 117, poz. 753 USTAWA z dni...</td>\n",
       "      <td>1997</td>\n",
       "      <td>4</td>\n",
       "      <td>0</td>\n",
       "      <td>5</td>\n",
       "    </tr>\n",
       "    <tr>\n",
       "      <th>4</th>\n",
       "      <td>2000_440.txt</td>\n",
       "      <td>Dz.U. z 2000 r. Nr 39, poz. 440 USTAWA z dnia...</td>\n",
       "      <td>2000</td>\n",
       "      <td>0</td>\n",
       "      <td>0</td>\n",
       "      <td>0</td>\n",
       "    </tr>\n",
       "  </tbody>\n",
       "</table>\n",
       "</div>"
      ],
      "text/plain": [
       "        filename                                            content  year  \\\n",
       "0   2001_874.txt   Dz.U. z 2001 r. Nr 81, poz. 874 USTAWA z dnia...  2001   \n",
       "1   1996_583.txt   Dz.U. z 1996 r. Nr 124, poz. 583 USTAWA z dni...  1996   \n",
       "2  2003_1853.txt   Dz.U. z 2003 r. Nr 189, poz. 1853 U S T A W A...  2003   \n",
       "3   1997_753.txt   Dz.U. z 1997 r. Nr 117, poz. 753 USTAWA z dni...  1997   \n",
       "4   2000_440.txt   Dz.U. z 2000 r. Nr 39, poz. 440 USTAWA z dnia...  2000   \n",
       "\n",
       "   additions  removals  changes  \n",
       "0          0         0        1  \n",
       "1          0         1        2  \n",
       "2         13         1       28  \n",
       "3          4         0        5  \n",
       "4          0         0        0  "
      ]
     },
     "execution_count": 7,
     "metadata": {},
     "output_type": "execute_result"
    }
   ],
   "source": [
    "df = ammendments_processor()\n",
    "df.columns = [\n",
    "    \"filename\",\n",
    "    \"content\",\n",
    "    \"year\",\n",
    "    \"additions\",\n",
    "    \"removals\",\n",
    "    \"changes\",\n",
    "]\n",
    "\n",
    "df.head()"
   ]
  },
  {
   "cell_type": "markdown",
   "metadata": {},
   "source": [
    "#### 3. Ammendments - summary and visualization"
   ]
  },
  {
   "cell_type": "code",
   "execution_count": 8,
   "metadata": {},
   "outputs": [],
   "source": [
    "df_annual = df.groupby('year')[[\n",
    "    'additions',\n",
    "    'removals',\n",
    "    'changes',\n",
    "]].sum()\n",
    "\n",
    "df_annual['total_ammendments'] = df_annual.sum(axis=1)\n",
    "df_annual['additions_rate'] = df_annual.additions / df_annual.total_ammendments * 100\n",
    "df_annual['removals_rate'] = df_annual.removals / df_annual.total_ammendments * 100\n",
    "df_annual['changes_rate'] = df_annual.changes / df_annual.total_ammendments * 100"
   ]
  },
  {
   "cell_type": "code",
   "execution_count": 9,
   "metadata": {},
   "outputs": [
    {
     "data": {
      "text/html": [
       "<div>\n",
       "<style scoped>\n",
       "    .dataframe tbody tr th:only-of-type {\n",
       "        vertical-align: middle;\n",
       "    }\n",
       "\n",
       "    .dataframe tbody tr th {\n",
       "        vertical-align: top;\n",
       "    }\n",
       "\n",
       "    .dataframe thead th {\n",
       "        text-align: right;\n",
       "    }\n",
       "</style>\n",
       "<table border=\"1\" class=\"dataframe\">\n",
       "  <thead>\n",
       "    <tr style=\"text-align: right;\">\n",
       "      <th></th>\n",
       "      <th>additions_rate</th>\n",
       "      <th>removals_rate</th>\n",
       "      <th>changes_rate</th>\n",
       "    </tr>\n",
       "    <tr>\n",
       "      <th>year</th>\n",
       "      <th></th>\n",
       "      <th></th>\n",
       "      <th></th>\n",
       "    </tr>\n",
       "  </thead>\n",
       "  <tbody>\n",
       "    <tr>\n",
       "      <th>1993</th>\n",
       "      <td>34.615385</td>\n",
       "      <td>6.730769</td>\n",
       "      <td>58.653846</td>\n",
       "    </tr>\n",
       "    <tr>\n",
       "      <th>1994</th>\n",
       "      <td>44.444444</td>\n",
       "      <td>17.676768</td>\n",
       "      <td>37.878788</td>\n",
       "    </tr>\n",
       "    <tr>\n",
       "      <th>1995</th>\n",
       "      <td>39.450867</td>\n",
       "      <td>12.138728</td>\n",
       "      <td>48.410405</td>\n",
       "    </tr>\n",
       "    <tr>\n",
       "      <th>1996</th>\n",
       "      <td>32.254464</td>\n",
       "      <td>16.741071</td>\n",
       "      <td>51.004464</td>\n",
       "    </tr>\n",
       "    <tr>\n",
       "      <th>1997</th>\n",
       "      <td>34.597156</td>\n",
       "      <td>13.191153</td>\n",
       "      <td>52.211690</td>\n",
       "    </tr>\n",
       "  </tbody>\n",
       "</table>\n",
       "</div>"
      ],
      "text/plain": [
       "      additions_rate  removals_rate  changes_rate\n",
       "year                                             \n",
       "1993       34.615385       6.730769     58.653846\n",
       "1994       44.444444      17.676768     37.878788\n",
       "1995       39.450867      12.138728     48.410405\n",
       "1996       32.254464      16.741071     51.004464\n",
       "1997       34.597156      13.191153     52.211690"
      ]
     },
     "execution_count": 9,
     "metadata": {},
     "output_type": "execute_result"
    }
   ],
   "source": [
    "df_annual[['additions_rate', 'removals_rate', 'changes_rate']].head()"
   ]
  },
  {
   "cell_type": "code",
   "execution_count": 10,
   "metadata": {},
   "outputs": [
    {
     "data": {
      "text/plain": [
       "Text(0.5, 1.0, 'Percentage of amendments changes in time')"
      ]
     },
     "execution_count": 10,
     "metadata": {},
     "output_type": "execute_result"
    },
    {
     "data": {
      "image/png": "[encoded data removed]",
      "text/plain": [
       "<Figure size 432x288 with 1 Axes>"
      ]
     },
     "metadata": {
      "needs_background": "light"
     },
     "output_type": "display_data"
    }
   ],
   "source": [
    "ax = df_annual[['additions_rate', 'removals_rate', 'changes_rate']].plot()\n",
    "ax.set_xlabel(\"Publishment Year\")\n",
    "ax.set_ylabel(\"Percentage ratio [%]\")\n",
    "ax.set_title(\"Percentage of amendments changes in time\")"
   ]
  },
  {
   "cell_type": "code",
   "execution_count": 11,
   "metadata": {},
   "outputs": [
    {
     "data": {
      "text/plain": [
       "Text(0.5, 1.0, 'Percentage of amendments changes in time')"
      ]
     },
     "execution_count": 11,
     "metadata": {},
     "output_type": "execute_result"
    },
    {
     "data": {
      "image/png": "[encoded data removed]",
      "text/plain": [
       "<Figure size 432x288 with 1 Axes>"
      ]
     },
     "metadata": {
      "needs_background": "light"
     },
     "output_type": "display_data"
    }
   ],
   "source": [
    "ax = df_annual[['additions_rate', 'removals_rate', 'changes_rate']].plot.bar(stacked=True)\n",
    "ax.set_xlabel(\"Publishment Year\")\n",
    "ax.set_ylabel(\"Percentage ratio [%]\")\n",
    "ax.set_title(\"Percentage of amendments changes in time\")"
   ]
  },
  {
   "cell_type": "markdown",
   "metadata": {},
   "source": [
    "#### 4. Compute the total number of occurences of the word \"ustawa\" in any inflectional form and all spelling forms"
   ]
  },
  {
   "cell_type": "code",
   "execution_count": 12,
   "metadata": {},
   "outputs": [],
   "source": [
    "class UstawaAllFormsProcesor:\n",
    "    FORMS = []\n",
    "\n",
    "    @classmethod\n",
    "    def _count_all_forms(cls, content: str) -> int:\n",
    "        _forms = regex.compile(\n",
    "            r\"\\bustaw(?:\\p{L}|ie|om|ach|ami|owy)?\\b\",\n",
    "            regex.I\n",
    "        ).findall(content)\n",
    "\n",
    "        cls.FORMS += _forms\n",
    "        return len(_forms)\n",
    "\n",
    "    @classmethod\n",
    "    def process(cls, content: str) -> int:\n",
    "        return cls._count_all_forms(content)"
   ]
  },
  {
   "cell_type": "markdown",
   "metadata": {},
   "source": [
    "#### 5. Compute the total number of occurences of the word ustawa (same conditions), followed by \"z dnia\" expression"
   ]
  },
  {
   "cell_type": "code",
   "execution_count": 13,
   "metadata": {},
   "outputs": [],
   "source": [
    "class UstawaAllFollowedByProcessor:\n",
    "    def _count_all_forms_followed_by(content: str) -> int:\n",
    "        return len(regex.compile(\n",
    "            r\"(\\bustaw(?:\\p{L}|ie|om|ach|ami|owy)?\\b)(?=\\s+z\\s+dnia\\b)\",\n",
    "            regex.I\n",
    "        ).findall(content))\n",
    "\n",
    "    @classmethod\n",
    "    def process(cls, content: str) -> int:\n",
    "        return cls._count_all_forms_followed_by(content)"
   ]
  },
  {
   "cell_type": "markdown",
   "metadata": {},
   "source": [
    "#### 6. As above, but not followed by \"z dnia\" expression"
   ]
  },
  {
   "cell_type": "code",
   "execution_count": 14,
   "metadata": {},
   "outputs": [],
   "source": [
    "class UstawaAllNotFollowedByProcessor:\n",
    "    def _count_all_forms_not_followed_by(content: str) -> int:\n",
    "        return len(regex.compile(\n",
    "            r\"(\\bustaw(?:\\p{L}|ie|om|ach|ami|owy)?\\b)(?!\\s+z\\s+dnia\\b)\",\n",
    "            regex.I\n",
    "        ).findall(content))\n",
    "\n",
    "    @classmethod\n",
    "    def process(cls, content: str) -> int:\n",
    "        return cls._count_all_forms_not_followed_by(content)"
   ]
  },
  {
   "cell_type": "markdown",
   "metadata": {},
   "source": [
    "#### 7. Compute the total number of occurences of the word ustawa in any inflectional form, excluding occurences following o zmianie"
   ]
  },
  {
   "cell_type": "code",
   "execution_count": 15,
   "metadata": {},
   "outputs": [],
   "source": [
    "class UstawaNotChangedProcessor:\n",
    "    def _count_not_changed(content: str) -> int:\n",
    "        return len(regex.compile(\n",
    "            r\"(?<!\\bo\\s+zmianie\\b)\\s+\\bustaw(?:\\p{L}|ie|om|ach|ami|owy)?\\b\",\n",
    "            regex.I # comment not to include any spelling forms\n",
    "        ).findall(content))\n",
    "\n",
    "    @classmethod\n",
    "    def process(cls, content: str) -> int:\n",
    "        return cls._count_not_changed(content)"
   ]
  },
  {
   "cell_type": "code",
   "execution_count": 17,
   "metadata": {},
   "outputs": [],
   "source": [
    "bills = load_bills()\n",
    "ustawa_processor = CorpusProcessor(\n",
    "    bills=bills,\n",
    "    processors=[\n",
    "        UstawaAllFormsProcesor,\n",
    "        UstawaAllFollowedByProcessor,\n",
    "        UstawaAllNotFollowedByProcessor,\n",
    "        UstawaNotChangedProcessor,\n",
    "    ]\n",
    ")\n",
    "\n",
    "df_ustawa = ustawa_processor()\n",
    "df_ustawa.columns = [\n",
    "    \"filename\",\n",
    "    \"all_forms\",\n",
    "    \"z_dnia_followed\",\n",
    "    \"z_dnia_not_followed\",\n",
    "    \"not_changed\"\n",
    "]"
   ]
  },
  {
   "cell_type": "code",
   "execution_count": 18,
   "metadata": {},
   "outputs": [
    {
     "data": {
      "text/plain": [
       "all_forms              24960\n",
       "z_dnia_followed         8587\n",
       "z_dnia_not_followed    16373\n",
       "not_changed            24016\n",
       "dtype: int64"
      ]
     },
     "execution_count": 18,
     "metadata": {},
     "output_type": "execute_result"
    }
   ],
   "source": [
    "df_ustawa[[\n",
    "    \"all_forms\",\n",
    "    \"z_dnia_followed\",\n",
    "    \"z_dnia_not_followed\",\n",
    "    \"not_changed\"\n",
    "]].sum()"
   ]
  },
  {
   "cell_type": "code",
   "execution_count": 19,
   "metadata": {},
   "outputs": [
    {
     "data": {
      "text/plain": [
       "Text(0.5, 1.0, 'Number of conditional occurencies for the word ustawa')"
      ]
     },
     "execution_count": 19,
     "metadata": {},
     "output_type": "execute_result"
    },
    {
     "data": {
      "image/png": "[encoded data removed]",
      "text/plain": [
       "<Figure size 432x288 with 1 Axes>"
      ]
     },
     "metadata": {
      "needs_background": "light"
     },
     "output_type": "display_data"
    }
   ],
   "source": [
    "ax = df_ustawa[[\n",
    "    \"all_forms\",\n",
    "    \"z_dnia_followed\",\n",
    "    \"z_dnia_not_followed\",\n",
    "    \"not_changed\"\n",
    "]].sum().plot.bar()\n",
    "ax.set_ylabel(\"Number of occurencies\")\n",
    "ax.set_title(\"Number of conditional occurencies for the word ustawa\")"
   ]
  },
  {
   "cell_type": "markdown",
   "metadata": {},
   "source": [
    "#### Ad. 4 All inflectional and spelling forms of the word \"ustawa\""
   ]
  },
  {
   "cell_type": "code",
   "execution_count": 20,
   "metadata": {},
   "outputs": [
    {
     "data": {
      "text/plain": [
       "{'USTAWA',\n",
       " 'USTAWY',\n",
       " 'USTAWa',\n",
       " 'Ustaw',\n",
       " 'Ustawa',\n",
       " 'Ustawie',\n",
       " 'Ustawowy',\n",
       " 'Ustawy',\n",
       " 'Ustawę',\n",
       " 'ustaw',\n",
       " 'ustawA',\n",
       " 'ustawa',\n",
       " 'ustawach',\n",
       " 'ustawami',\n",
       " 'ustawie',\n",
       " 'ustawom',\n",
       " 'ustawowy',\n",
       " 'ustawy',\n",
       " 'ustawą',\n",
       " 'ustawę'}"
      ]
     },
     "execution_count": 20,
     "metadata": {},
     "output_type": "execute_result"
    }
   ],
   "source": [
    "set(UstawaAllFormsProcesor.FORMS)"
   ]
  },
  {
   "cell_type": "markdown",
   "metadata": {},
   "source": [
    "#### Ad. 6 Check if the result is correct (Point 4 =? Point 5 + Point 6)"
   ]
  },
  {
   "cell_type": "code",
   "execution_count": 21,
   "metadata": {},
   "outputs": [
    {
     "name": "stdout",
     "output_type": "stream",
     "text": [
      "{'all_forms': 24960, 'z_dnia_followed': 8587, 'z_dnia_not_followed': 16373}\n"
     ]
    }
   ],
   "source": [
    "check = df_ustawa[[\n",
    "    \"all_forms\",\n",
    "    \"z_dnia_followed\",\n",
    "    \"z_dnia_not_followed\" \n",
    "]].sum(axis=0).to_dict()\n",
    "\n",
    "print(check)\n",
    "assert check['all_forms'] == check['z_dnia_followed'] + check['z_dnia_not_followed']"
   ]
  }
 ],
 "metadata": {
  "kernelspec": {
   "display_name": "Python 3.10.5 64-bit ('3.10.5')",
   "language": "python",
   "name": "python3"
  },
  "language_info": {
   "codemirror_mode": {
    "name": "ipython",
    "version": 3
   },
   "file_extension": ".py",
   "mimetype": "text/x-python",
   "name": "python",
   "nbconvert_exporter": "python",
   "pygments_lexer": "ipython3",
   "version": "3.10.5"
  },
  "orig_nbformat": 4,
  "vscode": {
   "interpreter": {
    "hash": "16ce62d89139d6b459a4fa414ee333754219537208081da9003b7fab6a6c11db"
   }
  }
 },
 "nbformat": 4,
 "nbformat_minor": 2
}
