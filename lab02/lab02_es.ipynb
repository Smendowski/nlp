{
 "cells": [
  {
   "cell_type": "code",
   "execution_count": 129,
   "metadata": {},
   "outputs": [],
   "source": [
    "from elasticsearch import Elasticsearch, helpers\n",
    "from elasticsearch_dsl import Search\n",
    "# term and token are synonyms\n",
    "\n",
    "es = Elasticsearch(\"http://localhost:9200\")"
   ]
  },
  {
   "cell_type": "code",
   "execution_count": 10,
   "metadata": {},
   "outputs": [
    {
     "data": {
      "text/plain": [
       "{'number': '8.4.3',\n",
       " 'build_flavor': 'default',\n",
       " 'build_type': 'docker',\n",
       " 'build_hash': '42f05b9372a9a4a470db3b52817899b99a76ee73',\n",
       " 'build_date': '2022-10-04T07:17:24.662462378Z',\n",
       " 'build_snapshot': False,\n",
       " 'lucene_version': '9.3.0',\n",
       " 'minimum_wire_compatibility_version': '7.17.0',\n",
       " 'minimum_index_compatibility_version': '7.0.0'}"
      ]
     },
     "execution_count": 10,
     "metadata": {},
     "output_type": "execute_result"
    }
   ],
   "source": [
    "es.info()['version']"
   ]
  },
  {
   "cell_type": "code",
   "execution_count": 34,
   "metadata": {},
   "outputs": [
    {
     "name": "stdout",
     "output_type": "stream",
     "text": [
      "name         component           version description\n",
      "8f951096d4f9 analysis-morfologik 8.4.3   Morfologik Polish Lemmatizer plugin for Elasticsearch\n",
      "\n"
     ]
    }
   ],
   "source": [
    "# GET /_cat/plugins?v=true&s=component&h=name,component,version,description\n",
    "\n",
    "print(es.cat.plugins(\n",
    "    params={\n",
    "        'v': 'true',\n",
    "        'h': 'name,component,version,description'\n",
    "    }\n",
    "))"
   ]
  },
  {
   "cell_type": "code",
   "execution_count": null,
   "metadata": {},
   "outputs": [],
   "source": [
    "# From morfologic repo:\n",
    "# GET _analyze\n",
    "# {\n",
    "#   \"tokenizer\": \"standard\",\n",
    "#   \"filter\": [\"morfologik_stem\"],\n",
    "#   \"text\": \"jestem\"\n",
    "# }"
   ]
  },
  {
   "cell_type": "code",
   "execution_count": 209,
   "metadata": {},
   "outputs": [],
   "source": [
    "settings = {\n",
    "    \"analysis\":{\n",
    "        \"analyzer\": {\n",
    "            \"polish_bills_analyzer\": { \n",
    "               \"type\":\"custom\",\n",
    "               \"tokenizer\":\"standard\",\n",
    "               \"filter\": [\n",
    "                  \"lowercase\",\n",
    "                   \"synonyms_bills\",\n",
    "                   \"morfologik_stem\",\n",
    "               ]\n",
    "            }\n",
    "        },\n",
    "        \"filter\":{\n",
    "            \"synonyms_bills\": {\n",
    "                \"type\": \"synonym_graph\",\n",
    "                \"synonyms\": [\n",
    "                    \"kpk,kodeks postępowania karnego\",\n",
    "                    \"kpc,kodeks postępowania cywilnego\",\n",
    "                    \"kk,kodeks karny\",\n",
    "                    \"kc,kodeks cywilny\"\n",
    "                ]\n",
    "            }\n",
    "        }\n",
    "    }\n",
    "}\n",
    "\n",
    "# To co trafia do inteksu ma zawartość tekstową i będzie analizowane przez polish_bills_analyzer\n",
    "mappings = {\n",
    "    \"properties\": {\n",
    "        \"content\": {\n",
    "            \"type\": \"text\",\n",
    "            \"analyzer\": \"polish_bills_analyzer\"\n",
    "        }\n",
    "    }\n",
    "}"
   ]
  },
  {
   "cell_type": "code",
   "execution_count": 234,
   "metadata": {},
   "outputs": [
    {
     "data": {
      "text/plain": [
       "{'acknowledged': True, 'shards_acknowledged': True, 'index': 'polish_bills'}"
      ]
     },
     "execution_count": 234,
     "metadata": {},
     "output_type": "execute_result"
    }
   ],
   "source": [
    "es.indices.create(index=\"polish_bills\", settings=settings, mappings=mappings)\n",
    "# es.indices.delete(index='bills_analyzer')"
   ]
  },
  {
   "cell_type": "code",
   "execution_count": 235,
   "metadata": {},
   "outputs": [],
   "source": [
    "import glob\n",
    "\n",
    "def load_bills(\n",
    "    path,\n",
    "    extension= \"txt\"\n",
    "):\n",
    "    paths: List[str] = glob.glob(f\"{path}/*.{extension}\")\n",
    "    for file_path in paths:\n",
    "        with open(file_path) as f:\n",
    "            yield (\n",
    "                file_path.split(\"/\")[-1],\n",
    "                f.read(),\n",
    "            )"
   ]
  },
  {
   "cell_type": "code",
   "execution_count": 236,
   "metadata": {},
   "outputs": [
    {
     "name": "stdout",
     "output_type": "stream",
     "text": [
      "1178 polish bills to upload to the ES index.\n"
     ]
    }
   ],
   "source": [
    "data = []\n",
    "bills = list(load_bills(path=\"/Users/mateusz/nlp/bills\"))\n",
    "print(f\"{len(bills)} polish bills to upload to the ES index.\")\n",
    "\n",
    "for filename, content in bills:\n",
    "    data += [{\"create\": {\"_index\": \"polish_bills\", \"_id\": filename}}]\n",
    "    data += [{\"content\": content}]"
   ]
  },
  {
   "cell_type": "code",
   "execution_count": 239,
   "metadata": {},
   "outputs": [],
   "source": [
    "es.bulk(data, index=\"polish_bills\")"
   ]
  },
  {
   "cell_type": "code",
   "execution_count": 243,
   "metadata": {},
   "outputs": [
    {
     "name": "stdout",
     "output_type": "stream",
     "text": [
      "Data successfully uploaded.\n"
     ]
    }
   ],
   "source": [
    "if es.count(index=\"polish_bills\")['count'] == len(bills):\n",
    "    print(\"Data successfully uploaded.\")"
   ]
  },
  {
   "cell_type": "code",
   "execution_count": 504,
   "metadata": {},
   "outputs": [],
   "source": [
    "def es_search(query: str, index=\"polish_bills\"):\n",
    "    return es.search(index=index, query=query)\n",
    "\n",
    "def es_search_body(query: str, index=\"polish_bills\"):\n",
    "    return es.search(index=index, body=query)"
   ]
  },
  {
   "cell_type": "code",
   "execution_count": 340,
   "metadata": {},
   "outputs": [
    {
     "name": "stdout",
     "output_type": "stream",
     "text": [
      "['2001_874.txt', '1996_583.txt', '2003_1853.txt', '1997_753.txt', '2000_440.txt']\n"
     ]
    }
   ],
   "source": [
    "def get_ids(index=\"polish_bills\", doc_type=\"text\"):\n",
    "    s = Search(using=es, index=index, doc_type=doc_type)\n",
    "    return list(h.meta.id for h in s.scan())\n",
    "\n",
    "ids = get_ids()\n",
    "print(ids[:5], end=\"\\n\")"
   ]
  },
  {
   "cell_type": "markdown",
   "metadata": {},
   "source": [
    "#### 6. Determine the number of legislative acts containing the word ustawa (in any form)."
   ]
  },
  {
   "cell_type": "code",
   "execution_count": 513,
   "metadata": {},
   "outputs": [
    {
     "name": "stderr",
     "output_type": "stream",
     "text": [
      "/var/folders/v2/tn30zgm13l364d0wn_b2lr0w0000gn/T/ipykernel_74491/1770903138.py:5: DeprecationWarning: The 'body' parameter is deprecated for the 'search' API and will be removed in a future version. Instead use API parameters directly. See https://github.com/elastic/elasticsearch-py/issues/1698 for more information\n",
      "  return es.search(index=index, body=query)\n"
     ]
    },
    {
     "name": "stdout",
     "output_type": "stream",
     "text": [
      "1178\n"
     ]
    }
   ],
   "source": [
    "query = {\n",
    "    \"query\": {\n",
    "        \"match\": {\n",
    "            \"content\": \"ustawa\"\n",
    "        }\n",
    "    },\n",
    "    \"size\": 1178, # that should be set, because after some time only 10 docs were taken!\n",
    "    \"_source\": False,\n",
    "    \"explain\": True\n",
    "}\n",
    "\n",
    "result = es_search_body(query)\n",
    "print(result['hits']['total']['value'])"
   ]
  },
  {
   "cell_type": "markdown",
   "metadata": {},
   "source": [
    "#### 7.  Determine the number of occurrences of the word ustawa by searching for this particular form, including the other inflectional forms."
   ]
  },
  {
   "cell_type": "code",
   "execution_count": 514,
   "metadata": {},
   "outputs": [
    {
     "data": {
      "text/plain": [
       "1178"
      ]
     },
     "execution_count": 514,
     "metadata": {},
     "output_type": "execute_result"
    }
   ],
   "source": [
    "# Rezultaty analizy dokumentów per każdy dokument\n",
    "len(result['hits']['hits'])"
   ]
  },
  {
   "cell_type": "code",
   "execution_count": 515,
   "metadata": {},
   "outputs": [
    {
     "data": {
      "text/plain": [
       "[{'value': 156.0,\n",
       "  'description': 'freq, occurrences of term within document',\n",
       "  'details': []},\n",
       " {'value': 1.2, 'description': 'k1, term saturation parameter', 'details': []},\n",
       " {'value': 0.75,\n",
       "  'description': 'b, length normalization parameter',\n",
       "  'details': []},\n",
       " {'value': 6680.0,\n",
       "  'description': 'dl, length of field (approximate)',\n",
       "  'details': []},\n",
       " {'value': 4391.8,\n",
       "  'description': 'avgdl, average length of field',\n",
       "  'details': []}]"
      ]
     },
     "execution_count": 515,
     "metadata": {},
     "output_type": "execute_result"
    }
   ],
   "source": [
    "result['hits']['hits'][0]['_explanation']['details'][0]['details'][-1]['details']\n",
    "# The first nested directory represents the total occurences of term within document"
   ]
  },
  {
   "cell_type": "code",
   "execution_count": 516,
   "metadata": {},
   "outputs": [
    {
     "name": "stdout",
     "output_type": "stream",
     "text": [
      "24934\n"
     ]
    }
   ],
   "source": [
    "def get_occurences(document):\n",
    "    return document['_explanation']['details'][0]['details'][-1]['details'][0]['value']\n",
    "\n",
    "documents = list(result['hits']['hits'])\n",
    "\n",
    "occurences = int(sum(map(\n",
    "    lambda x: get_occurences(x),\n",
    "    documents\n",
    ")))\n",
    "\n",
    "print(occurences)"
   ]
  },
  {
   "cell_type": "markdown",
   "metadata": {},
   "source": [
    "#### Insights into TermVector API"
   ]
  },
  {
   "cell_type": "code",
   "execution_count": 352,
   "metadata": {},
   "outputs": [],
   "source": [
    "occurences_termv = [\n",
    "    es.termvectors(\n",
    "        index=\"polish_bills\",\n",
    "        id=_id,\n",
    "        fields=['content'],\n",
    "        term_statistics=True\n",
    "    ) for _id in ids \n",
    "]"
   ]
  },
  {
   "cell_type": "code",
   "execution_count": 353,
   "metadata": {},
   "outputs": [
    {
     "data": {
      "text/plain": [
       "{'_index': 'polish_bills',\n",
       " '_id': '2001_874.txt',\n",
       " '_version': 1,\n",
       " 'found': True,\n",
       " 'took': 60,\n",
       " 'term_vectors': {'content': {'field_statistics': {'sum_doc_freq': 705461,\n",
       "    'doc_count': 1178,\n",
       "    'sum_ttf': 5173540},\n",
       "   'terms': {'1': {'doc_freq': 1178,\n",
       "     'ttf': 73970,\n",
       "     'term_freq': 1,\n",
       "     'tokens': [{'position': 23, 'start_offset': 445, 'end_offset': 446}]},\n",
       "    '106': {'doc_freq': 548,\n",
       "     'ttf': 2042,\n",
       "     'term_freq': 3,\n",
       "     'tokens': [{'position': 76, 'start_offset': 664, 'end_offset': 667},\n",
       "      {'position': 97, 'start_offset': 746, 'end_offset': 749},\n",
       "      {'position': 104, 'start_offset': 774, 'end_offset': 777}]},\n",
       "    '110': {'doc_freq': 316,\n",
       "     'ttf': 709,\n",
       "     'term_freq': 1,\n",
       "     'tokens': [{'position': 117, 'start_offset': 824, 'end_offset': 827}]},\n",
       "    '1255': {'doc_freq': 96,\n",
       "     'ttf': 152,\n",
       "     'term_freq': 1,\n",
       "     'tokens': [{'position': 119, 'start_offset': 834, 'end_offset': 838}]},\n",
       "    '152': {'doc_freq': 127,\n",
       "     'ttf': 209,\n",
       "     'term_freq': 1,\n",
       "     'tokens': [{'position': 81, 'start_offset': 683, 'end_offset': 686}]},\n",
       "    '153': {'doc_freq': 248,\n",
       "     'ttf': 542,\n",
       "     'term_freq': 1,\n",
       "     'tokens': [{'position': 90, 'start_offset': 720, 'end_offset': 723}]},\n",
       "    '163': {'doc_freq': 210,\n",
       "     'ttf': 449,\n",
       "     'term_freq': 1,\n",
       "     'tokens': [{'position': 71, 'start_offset': 646, 'end_offset': 649}]},\n",
       "    '17': {'doc_freq': 647,\n",
       "     'ttf': 2510,\n",
       "     'term_freq': 1,\n",
       "     'tokens': [{'position': 66, 'start_offset': 629, 'end_offset': 631}]},\n",
       "    '1991': {'doc_freq': 464,\n",
       "     'ttf': 1343,\n",
       "     'term_freq': 1,\n",
       "     'tokens': [{'position': 30, 'start_offset': 477, 'end_offset': 481}]},\n",
       "    '1992': {'doc_freq': 340,\n",
       "     'ttf': 712,\n",
       "     'term_freq': 1,\n",
       "     'tokens': [{'position': 42, 'start_offset': 539, 'end_offset': 543}]},\n",
       "    '1994': {'doc_freq': 545,\n",
       "     'ttf': 1675,\n",
       "     'term_freq': 1,\n",
       "     'tokens': [{'position': 54, 'start_offset': 583, 'end_offset': 587}]},\n",
       "    '1995': {'doc_freq': 508,\n",
       "     'ttf': 1454,\n",
       "     'term_freq': 1,\n",
       "     'tokens': [{'position': 61, 'start_offset': 610, 'end_offset': 614}]},\n",
       "    '1996': {'doc_freq': 538,\n",
       "     'ttf': 1853,\n",
       "     'term_freq': 1,\n",
       "     'tokens': [{'position': 73, 'start_offset': 653, 'end_offset': 657}]},\n",
       "    '1997': {'doc_freq': 692,\n",
       "     'ttf': 3025,\n",
       "     'term_freq': 1,\n",
       "     'tokens': [{'position': 85, 'start_offset': 700, 'end_offset': 704}]},\n",
       "    '1998': {'doc_freq': 579,\n",
       "     'ttf': 2355,\n",
       "     'term_freq': 1,\n",
       "     'tokens': [{'position': 101, 'start_offset': 763, 'end_offset': 767}]},\n",
       "    '1999': {'doc_freq': 553,\n",
       "     'ttf': 2080,\n",
       "     'term_freq': 1,\n",
       "     'tokens': [{'position': 109, 'start_offset': 795, 'end_offset': 799}]},\n",
       "    '19c': {'doc_freq': 11,\n",
       "     'ttf': 17,\n",
       "     'term_freq': 2,\n",
       "     'tokens': [{'position': 121, 'start_offset': 845, 'end_offset': 848},\n",
       "      {'position': 125, 'start_offset': 880, 'end_offset': 883}]},\n",
       "    '2': {'doc_freq': 1178,\n",
       "     'ttf': 57389,\n",
       "     'term_freq': 1,\n",
       "     'tokens': [{'position': 169, 'start_offset': 1321, 'end_offset': 1322}]},\n",
       "    '2001': {'doc_freq': 471,\n",
       "     'ttf': 2092,\n",
       "     'term_freq': 2,\n",
       "     'tokens': [{'position': 2, 'start_offset': 12, 'end_offset': 16},\n",
       "      {'position': 13, 'start_offset': 208, 'end_offset': 212}]},\n",
       "    '21': {'doc_freq': 636,\n",
       "     'ttf': 2454,\n",
       "     'term_freq': 2,\n",
       "     'tokens': [{'position': 11, 'start_offset': 196, 'end_offset': 198},\n",
       "      {'position': 45, 'start_offset': 550, 'end_offset': 552}]},\n",
       "    '214': {'doc_freq': 112,\n",
       "     'ttf': 188,\n",
       "     'term_freq': 1,\n",
       "     'tokens': [{'position': 59, 'start_offset': 603, 'end_offset': 606}]},\n",
       "    '24': {'doc_freq': 581,\n",
       "     'ttf': 2242,\n",
       "     'term_freq': 1,\n",
       "     'tokens': [{'position': 28, 'start_offset': 465, 'end_offset': 467}]},\n",
       "    '254': {'doc_freq': 142,\n",
       "     'ttf': 242,\n",
       "     'term_freq': 1,\n",
       "     'tokens': [{'position': 52, 'start_offset': 576, 'end_offset': 579}]},\n",
       "    '28': {'doc_freq': 600,\n",
       "     'ttf': 1924,\n",
       "     'term_freq': 1,\n",
       "     'tokens': [{'position': 88, 'start_offset': 711, 'end_offset': 713}]},\n",
       "    '30': {'doc_freq': 686,\n",
       "     'ttf': 3107,\n",
       "     'term_freq': 1,\n",
       "     'tokens': [{'position': 176, 'start_offset': 1358, 'end_offset': 1360}]},\n",
       "    '34': {'doc_freq': 482,\n",
       "     'ttf': 1484,\n",
       "     'term_freq': 1,\n",
       "     'tokens': [{'position': 69, 'start_offset': 637, 'end_offset': 639}]},\n",
       "    '4': {'doc_freq': 928,\n",
       "     'ttf': 24438,\n",
       "     'term_freq': 1,\n",
       "     'tokens': [{'position': 64, 'start_offset': 621, 'end_offset': 622}]},\n",
       "    '400': {'doc_freq': 89,\n",
       "     'ttf': 116,\n",
       "     'term_freq': 1,\n",
       "     'tokens': [{'position': 40, 'start_offset': 533, 'end_offset': 536}]},\n",
       "    '436': {'doc_freq': 15,\n",
       "     'ttf': 15,\n",
       "     'term_freq': 1,\n",
       "     'tokens': [{'position': 114, 'start_offset': 815, 'end_offset': 818}]},\n",
       "    '45': {'doc_freq': 404,\n",
       "     'ttf': 1117,\n",
       "     'term_freq': 1,\n",
       "     'tokens': [{'position': 112, 'start_offset': 806, 'end_offset': 808}]},\n",
       "    '496': {'doc_freq': 256,\n",
       "     'ttf': 616,\n",
       "     'term_freq': 1,\n",
       "     'tokens': [{'position': 78, 'start_offset': 674, 'end_offset': 677}]},\n",
       "    '53': {'doc_freq': 297,\n",
       "     'ttf': 692,\n",
       "     'term_freq': 1,\n",
       "     'tokens': [{'position': 57, 'start_offset': 594, 'end_offset': 596}]},\n",
       "    '54': {'doc_freq': 358,\n",
       "     'ttf': 895,\n",
       "     'term_freq': 1,\n",
       "     'tokens': [{'position': 50, 'start_offset': 567, 'end_offset': 569}]},\n",
       "    '554': {'doc_freq': 191,\n",
       "     'ttf': 367,\n",
       "     'term_freq': 1,\n",
       "     'tokens': [{'position': 94, 'start_offset': 737, 'end_offset': 740}]},\n",
       "    '668': {'doc_freq': 309,\n",
       "     'ttf': 782,\n",
       "     'term_freq': 1,\n",
       "     'tokens': [{'position': 106, 'start_offset': 784, 'end_offset': 787}]},\n",
       "    '680': {'doc_freq': 63,\n",
       "     'ttf': 87,\n",
       "     'term_freq': 1,\n",
       "     'tokens': [{'position': 99, 'start_offset': 756, 'end_offset': 759}]},\n",
       "    '723': {'doc_freq': 32,\n",
       "     'ttf': 42,\n",
       "     'term_freq': 1,\n",
       "     'tokens': [{'position': 83, 'start_offset': 693, 'end_offset': 696}]},\n",
       "    '81': {'doc_freq': 176,\n",
       "     'ttf': 345,\n",
       "     'term_freq': 1,\n",
       "     'tokens': [{'position': 5, 'start_offset': 23, 'end_offset': 25}]},\n",
       "    '86': {'doc_freq': 322,\n",
       "     'ttf': 677,\n",
       "     'term_freq': 1,\n",
       "     'tokens': [{'position': 47, 'start_offset': 559, 'end_offset': 561}]},\n",
       "    '874': {'doc_freq': 42,\n",
       "     'ttf': 75,\n",
       "     'term_freq': 1,\n",
       "     'tokens': [{'position': 7, 'start_offset': 32, 'end_offset': 35}]},\n",
       "    '88': {'doc_freq': 331,\n",
       "     'ttf': 797,\n",
       "     'term_freq': 2,\n",
       "     'tokens': [{'position': 38, 'start_offset': 524, 'end_offset': 526},\n",
       "      {'position': 92, 'start_offset': 728, 'end_offset': 730}]},\n",
       "    'a': {'doc_freq': 939,\n",
       "     'ttf': 16997,\n",
       "     'term_freq': 1,\n",
       "     'tokens': [{'position': 152, 'start_offset': 1134, 'end_offset': 1135}]},\n",
       "    'artykuł': {'doc_freq': 1178,\n",
       "     'ttf': 84368,\n",
       "     'term_freq': 4,\n",
       "     'tokens': [{'position': 22, 'start_offset': 440, 'end_offset': 443},\n",
       "      {'position': 120, 'start_offset': 840, 'end_offset': 843},\n",
       "      {'position': 124, 'start_offset': 875, 'end_offset': 878},\n",
       "      {'position': 168, 'start_offset': 1316, 'end_offset': 1319}]},\n",
       "    'brzmienie': {'doc_freq': 843,\n",
       "     'ttf': 17875,\n",
       "     'term_freq': 1,\n",
       "     'tokens': [{'position': 123, 'start_offset': 859, 'end_offset': 868}]},\n",
       "    'brzmieć': {'doc_freq': 843,\n",
       "     'ttf': 17877,\n",
       "     'term_freq': 1,\n",
       "     'tokens': [{'position': 123, 'start_offset': 859, 'end_offset': 868}]},\n",
       "    'być': {'doc_freq': 882,\n",
       "     'ttf': 31055,\n",
       "     'term_freq': 1,\n",
       "     'tokens': [{'position': 143, 'start_offset': 1046, 'end_offset': 1050}]},\n",
       "    'cel': {'doc_freq': 630,\n",
       "     'ttf': 5584,\n",
       "     'term_freq': 1,\n",
       "     'tokens': [{'position': 165, 'start_offset': 1239, 'end_offset': 1243}]},\n",
       "    'cela': {'doc_freq': 311,\n",
       "     'ttf': 1204,\n",
       "     'term_freq': 1,\n",
       "     'tokens': [{'position': 165, 'start_offset': 1239, 'end_offset': 1243}]},\n",
       "    'czerwiec': {'doc_freq': 538,\n",
       "     'ttf': 1475,\n",
       "     'term_freq': 1,\n",
       "     'tokens': [{'position': 12, 'start_offset': 199, 'end_offset': 206}]},\n",
       "    'dz.u': {'doc_freq': 997,\n",
       "     'ttf': 5768,\n",
       "     'term_freq': 2,\n",
       "     'tokens': [{'position': 0, 'start_offset': 4, 'end_offset': 8},\n",
       "      {'position': 36, 'start_offset': 515, 'end_offset': 519}]},\n",
       "    'dzień': {'doc_freq': 1178,\n",
       "     'ttf': 27891,\n",
       "     'term_freq': 4,\n",
       "     'tokens': [{'position': 10, 'start_offset': 191, 'end_offset': 195},\n",
       "      {'position': 27, 'start_offset': 460, 'end_offset': 464},\n",
       "      {'position': 177, 'start_offset': 1361, 'end_offset': 1364},\n",
       "      {'position': 179, 'start_offset': 1368, 'end_offset': 1372}]},\n",
       "    'finansować': {'doc_freq': 303,\n",
       "     'ttf': 1434,\n",
       "     'term_freq': 1,\n",
       "     'tokens': [{'position': 144, 'start_offset': 1051, 'end_offset': 1062}]},\n",
       "    'finansowy': {'doc_freq': 387,\n",
       "     'ttf': 4063,\n",
       "     'term_freq': 1,\n",
       "     'tokens': [{'position': 154, 'start_offset': 1143, 'end_offset': 1152}]},\n",
       "    'fizyczny': {'doc_freq': 400,\n",
       "     'ttf': 1980,\n",
       "     'term_freq': 1,\n",
       "     'tokens': [{'position': 137, 'start_offset': 982, 'end_offset': 990}]},\n",
       "    'i': {'doc_freq': 1081,\n",
       "     'ttf': 90062,\n",
       "     'term_freq': 5,\n",
       "     'tokens': [{'position': 48, 'start_offset': 562, 'end_offset': 563},\n",
       "      {'position': 67, 'start_offset': 632, 'end_offset': 633},\n",
       "      {'position': 79, 'start_offset': 678, 'end_offset': 679},\n",
       "      {'position': 95, 'start_offset': 741, 'end_offset': 742},\n",
       "      {'position': 115, 'start_offset': 819, 'end_offset': 820}]},\n",
       "    'jednostka': {'doc_freq': 573,\n",
       "     'ttf': 8485,\n",
       "     'term_freq': 1,\n",
       "     'tokens': [{'position': 162, 'start_offset': 1213, 'end_offset': 1222}]},\n",
       "    'jednostki': {'doc_freq': 541,\n",
       "     'ttf': 6846,\n",
       "     'term_freq': 1,\n",
       "     'tokens': [{'position': 162, 'start_offset': 1213, 'end_offset': 1222}]},\n",
       "    'lub': {'doc_freq': 844,\n",
       "     'ttf': 45800,\n",
       "     'term_freq': 1,\n",
       "     'tokens': [{'position': 136, 'start_offset': 978, 'end_offset': 981}]},\n",
       "    'lubić': {'doc_freq': 844,\n",
       "     'ttf': 45800,\n",
       "     'term_freq': 1,\n",
       "     'tokens': [{'position': 136, 'start_offset': 978, 'end_offset': 981}]},\n",
       "    'na': {'doc_freq': 1045,\n",
       "     'ttf': 50651,\n",
       "     'term_freq': 2,\n",
       "     'tokens': [{'position': 148, 'start_offset': 1094, 'end_offset': 1096},\n",
       "      {'position': 164, 'start_offset': 1236, 'end_offset': 1238}]},\n",
       "    'numer': {'doc_freq': 1115,\n",
       "     'ttf': 46186,\n",
       "     'term_freq': 15,\n",
       "     'tokens': [{'position': 4, 'start_offset': 20, 'end_offset': 22},\n",
       "      {'position': 37, 'start_offset': 521, 'end_offset': 523},\n",
       "      {'position': 44, 'start_offset': 547, 'end_offset': 549},\n",
       "      {'position': 49, 'start_offset': 564, 'end_offset': 566},\n",
       "      {'position': 56, 'start_offset': 591, 'end_offset': 593},\n",
       "      {'position': 63, 'start_offset': 618, 'end_offset': 620},\n",
       "      {'position': 68, 'start_offset': 634, 'end_offset': 636},\n",
       "      {'position': 75, 'start_offset': 661, 'end_offset': 663},\n",
       "      {'position': 80, 'start_offset': 680, 'end_offset': 682},\n",
       "      {'position': 87, 'start_offset': 708, 'end_offset': 710},\n",
       "      {'position': 91, 'start_offset': 725, 'end_offset': 727},\n",
       "      {'position': 96, 'start_offset': 743, 'end_offset': 745},\n",
       "      {'position': 103, 'start_offset': 771, 'end_offset': 773},\n",
       "      {'position': 111, 'start_offset': 803, 'end_offset': 805},\n",
       "      {'position': 116, 'start_offset': 821, 'end_offset': 823}]},\n",
       "    'o': {'doc_freq': 1178,\n",
       "     'ttf': 64776,\n",
       "     'term_freq': 3,\n",
       "     'tokens': [{'position': 15, 'start_offset': 275, 'end_offset': 276},\n",
       "      {'position': 18, 'start_offset': 292, 'end_offset': 293},\n",
       "      {'position': 32, 'start_offset': 485, 'end_offset': 486}]},\n",
       "    'ocean': {'doc_freq': 1178,\n",
       "     'ttf': 64777,\n",
       "     'term_freq': 3,\n",
       "     'tokens': [{'position': 15, 'start_offset': 275, 'end_offset': 276},\n",
       "      {'position': 18, 'start_offset': 292, 'end_offset': 293},\n",
       "      {'position': 32, 'start_offset': 485, 'end_offset': 486}]},\n",
       "    'od': {'doc_freq': 1067,\n",
       "     'ttf': 16687,\n",
       "     'term_freq': 1,\n",
       "     'tokens': [{'position': 178, 'start_offset': 1365, 'end_offset': 1367}]},\n",
       "    'oda': {'doc_freq': 1067,\n",
       "     'ttf': 16687,\n",
       "     'term_freq': 1,\n",
       "     'tokens': [{'position': 178, 'start_offset': 1365, 'end_offset': 1367}]},\n",
       "    'ogłosić': {'doc_freq': 1058,\n",
       "     'ttf': 3660,\n",
       "     'term_freq': 1,\n",
       "     'tokens': [{'position': 180, 'start_offset': 1373, 'end_offset': 1383}]},\n",
       "    'ogłoszenie': {'doc_freq': 1009,\n",
       "     'ttf': 2391,\n",
       "     'term_freq': 1,\n",
       "     'tokens': [{'position': 180, 'start_offset': 1373, 'end_offset': 1383}]},\n",
       "    'ojciec': {'doc_freq': 1178,\n",
       "     'ttf': 64828,\n",
       "     'term_freq': 3,\n",
       "     'tokens': [{'position': 15, 'start_offset': 275, 'end_offset': 276},\n",
       "      {'position': 18, 'start_offset': 292, 'end_offset': 293},\n",
       "      {'position': 32, 'start_offset': 485, 'end_offset': 486}]},\n",
       "    'oraz': {'doc_freq': 1005,\n",
       "     'ttf': 33564,\n",
       "     'term_freq': 1,\n",
       "     'tokens': [{'position': 107, 'start_offset': 788, 'end_offset': 792}]},\n",
       "    'osoba': {'doc_freq': 755,\n",
       "     'ttf': 15185,\n",
       "     'term_freq': 1,\n",
       "     'tokens': [{'position': 134, 'start_offset': 965, 'end_offset': 970}]},\n",
       "    'otrzymywać': {'doc_freq': 768,\n",
       "     'ttf': 11319,\n",
       "     'term_freq': 1,\n",
       "     'tokens': [{'position': 122, 'start_offset': 849, 'end_offset': 858}]},\n",
       "    'państwowy': {'doc_freq': 504,\n",
       "     'ttf': 4445,\n",
       "     'term_freq': 3,\n",
       "     'tokens': [{'position': 19, 'start_offset': 294, 'end_offset': 304},\n",
       "      {'position': 33, 'start_offset': 487, 'end_offset': 497},\n",
       "      {'position': 130, 'start_offset': 921, 'end_offset': 931}]},\n",
       "    'po': {'doc_freq': 1071,\n",
       "     'ttf': 13547,\n",
       "     'term_freq': 1,\n",
       "     'tokens': [{'position': 174, 'start_offset': 1347, 'end_offset': 1349}]},\n",
       "    'podstawa': {'doc_freq': 746,\n",
       "     'ttf': 8631,\n",
       "     'term_freq': 1,\n",
       "     'tokens': [{'position': 149, 'start_offset': 1108, 'end_offset': 1117}]},\n",
       "    'poza': {'doc_freq': 298,\n",
       "     'ttf': 1166,\n",
       "     'term_freq': 1,\n",
       "     'tokens': [{'position': 139, 'start_offset': 1006, 'end_offset': 1010}]},\n",
       "    'pozycja': {'doc_freq': 1154,\n",
       "     'ttf': 45541,\n",
       "     'term_freq': 15,\n",
       "     'tokens': [{'position': 6, 'start_offset': 27, 'end_offset': 30},\n",
       "      {'position': 39, 'start_offset': 528, 'end_offset': 531},\n",
       "      {'position': 46, 'start_offset': 554, 'end_offset': 557},\n",
       "      {'position': 51, 'start_offset': 571, 'end_offset': 574},\n",
       "      {'position': 58, 'start_offset': 598, 'end_offset': 601},\n",
       "      {'position': 65, 'start_offset': 624, 'end_offset': 627},\n",
       "      {'position': 70, 'start_offset': 641, 'end_offset': 644},\n",
       "      {'position': 77, 'start_offset': 669, 'end_offset': 672},\n",
       "      {'position': 82, 'start_offset': 688, 'end_offset': 691},\n",
       "      {'position': 89, 'start_offset': 715, 'end_offset': 718},\n",
       "      {'position': 93, 'start_offset': 732, 'end_offset': 735},\n",
       "      {'position': 98, 'start_offset': 751, 'end_offset': 754},\n",
       "      {'position': 105, 'start_offset': 779, 'end_offset': 782},\n",
       "      {'position': 113, 'start_offset': 810, 'end_offset': 813},\n",
       "      {'position': 118, 'start_offset': 829, 'end_offset': 832}]},\n",
       "    'pożarny': {'doc_freq': 83,\n",
       "     'ttf': 562,\n",
       "     'term_freq': 3,\n",
       "     'tokens': [{'position': 21, 'start_offset': 312, 'end_offset': 320},\n",
       "      {'position': 35, 'start_offset': 505, 'end_offset': 513},\n",
       "      {'position': 132, 'start_offset': 939, 'end_offset': 947}]},\n",
       "    'prawny': {'doc_freq': 505,\n",
       "     'ttf': 4639,\n",
       "     'term_freq': 1,\n",
       "     'tokens': [{'position': 135, 'start_offset': 971, 'end_offset': 977}]},\n",
       "    'przez': {'doc_freq': 999,\n",
       "     'ttf': 20954,\n",
       "     'term_freq': 2,\n",
       "     'tokens': [{'position': 133, 'start_offset': 959, 'end_offset': 964},\n",
       "      {'position': 145, 'start_offset': 1063, 'end_offset': 1068}]},\n",
       "    'przeznaczyć': {'doc_freq': 444,\n",
       "     'ttf': 2881,\n",
       "     'term_freq': 1,\n",
       "     'tokens': [{'position': 163, 'start_offset': 1223, 'end_offset': 1235}]},\n",
       "    'rok': {'doc_freq': 1178,\n",
       "     'ttf': 42750,\n",
       "     'term_freq': 10,\n",
       "     'tokens': [{'position': 3, 'start_offset': 17, 'end_offset': 18},\n",
       "      {'position': 14, 'start_offset': 213, 'end_offset': 214},\n",
       "      {'position': 31, 'start_offset': 482, 'end_offset': 483},\n",
       "      {'position': 43, 'start_offset': 544, 'end_offset': 545},\n",
       "      {'position': 55, 'start_offset': 588, 'end_offset': 589},\n",
       "      {'position': 62, 'start_offset': 615, 'end_offset': 616},\n",
       "      {'position': 74, 'start_offset': 658, 'end_offset': 659},\n",
       "      {'position': 86, 'start_offset': 705, 'end_offset': 706},\n",
       "      {'position': 102, 'start_offset': 768, 'end_offset': 769},\n",
       "      {'position': 110, 'start_offset': 800, 'end_offset': 801}]},\n",
       "    'sierpień': {'doc_freq': 415,\n",
       "     'ttf': 1096,\n",
       "     'term_freq': 1,\n",
       "     'tokens': [{'position': 29, 'start_offset': 468, 'end_offset': 476}]},\n",
       "    'specjalny': {'doc_freq': 219,\n",
       "     'ttf': 1010,\n",
       "     'term_freq': 1,\n",
       "     'tokens': [{'position': 161, 'start_offset': 1203, 'end_offset': 1212}]},\n",
       "    'stanowić': {'doc_freq': 592,\n",
       "     'ttf': 4257,\n",
       "     'term_freq': 1,\n",
       "     'tokens': [{'position': 159, 'start_offset': 1187, 'end_offset': 1195}]},\n",
       "    'statutowy': {'doc_freq': 110,\n",
       "     'ttf': 255,\n",
       "     'term_freq': 1,\n",
       "     'tokens': [{'position': 166, 'start_offset': 1244, 'end_offset': 1253}]},\n",
       "    'straż': {'doc_freq': 158,\n",
       "     'ttf': 1866,\n",
       "     'term_freq': 3,\n",
       "     'tokens': [{'position': 20, 'start_offset': 305, 'end_offset': 311},\n",
       "      {'position': 34, 'start_offset': 498, 'end_offset': 504},\n",
       "      {'position': 131, 'start_offset': 932, 'end_offset': 938}]},\n",
       "    'straża': {'doc_freq': 147,\n",
       "     'ttf': 1715,\n",
       "     'term_freq': 3,\n",
       "     'tokens': [{'position': 20, 'start_offset': 305, 'end_offset': 311},\n",
       "      {'position': 34, 'start_offset': 498, 'end_offset': 504},\n",
       "      {'position': 131, 'start_offset': 932, 'end_offset': 938}]},\n",
       "    'szkoła': {'doc_freq': 206,\n",
       "     'ttf': 2308,\n",
       "     'term_freq': 2,\n",
       "     'tokens': [{'position': 129, 'start_offset': 913, 'end_offset': 920},\n",
       "      {'position': 167, 'start_offset': 1265, 'end_offset': 1270}]},\n",
       "    'ten': {'doc_freq': 848,\n",
       "     'ttf': 27177,\n",
       "     'term_freq': 1,\n",
       "     'tokens': [{'position': 157, 'start_offset': 1164, 'end_offset': 1168}]},\n",
       "    'to': {'doc_freq': 768,\n",
       "     'ttf': 14278,\n",
       "     'term_freq': 1,\n",
       "     'tokens': [{'position': 157, 'start_offset': 1164, 'end_offset': 1168}]},\n",
       "    'tytuł': {'doc_freq': 524,\n",
       "     'ttf': 3906,\n",
       "     'term_freq': 1,\n",
       "     'tokens': [{'position': 158, 'start_offset': 1169, 'end_offset': 1175}]},\n",
       "    'umowa': {'doc_freq': 548,\n",
       "     'ttf': 6517,\n",
       "     'term_freq': 1,\n",
       "     'tokens': [{'position': 151, 'start_offset': 1127, 'end_offset': 1132}]},\n",
       "    'umowy': {'doc_freq': 480,\n",
       "     'ttf': 4356,\n",
       "     'term_freq': 1,\n",
       "     'tokens': [{'position': 151, 'start_offset': 1127, 'end_offset': 1132}]},\n",
       "    'upływ': {'doc_freq': 893,\n",
       "     'ttf': 2741,\n",
       "     'term_freq': 1,\n",
       "     'tokens': [{'position': 175, 'start_offset': 1350, 'end_offset': 1357}]},\n",
       "    'ustawa': {'doc_freq': 1178,\n",
       "     'ttf': 24934,\n",
       "     'term_freq': 4,\n",
       "     'tokens': [{'position': 8, 'start_offset': 155, 'end_offset': 161},\n",
       "      {'position': 17, 'start_offset': 285, 'end_offset': 291},\n",
       "      {'position': 25, 'start_offset': 450, 'end_offset': 457},\n",
       "      {'position': 170, 'start_offset': 1324, 'end_offset': 1330}]},\n",
       "    'ustawowy': {'doc_freq': 203,\n",
       "     'ttf': 698,\n",
       "     'term_freq': 1,\n",
       "     'tokens': [{'position': 141, 'start_offset': 1029, 'end_offset': 1039}]},\n",
       "    'uzyskać': {'doc_freq': 507,\n",
       "     'ttf': 3655,\n",
       "     'term_freq': 1,\n",
       "     'tokens': [{'position': 155, 'start_offset': 1153, 'end_offset': 1161}]},\n",
       "    'w': {'doc_freq': 1178,\n",
       "     'ttf': 202945,\n",
       "     'term_freq': 2,\n",
       "     'tokens': [{'position': 24, 'start_offset': 448, 'end_offset': 449},\n",
       "      {'position': 172, 'start_offset': 1339, 'end_offset': 1340}]},\n",
       "    'wchodzić': {'doc_freq': 1176,\n",
       "     'ttf': 2545,\n",
       "     'term_freq': 1,\n",
       "     'tokens': [{'position': 171, 'start_offset': 1331, 'end_offset': 1338}]},\n",
       "    'wiek': {'doc_freq': 1178,\n",
       "     'ttf': 201638,\n",
       "     'term_freq': 2,\n",
       "     'tokens': [{'position': 24, 'start_offset': 448, 'end_offset': 449},\n",
       "      {'position': 172, 'start_offset': 1339, 'end_offset': 1340}]},\n",
       "    'wykonywać': {'doc_freq': 586,\n",
       "     'ttf': 8335,\n",
       "     'term_freq': 1,\n",
       "     'tokens': [{'position': 126, 'start_offset': 885, 'end_offset': 896}]},\n",
       "    'wykraczający': {'doc_freq': 18,\n",
       "     'ttf': 27,\n",
       "     'term_freq': 1,\n",
       "     'tokens': [{'position': 138, 'start_offset': 991, 'end_offset': 1005}]},\n",
       "    'wykraczać': {'doc_freq': 50,\n",
       "     'ttf': 77,\n",
       "     'term_freq': 1,\n",
       "     'tokens': [{'position': 138, 'start_offset': 991, 'end_offset': 1005}]},\n",
       "    'właściwy': {'doc_freq': 720,\n",
       "     'ttf': 14021,\n",
       "     'term_freq': 1,\n",
       "     'tokens': [{'position': 146, 'start_offset': 1069, 'end_offset': 1079}]},\n",
       "    'z': {'doc_freq': 1178,\n",
       "     'ttf': 87986,\n",
       "     'term_freq': 11,\n",
       "     'tokens': [{'position': 1, 'start_offset': 10, 'end_offset': 11},\n",
       "      {'position': 9, 'start_offset': 189, 'end_offset': 190},\n",
       "      {'position': 26, 'start_offset': 458, 'end_offset': 459},\n",
       "      {'position': 41, 'start_offset': 537, 'end_offset': 538},\n",
       "      {'position': 53, 'start_offset': 581, 'end_offset': 582},\n",
       "      {'position': 60, 'start_offset': 608, 'end_offset': 609},\n",
       "      {'position': 72, 'start_offset': 651, 'end_offset': 652},\n",
       "      {'position': 84, 'start_offset': 698, 'end_offset': 699},\n",
       "      {'position': 100, 'start_offset': 761, 'end_offset': 762},\n",
       "      {'position': 108, 'start_offset': 793, 'end_offset': 794},\n",
       "      {'position': 156, 'start_offset': 1162, 'end_offset': 1163}]},\n",
       "    'zadanie': {'doc_freq': 485,\n",
       "     'ttf': 4655,\n",
       "     'term_freq': 2,\n",
       "     'tokens': [{'position': 127, 'start_offset': 897, 'end_offset': 902},\n",
       "      {'position': 142, 'start_offset': 1040, 'end_offset': 1045}]},\n",
       "    'zakres': {'doc_freq': 709,\n",
       "     'ttf': 9292,\n",
       "     'term_freq': 1,\n",
       "     'tokens': [{'position': 140, 'start_offset': 1011, 'end_offset': 1017}]},\n",
       "    'zawarty': {'doc_freq': 439,\n",
       "     'ttf': 1780,\n",
       "     'term_freq': 1,\n",
       "     'tokens': [{'position': 150, 'start_offset': 1118, 'end_offset': 1126}]},\n",
       "    'zawrzeć': {'doc_freq': 492,\n",
       "     'ttf': 2899,\n",
       "     'term_freq': 1,\n",
       "     'tokens': [{'position': 150, 'start_offset': 1118, 'end_offset': 1126}]},\n",
       "    'zleceniodawca': {'doc_freq': 19,\n",
       "     'ttf': 67,\n",
       "     'term_freq': 1,\n",
       "     'tokens': [{'position': 147, 'start_offset': 1080, 'end_offset': 1093}]},\n",
       "    'zlecić': {'doc_freq': 224,\n",
       "     'ttf': 725,\n",
       "     'term_freq': 1,\n",
       "     'tokens': [{'position': 128, 'start_offset': 903, 'end_offset': 912}]},\n",
       "    'zmiana': {'doc_freq': 982,\n",
       "     'ttf': 7151,\n",
       "     'term_freq': 1,\n",
       "     'tokens': [{'position': 16, 'start_offset': 277, 'end_offset': 284}]},\n",
       "    'środek': {'doc_freq': 595,\n",
       "     'ttf': 8069,\n",
       "     'term_freq': 2,\n",
       "     'tokens': [{'position': 153, 'start_offset': 1136, 'end_offset': 1142},\n",
       "      {'position': 160, 'start_offset': 1196, 'end_offset': 1202}]},\n",
       "    'środki': {'doc_freq': 576,\n",
       "     'ttf': 6793,\n",
       "     'term_freq': 2,\n",
       "     'tokens': [{'position': 153, 'start_offset': 1136, 'end_offset': 1142},\n",
       "      {'position': 160, 'start_offset': 1196, 'end_offset': 1202}]},\n",
       "    'życie': {'doc_freq': 1178,\n",
       "     'ttf': 5243,\n",
       "     'term_freq': 1,\n",
       "     'tokens': [{'position': 173, 'start_offset': 1341, 'end_offset': 1346}]},\n",
       "    'żyto': {'doc_freq': 1175,\n",
       "     'ttf': 4439,\n",
       "     'term_freq': 1,\n",
       "     'tokens': [{'position': 173, 'start_offset': 1341, 'end_offset': 1346}]},\n",
       "    'żyć': {'doc_freq': 1178,\n",
       "     'ttf': 5286,\n",
       "     'term_freq': 1,\n",
       "     'tokens': [{'position': 173,\n",
       "       'start_offset': 1341,\n",
       "       'end_offset': 1346}]}}}}}"
      ]
     },
     "execution_count": 353,
     "metadata": {},
     "output_type": "execute_result"
    }
   ],
   "source": [
    "occurences_termv"
   ]
  },
  {
   "cell_type": "code",
   "execution_count": 452,
   "metadata": {},
   "outputs": [],
   "source": [
    "# Above structure allow to define path to a specific word\n",
    "\n",
    "def get_occurences_tm(document_id, word, index=\"polish_bills\"):\n",
    "    \"\"\"\n",
    "    The information is only retrieved for the shard the requested document resides in.\n",
    "    resp looks like: {'term_vectors': {'content': {'terms': {'ustawa': {'ttf': 24934}}}}\n",
    "    Specify only one document id per shard to retrieve complete statistics about docs in specific shard.\n",
    "    \"\"\"\n",
    "    \n",
    "    resp = es.termvectors(\n",
    "        index=index,\n",
    "        id=document_id,\n",
    "        fields=['content'], # specified in the mapping section\n",
    "        filter_path=[f'term_vectors.content.terms.{word}.ttf'],\n",
    "        term_statistics=True\n",
    "    )\n",
    "    \n",
    "    if resp:\n",
    "        return resp['term_vectors']['content']['terms'][f\"{word}\"]['ttf']\n",
    "    return \"Not fetched. Emtpy response from TM API\""
   ]
  },
  {
   "cell_type": "code",
   "execution_count": 453,
   "metadata": {},
   "outputs": [
    {
     "data": {
      "text/plain": [
       "24934"
      ]
     },
     "execution_count": 453,
     "metadata": {},
     "output_type": "execute_result"
    }
   ],
   "source": [
    "get_occurences_tm('2001_874.txt', word=\"ustawa\") # Zadziała, gdyż wszystkie dokumenty są w jednym shard"
   ]
  },
  {
   "cell_type": "markdown",
   "metadata": {},
   "source": [
    "#### 8. Determine the number of occurrences of the word ustaw by searching for this particular form, including the other inflectional forms."
   ]
  },
  {
   "cell_type": "code",
   "execution_count": 454,
   "metadata": {},
   "outputs": [
    {
     "data": {
      "text/plain": [
       "'Not fetched. Emtpy response from TM API'"
      ]
     },
     "execution_count": 454,
     "metadata": {},
     "output_type": "execute_result"
    }
   ],
   "source": [
    "get_occurences_tm('2001_874.txt', word=\"ustaw\")"
   ]
  },
  {
   "cell_type": "code",
   "execution_count": 455,
   "metadata": {},
   "outputs": [
    {
     "data": {
      "text/plain": [
       "[{'token': 'ustawa',\n",
       "  'start_offset': 0,\n",
       "  'end_offset': 5,\n",
       "  'type': '<ALPHANUM>',\n",
       "  'position': 0},\n",
       " {'token': 'ustawić',\n",
       "  'start_offset': 0,\n",
       "  'end_offset': 5,\n",
       "  'type': '<ALPHANUM>',\n",
       "  'position': 0}]"
      ]
     },
     "execution_count": 455,
     "metadata": {},
     "output_type": "execute_result"
    }
   ],
   "source": [
    "# body – Define analyzer/tokenizer parameters and the text on which the analysis should be performed\n",
    "r = es.indices.analyze(\n",
    "    index=\"polish_bills\",\n",
    "    body={\n",
    "        'analyzer': \"polish_bills_analyzer\",\n",
    "        'text': 'ustaw'}\n",
    ")\n",
    "\n",
    "r['tokens']"
   ]
  },
  {
   "cell_type": "code",
   "execution_count": 456,
   "metadata": {},
   "outputs": [],
   "source": [
    "def find_alhpanum_word_form(\n",
    "    word:str,\n",
    "    analyzer=\"polish_bills_analyzer\",\n",
    "    index=\"polish_bills\"\n",
    "):\n",
    "    resp = es.indices.analyze(\n",
    "        index=index,\n",
    "        body={\n",
    "            'analyzer': analyzer,\n",
    "            'text': word\n",
    "        }\n",
    "    )\n",
    "\n",
    "    return [body['token'] for body in resp['tokens']]"
   ]
  },
  {
   "cell_type": "code",
   "execution_count": 457,
   "metadata": {},
   "outputs": [
    {
     "data": {
      "text/plain": [
       "['ustawa', 'ustawić']"
      ]
     },
     "execution_count": 457,
     "metadata": {},
     "output_type": "execute_result"
    }
   ],
   "source": [
    "ustaw_forms = find_alhpanum_word_form(word='ustaw')\n",
    "ustaw_forms"
   ]
  },
  {
   "cell_type": "code",
   "execution_count": 458,
   "metadata": {},
   "outputs": [],
   "source": [
    "ustaw_results = dict.fromkeys(ustaw_forms, 0)\n",
    "\n",
    "for form in ustaw_forms:\n",
    "    ustaw_results[form] = get_occurences_tm('2001_874.txt', word=form)"
   ]
  },
  {
   "cell_type": "code",
   "execution_count": 461,
   "metadata": {},
   "outputs": [
    {
     "data": {
      "text/plain": [
       "'Not fetched. Emtpy response from TM API'"
      ]
     },
     "execution_count": 461,
     "metadata": {},
     "output_type": "execute_result"
    }
   ],
   "source": [
    "get_occurences_tm('2001_874.txt', word=\"ustawić\") "
   ]
  },
  {
   "cell_type": "code",
   "execution_count": 473,
   "metadata": {},
   "outputs": [],
   "source": [
    "resp = es.termvectors(\n",
    "    index=\"polish_bills\",\n",
    "    id='2001_874.txt',\n",
    "    fields=['content'], # specified in the mapping section\n",
    "    # filter_path=[f'term_vectors.content.terms.ustawić.ttf'],\n",
    "    term_statistics=True\n",
    ")"
   ]
  },
  {
   "cell_type": "code",
   "execution_count": 474,
   "metadata": {},
   "outputs": [
    {
     "ename": "KeyError",
     "evalue": "'ustawić'",
     "output_type": "error",
     "traceback": [
      "\u001b[0;31m---------------------------------------------------------------------------\u001b[0m",
      "\u001b[0;31mKeyError\u001b[0m                                  Traceback (most recent call last)",
      "Input \u001b[0;32mIn [474]\u001b[0m, in \u001b[0;36m<cell line: 1>\u001b[0;34m()\u001b[0m\n\u001b[0;32m----> 1\u001b[0m \u001b[43mresp\u001b[49m\u001b[43m[\u001b[49m\u001b[38;5;124;43m'\u001b[39;49m\u001b[38;5;124;43mterm_vectors\u001b[39;49m\u001b[38;5;124;43m'\u001b[39;49m\u001b[43m]\u001b[49m\u001b[43m[\u001b[49m\u001b[38;5;124;43m'\u001b[39;49m\u001b[38;5;124;43mcontent\u001b[39;49m\u001b[38;5;124;43m'\u001b[39;49m\u001b[43m]\u001b[49m\u001b[43m[\u001b[49m\u001b[38;5;124;43m'\u001b[39;49m\u001b[38;5;124;43mterms\u001b[39;49m\u001b[38;5;124;43m'\u001b[39;49m\u001b[43m]\u001b[49m\u001b[43m[\u001b[49m\u001b[38;5;124;43m'\u001b[39;49m\u001b[38;5;124;43mustawić\u001b[39;49m\u001b[38;5;124;43m'\u001b[39;49m\u001b[43m]\u001b[49m\n",
      "\u001b[0;31mKeyError\u001b[0m: 'ustawić'"
     ]
    }
   ],
   "source": [
    "resp['term_vectors']['content']['terms']['ustawić']"
   ]
  },
  {
   "cell_type": "code",
   "execution_count": 478,
   "metadata": {},
   "outputs": [
    {
     "data": {
      "text/plain": [
       "{'doc_freq': 378,\n",
       " 'ttf': 913,\n",
       " 'term_freq': 1,\n",
       " 'tokens': [{'position': 3112, 'start_offset': 24864, 'end_offset': 24869}]}"
      ]
     },
     "execution_count": 478,
     "metadata": {},
     "output_type": "execute_result"
    }
   ],
   "source": [
    "resp = es.termvectors(\n",
    "    index=\"polish_bills\",\n",
    "    id='1993_599.txt',\n",
    "    fields=['content'], # specified in the mapping section\n",
    "    # filter_path=[f'term_vectors.content.terms.ustawić.ttf'],\n",
    "    term_statistics=True\n",
    ")\n",
    "resp['term_vectors']['content']['terms']['ustawić']\n",
    "\n",
    "# Conclusion: our base document should contain that word in order to fetch\n",
    "# its statistics across the entire index."
   ]
  },
  {
   "cell_type": "code",
   "execution_count": 479,
   "metadata": {},
   "outputs": [],
   "source": [
    "for form in ustaw_forms:\n",
    "    ustaw_results[form] = get_occurences_tm('1993_599.txt', word=form)"
   ]
  },
  {
   "cell_type": "code",
   "execution_count": 480,
   "metadata": {},
   "outputs": [
    {
     "data": {
      "text/plain": [
       "{'ustawa': 24934, 'ustawić': 913}"
      ]
     },
     "execution_count": 480,
     "metadata": {},
     "output_type": "execute_result"
    }
   ],
   "source": [
    "ustaw_results"
   ]
  },
  {
   "cell_type": "code",
   "execution_count": 483,
   "metadata": {},
   "outputs": [
    {
     "data": {
      "text/plain": [
       "25847"
      ]
     },
     "execution_count": 483,
     "metadata": {},
     "output_type": "execute_result"
    }
   ],
   "source": [
    "sum(ustaw_results.values())"
   ]
  },
  {
   "cell_type": "markdown",
   "metadata": {},
   "source": [
    "#### Classical approach."
   ]
  },
  {
   "cell_type": "code",
   "execution_count": 526,
   "metadata": {},
   "outputs": [
    {
     "name": "stderr",
     "output_type": "stream",
     "text": [
      "/var/folders/v2/tn30zgm13l364d0wn_b2lr0w0000gn/T/ipykernel_74491/3347828747.py:13: DeprecationWarning: The 'body' parameter is deprecated for the 'search' API and will be removed in a future version. Instead use API parameters directly. See https://github.com/elastic/elasticsearch-py/issues/1698 for more information\n",
      "  result = es.search(body=query, index='polish_bills')\n"
     ]
    },
    {
     "name": "stdout",
     "output_type": "stream",
     "text": [
      "25847\n"
     ]
    }
   ],
   "source": [
    "query = {\n",
    "    \"query\": {\n",
    "        \"match\": {\n",
    "            \"content\": \"ustaw\"\n",
    "        }\n",
    "    },\n",
    "    \"size\": 1178,\n",
    "    \"_source\": False,\n",
    "    \"explain\": True\n",
    "}\n",
    "\n",
    "\n",
    "result = es.search(body=query, index='polish_bills')\n",
    "\n",
    "documents = list(result['hits']['hits'])\n",
    "\n",
    "occurences = int(sum(map(\n",
    "    lambda x: get_occurences(x),\n",
    "    documents\n",
    ")))\n",
    "\n",
    "print(occurences)"
   ]
  },
  {
   "cell_type": "markdown",
   "metadata": {},
   "source": [
    "#### 9. Determine the number of legislative acts containing the words kodeks postępowania cywilnego in the specified order, but in any inflection form."
   ]
  },
  {
   "cell_type": "code",
   "execution_count": 536,
   "metadata": {},
   "outputs": [
    {
     "name": "stdout",
     "output_type": "stream",
     "text": [
      "Using es.count: 99\n",
      "Using es.search: 99\n"
     ]
    },
    {
     "name": "stderr",
     "output_type": "stream",
     "text": [
      "/var/folders/v2/tn30zgm13l364d0wn_b2lr0w0000gn/T/ipykernel_74491/850778928.py:21: DeprecationWarning: The 'body' parameter is deprecated for the 'search' API and will be removed in a future version. Instead use API parameters directly. See https://github.com/elastic/elasticsearch-py/issues/1698 for more information\n",
      "  result = es.search(body=query, index='polish_bills')\n"
     ]
    }
   ],
   "source": [
    "query = {\n",
    "    \"query\": {\n",
    "        \"match\": {\n",
    "            \"content\": \"kodeks postępowania cywilnego\"\n",
    "        }\n",
    "    }\n",
    "}\n",
    "\n",
    "result = es.count(body=query, index='polish_bills')\n",
    "print(f\"Using es.count: {result['count']}\")\n",
    "\n",
    "\n",
    "query = {\n",
    "    \"query\": {\n",
    "        \"match\": {\n",
    "            \"content\": \"kodeks postępowania cywilnego\"\n",
    "        }\n",
    "    }\n",
    "}\n",
    "\n",
    "result = es.search(body=query, index='polish_bills')\n",
    "print(f\"Using es.search: {result['hits']['total']['value']}\")"
   ]
  },
  {
   "cell_type": "markdown",
   "metadata": {},
   "source": [
    "#### 10. Determine the number of legislative acts containing the words wchodzi w życie (in any form) allowing for up to 2 additional words in the searched phrase."
   ]
  },
  {
   "cell_type": "code",
   "execution_count": 543,
   "metadata": {},
   "outputs": [
    {
     "name": "stdout",
     "output_type": "stream",
     "text": [
      "Using es.count: 1174\n"
     ]
    }
   ],
   "source": [
    "no_additional_words = 2\n",
    "\n",
    "query = {\n",
    "    \"query\": {\n",
    "        \"match_phrase\": {\n",
    "            \"content\": {\n",
    "                \"query\": \"wchodzi w życie\",\n",
    "                \"slop\": no_additional_words\n",
    "            }\n",
    "        }\n",
    "    }\n",
    "}\n",
    "\n",
    "result = es.count(body=query, index='polish_bills')\n",
    "print(f\"Using es.count: {result['count']}\")"
   ]
  },
  {
   "cell_type": "markdown",
   "metadata": {},
   "source": [
    "#### 11. Determine the 10 documents that are the most relevant for the phrase konstytucja."
   ]
  },
  {
   "cell_type": "code",
   "execution_count": 546,
   "metadata": {},
   "outputs": [
    {
     "data": {
      "text/plain": [
       "[{'_id': '1997_629.txt', '_score': 6.867639},\n",
       " {'_id': '2000_443.txt', '_score': 6.6627645},\n",
       " {'_id': '1997_604.txt', '_score': 6.632078},\n",
       " {'_id': '1996_350.txt', '_score': 6.626821},\n",
       " {'_id': '1997_642.txt', '_score': 6.2516394},\n",
       " {'_id': '2001_23.txt', '_score': 6.057972},\n",
       " {'_id': '1996_199.txt', '_score': 5.9280615},\n",
       " {'_id': '1999_688.txt', '_score': 5.849732},\n",
       " {'_id': '2001_1082.txt', '_score': 5.466578},\n",
       " {'_id': '1997_681.txt', '_score': 5.466578}]"
      ]
     },
     "execution_count": 546,
     "metadata": {},
     "output_type": "execute_result"
    }
   ],
   "source": [
    "query = {\n",
    "    \"match\": {\n",
    "        \"content\": \"konstytucja\"\n",
    "    }\n",
    "}\n",
    "\n",
    "resp = es.search(\n",
    "    index=\"polish_bills\",\n",
    "    query=query,\n",
    "    filter_path=[\"hits.hits._id\", \"hits.hits._score\"],\n",
    "    size=10\n",
    ")\n",
    "\n",
    "resp['hits']['hits']"
   ]
  },
  {
   "cell_type": "markdown",
   "metadata": {},
   "source": [
    "#### 12. print the excerpts containing the word konstytucja (up to three excerpts per document) from the previous task."
   ]
  },
  {
   "cell_type": "code",
   "execution_count": 550,
   "metadata": {},
   "outputs": [
    {
     "name": "stdout",
     "output_type": "stream",
     "text": [
      "[{'_id': '1997_629.txt',\n",
      "  'highlight': {'content': ['o zmianie ustawy konstytucyjnej o trybie '\n",
      "                            'przygotowania\\n'\n",
      "                            '           i uchwalenia <em>Konstytucji</em> '\n",
      "                            'Rzeczypospolitej',\n",
      "                            'W ustawie  konstytucyjnej z  dnia 23 kwietnia '\n",
      "                            '1992 r. o trybie przygotowania i \\n'\n",
      "                            'uchwalenia <em>Konstytucji</em>',\n",
      "                            'Do zgłoszenia projektu <em>Konstytucji</em> '\n",
      "                            'załącza się wykaz \\n'\n",
      "                            '                obywateli popierających '\n",
      "                            'zgłoszenie']}},\n",
      " {'_id': '2000_443.txt',\n",
      "  'highlight': {'content': ['umowy międzynarodowej i nie wypełnia przesłanek '\n",
      "                            'określonych w art. 89\\n'\n",
      "                            '     ust. 1 lub art. 90 <em>Konstytucji</em>',\n",
      "                            'międzynarodowej lub załącznika nie\\n'\n",
      "                            '     wypełnia przesłanek określonych w art. 89 '\n",
      "                            'ust. 1 lub art. 90 <em>Konstytucji</em>',\n",
      "                            'co do zasadności wyboru\\n'\n",
      "                            '  trybu ratyfikacji umowy międzynarodowej, o '\n",
      "                            'którym mowa w art. 89 ust. 2\\n'\n",
      "                            '  <em>Konstytucji</em>']}},\n",
      " {'_id': '1997_604.txt',\n",
      "  'highlight': {'content': ['Jeżeli Trybunał Konstytucyjny wyda orzeczenie o '\n",
      "                            'sprzeczności celów partii \\n'\n",
      "                            '   politycznej z <em>Konstytucją</em>',\n",
      "                            'Jeżeli Trybunał Konstytucyjny wyda orzeczenie o '\n",
      "                            'sprzeczności z <em>Konstytucją</em>\\n'\n",
      "                            '   celów lub działalności',\n",
      "                            'Ciężar udowodnienia niezgodności z '\n",
      "                            '<em>Konstytucją</em> spoczywa\\n'\n",
      "                            '                na wnioskodawcy, który w tym']}},\n",
      " {'_id': '1996_350.txt',\n",
      "  'highlight': {'content': ['Za naruszenie <em>Konstytucji</em> lub ustawy, w '\n",
      "                            'związku z zajmowanym\\n'\n",
      "                            '              stanowiskiem lub w zakresie',\n",
      "                            'W zakresie określonym w art. 107 '\n",
      "                            '<em>Konstytucji</em> odpowiedzialność przed\\n'\n",
      "                            '           Trybunałem Stanu ponoszą',\n",
      "                            'Członkowie Rady Ministrów ponoszą '\n",
      "                            'odpowiedzialność przed Trybunałem\\n'\n",
      "                            '           Stanu za naruszenie '\n",
      "                            '<em>Konstytucji</em>']}},\n",
      " {'_id': '1997_642.txt',\n",
      "  'highlight': {'content': ['wnioskami o:\\n'\n",
      "                            '             1) stwierdzenie zgodności ustaw i '\n",
      "                            'umów międzynarodowych z\\n'\n",
      "                            '               <em>Konstytucją</em>',\n",
      "                            'stwierdzenie zgodności przepisów prawa wydawanych '\n",
      "                            'przez\\n'\n",
      "                            '               centralne organy państwowe, z '\n",
      "                            '<em>Konstytucją</em>',\n",
      "                            'ratyfikowanymi\\n'\n",
      "                            '               umowami międzynarodowymi i '\n",
      "                            'ustawami,\\n'\n",
      "                            '             4) stwierdzenie zgodności z '\n",
      "                            '<em>Konstytucją</em>']}},\n",
      " {'_id': '2001_23.txt',\n",
      "  'highlight': {'content': ['W Dzienniku Ustaw Rzeczypospolitej Polskiej, '\n",
      "                            'zwanym dalej \"Dziennikiem\\n'\n",
      "                            '  Ustaw\", ogłasza się:\\n'\n",
      "                            '   1) <em>Konstytucję</em>',\n",
      "                            'akty prawne dotyczące:\\n'\n",
      "                            '   1) stanu wojny i zawarcia pokoju,\\n'\n",
      "                            '   2) referendum zatwierdzającego zmianę '\n",
      "                            '<em>Konstytucji</em>',\n",
      "                            'ministra, któremu Sejm wyraził wotum nieufności,\\n'\n",
      "                            '     h) powoływania lub odwoływania na określone '\n",
      "                            'w <em>Konstytucji</em>']}},\n",
      " {'_id': '1996_199.txt',\n",
      "  'highlight': {'content': ['2c i art. 9-11 ustawy konstytucyjnej z dnia 23 '\n",
      "                            'kwietnia \\n'\n",
      "                            '1992 r. o trybie przygotowania i uchwalenia '\n",
      "                            '<em>Konstytucji</em>',\n",
      "                            'Prezydent Rzeczypospolitej Polskiej zarządza '\n",
      "                            'poddanie <em>Konstytucji</em> pod referendum\\n'\n",
      "                            '   w trybie określonym',\n",
      "                            'Przyjęcie w referendum <em>Konstytucji</em> '\n",
      "                            'następuje wówczas, gdy opowiedziała \\n'\n",
      "                            '   się za nią większość biorących']}},\n",
      " {'_id': '1999_688.txt',\n",
      "  'highlight': {'content': ['postępowania w sprawie wykonywania inicjatywy\\n'\n",
      "                            'ustawodawczej przez obywateli, o której mowa w '\n",
      "                            'art. 118 ust. 2 <em>Konstytucji</em>',\n",
      "                            'Projekt ustawy nie może dotyczyć spraw, dla '\n",
      "                            'których <em>Konstytucja</em>\\n'\n",
      "                            'Rzeczypospolitej Polskiej zastrzega wyłączną',\n",
      "                            'Projekt ustawy wniesiony do Marszałka Sejmu '\n",
      "                            'powinien odpowiadać wymogom\\n'\n",
      "                            '  zawartym w <em>Konstytucji</em> i '\n",
      "                            'Regulaminie']}},\n",
      " {'_id': '2001_1082.txt',\n",
      "  'highlight': {'content': ['Krajowa Rada Sądownictwa, zwana dalej \"Radą\", '\n",
      "                            'realizuje cele określone w\\n'\n",
      "                            '  <em>Konstytucji</em> Rzeczypospolitej',\n",
      "                            ') podejmuje uchwały w sprawach wystąpienia do '\n",
      "                            'Trybunału Konstytucyjnego o\\n'\n",
      "                            '     zbadanie zgodności z <em>Konstytucją</em>']}},\n",
      " {'_id': '1997_681.txt',\n",
      "  'highlight': {'content': ['Rzecznik Praw Dziecka, zwany dalej Rzecznikiem, '\n",
      "                            'stoi na straży praw dziecka\\n'\n",
      "                            '  określonych w <em>Konstytucji</em>',\n",
      "                            'uroczyście, że przy wykonywaniu powierzonych mi '\n",
      "                            'obowiązków\\n'\n",
      "                            '     Rzecznika Praw Dziecka dochowam wierności '\n",
      "                            '<em>Konstytucji</em>']}}]\n"
     ]
    }
   ],
   "source": [
    "query = {\n",
    "    \"match\": {\n",
    "        \"content\": \"konstytucja\"\n",
    "    }\n",
    "}\n",
    "\n",
    "highlight = {\n",
    "    \"fields\": {\n",
    "        \"content\": {\n",
    "           \"number_of_fragments\" : 3\n",
    "        }\n",
    "    }\n",
    "}\n",
    "\n",
    "resp = es.search(\n",
    "    index=\"polish_bills\",\n",
    "    query=query,\n",
    "    highlight=highlight,\n",
    "    filter_path=[\"hits.hits._id\", \"hits.hits.highlight\"],\n",
    "    size=10\n",
    ")\n",
    "\n",
    "from pprint import pprint\n",
    "pprint(resp['hits']['hits'])"
   ]
  },
  {
   "cell_type": "code",
   "execution_count": null,
   "metadata": {},
   "outputs": [],
   "source": []
  }
 ],
 "metadata": {
  "kernelspec": {
   "display_name": "Python 3 (ipykernel)",
   "language": "python",
   "name": "python3"
  },
  "language_info": {
   "codemirror_mode": {
    "name": "ipython",
    "version": 3
   },
   "file_extension": ".py",
   "mimetype": "text/x-python",
   "name": "python",
   "nbconvert_exporter": "python",
   "pygments_lexer": "ipython3",
   "version": "3.10.5"
  },
  "vscode": {
   "interpreter": {
    "hash": "16ce62d89139d6b459a4fa414ee333754219537208081da9003b7fab6a6c11db"
   }
  }
 },
 "nbformat": 4,
 "nbformat_minor": 2
}
